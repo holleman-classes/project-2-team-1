{
 "cells": [
  {
   "cell_type": "markdown",
   "id": "4f98bbad",
   "metadata": {},
   "source": [
    "# Audio Capture & Augmentation\n",
    "#### Author: Jeromey Schwartz\n",
    "#### *Audio capture code (indicated with *) supplied by Dr. Jeremy Holleman UNC-Charlotte "
   ]
  },
  {
   "cell_type": "markdown",
   "id": "0e85322b",
   "metadata": {},
   "source": [
    "### Purpose:\n",
    "This will record an audio sample 1 second long at a sampling rate of 16kHz, the samples can then be augmented by adding noise, pitch shifting, or time shifting "
   ]
  },
  {
   "cell_type": "markdown",
   "id": "3d0398a4",
   "metadata": {},
   "source": [
    "### Program Flow:\n",
    "1. Load libraries/setup code \n",
    "2. Save a number of audio samples \n",
    "3. Save ambient noise samples \n",
    "4. Noise shift \n",
    "5. Time shift \n",
    "6. Pitch shift \n",
    "7. Save samples names in validation document "
   ]
  },
  {
   "cell_type": "raw",
   "id": "dd7b44af",
   "metadata": {},
   "source": []
  },
  {
   "cell_type": "markdown",
   "id": "4914f189",
   "metadata": {},
   "source": [
    "#### Import libraries"
   ]
  },
  {
   "cell_type": "code",
   "execution_count": 3,
   "id": "4a0c1da4",
   "metadata": {},
   "outputs": [],
   "source": [
    "import os\n",
    "os.environ['PY_SSIZE_T_CLEAN'] = '1'\n",
    "\n",
    "import tensorflow as tf\n",
    "from tensorflow.lite.experimental.microfrontend.python.ops import audio_microfrontend_op as frontend_op\n",
    "import numpy as np\n",
    "import time\n",
    "from scipy.io import wavfile\n",
    "import random\n",
    "import sys\n",
    "import io\n",
    "import os\n",
    "import pathlib\n",
    "import glob\n",
    "from datetime import datetime as dt\n",
    "from numpy import log as ln\n",
    "import matplotlib.mlab as mlab\n",
    "import matplotlib.pyplot as plt\n",
    "from scipy.io.wavfile import write\n",
    "import IPython\n",
    "import IPython.display as ipd\n",
    "import tensorflow as tf\n",
    "%matplotlib inline\n",
    "import pyaudio\n",
    "from queue import Queue\n",
    "from threading import Thread\n",
    "import math\n",
    "import time\n",
    "import librosa"
   ]
  },
  {
   "cell_type": "markdown",
   "id": "1d93e449",
   "metadata": {},
   "source": [
    "#### Set Parameters*"
   ]
  },
  {
   "cell_type": "code",
   "execution_count": 4,
   "id": "4e632d52",
   "metadata": {},
   "outputs": [],
   "source": [
    "i16min            = -32768\n",
    "i16max            = 32767\n",
    "fsamp             = 16000\n",
    "wave_length_ms    = 1000\n",
    "wave_length_samps = 16000\n",
    "window_size_ms    = 60\n",
    "window_step_ms    = 40\n",
    "num_filters       = 32\n",
    "use_microfrontend = True\n",
    "keyword        = 'computer'#####Insert your keyword\n",
    "spectrogram_shape = (64, 24, 32, 1)\n",
    "\n",
    "chunk_duration = 0.25 # Each read length in seconds from mic.\n",
    "fs = 16000 # sampling rate for mic\n",
    "sample_rate = 16000 # sampling rate for mic\n",
    "chunk_samples = int(fs * chunk_duration) # Each read length in number of samples.\n",
    "\n",
    "# Each model input data duration in seconds, need to be an integer numbers of chunk_duration\n",
    "feed_duration = 1.0\n",
    "feed_samples = int(fs * feed_duration)\n",
    "\n",
    "assert feed_duration/chunk_duration == int(feed_duration/chunk_duration)"
   ]
  },
  {
   "cell_type": "markdown",
   "id": "b1b6456e",
   "metadata": {},
   "source": [
    "#### Create keyword & noise folders*"
   ]
  },
  {
   "cell_type": "code",
   "execution_count": 6,
   "id": "86b7bdf9",
   "metadata": {},
   "outputs": [
    {
     "name": "stdout",
     "output_type": "stream",
     "text": [
      "/home/david/Documents/GitHub/project-2-team-1/data/custom-speech/computer/\n",
      "Directory 'computer' created\n",
      "Directory 'noise' created\n"
     ]
    }
   ],
   "source": [
    "import os\n",
    "\n",
    "# Define the path to the parent directory\n",
    "parent_dir = os.getcwd()\n",
    "parent_dir = os.path.join(parent_dir, \"data/custom-speech\")\n",
    "\n",
    "# Get the name of the current keyword\n",
    "keyword = \"computer\"\n",
    "\n",
    "# Create the folder name and path\n",
    "folder = keyword\n",
    "dir = os.path.join(parent_dir, folder)\n",
    "\n",
    "# Create the directories if they do not exist\n",
    "if not os.path.exists(dir):\n",
    "    os.mkdir(dir)\n",
    "\n",
    "folder = keyword\n",
    "dir = os.path.join(parent_dir, folder)\n",
    "noise_dir = os.path.join(parent_dir, \"noise\")\n",
    "\n",
    "if not os.path.exists(dir):\n",
    "    os.mkdir(dir)\n",
    "\n",
    "if not os.path.exists(noise_dir):\n",
    "    os.mkdir(noise_dir)\n",
    "\n",
    "keyword_directory = dir + '/'\n",
    "print(keyword_directory)\n",
    "\n",
    "# Check if the directories were created\n",
    "if os.path.exists(os.path.join(parent_dir, \"computer\")):\n",
    "    print(\"Directory 'computer' created\")\n",
    "if os.path.exists(os.path.join(parent_dir, \"noise\")):\n",
    "    print(\"Directory 'noise' created\")\n"
   ]
  },
  {
   "cell_type": "raw",
   "id": "d2691401",
   "metadata": {},
   "source": []
  },
  {
   "cell_type": "markdown",
   "id": "45d33f91",
   "metadata": {},
   "source": [
    "# Get Custom Data"
   ]
  },
  {
   "cell_type": "markdown",
   "id": "f7cc895e",
   "metadata": {},
   "source": [
    "#### Run this code to get in an audio sample*"
   ]
  },
  {
   "cell_type": "code",
   "execution_count": 7,
   "id": "ace0223b",
   "metadata": {},
   "outputs": [
    {
     "name": "stdout",
     "output_type": "stream",
     "text": [
      "Default input device:\n",
      "{'index': 23, 'structVersion': 2, 'name': 'default', 'hostApi': 0, 'maxInputChannels': 32, 'maxOutputChannels': 32, 'defaultLowInputLatency': 0.008684807256235827, 'defaultLowOutputLatency': 0.008684807256235827, 'defaultHighInputLatency': 0.034807256235827665, 'defaultHighOutputLatency': 0.034807256235827665, 'defaultSampleRate': 44100.0}\n",
      "\n",
      "Default output device:\n",
      "{'index': 23, 'structVersion': 2, 'name': 'default', 'hostApi': 0, 'maxInputChannels': 32, 'maxOutputChannels': 32, 'defaultLowInputLatency': 0.008684807256235827, 'defaultLowOutputLatency': 0.008684807256235827, 'defaultHighInputLatency': 0.034807256235827665, 'defaultHighOutputLatency': 0.034807256235827665, 'defaultSampleRate': 44100.0}\n"
     ]
    },
    {
     "name": "stderr",
     "output_type": "stream",
     "text": [
      "ALSA lib pcm.c:2666:(snd_pcm_open_noupdate) Unknown PCM cards.pcm.rear\n",
      "ALSA lib pcm.c:2666:(snd_pcm_open_noupdate) Unknown PCM cards.pcm.center_lfe\n",
      "ALSA lib pcm.c:2666:(snd_pcm_open_noupdate) Unknown PCM cards.pcm.side\n",
      "ALSA lib pcm_route.c:877:(find_matching_chmap) Found no matching channel map\n",
      "ALSA lib pcm_route.c:877:(find_matching_chmap) Found no matching channel map\n",
      "ALSA lib pcm_route.c:877:(find_matching_chmap) Found no matching channel map\n",
      "ALSA lib pcm_route.c:877:(find_matching_chmap) Found no matching channel map\n",
      "ALSA lib pcm_oss.c:397:(_snd_pcm_oss_open) Cannot open device /dev/dsp\n",
      "ALSA lib pcm_oss.c:397:(_snd_pcm_oss_open) Cannot open device /dev/dsp\n",
      "ALSA lib confmisc.c:160:(snd_config_get_card) Invalid field card\n",
      "ALSA lib pcm_usb_stream.c:482:(_snd_pcm_usb_stream_open) Invalid card 'card'\n",
      "ALSA lib confmisc.c:160:(snd_config_get_card) Invalid field card\n",
      "ALSA lib pcm_usb_stream.c:482:(_snd_pcm_usb_stream_open) Invalid card 'card'\n"
     ]
    }
   ],
   "source": [
    "import pyaudio\n",
    "\n",
    "# Create a PyAudio object\n",
    "pa = pyaudio.PyAudio()\n",
    "\n",
    "# Get the default input and output devices\n",
    "default_input_device = pa.get_default_input_device_info()\n",
    "default_output_device = pa.get_default_output_device_info()\n",
    "\n",
    "# Print information about the default devices\n",
    "print(\"Default input device:\")\n",
    "print(default_input_device)\n",
    "\n",
    "print(\"\\nDefault output device:\")\n",
    "print(default_output_device)\n",
    "\n",
    "# # Print information about all available devices\n",
    "# print(\"\\nAvailable devices:\")\n",
    "# for i in range(pa.get_device_count()):\n",
    "#     device_info = pa.get_device_info_by_index(i)\n",
    "#     print(device_info)\n"
   ]
  },
  {
   "cell_type": "code",
   "execution_count": 8,
   "id": "00064e71",
   "metadata": {},
   "outputs": [
    {
     "name": "stdout",
     "output_type": "stream",
     "text": [
      "Python version\n",
      "3.10.9 (main, Mar  1 2023, 18:23:06) [GCC 11.2.0]\n",
      "Version info.\n",
      "sys.version_info(major=3, minor=10, micro=9, releaselevel='final', serial=0)\n"
     ]
    }
   ],
   "source": [
    "import sys\n",
    "print(\"Python version\")\n",
    "print(sys.version)\n",
    "print(\"Version info.\")\n",
    "print(sys.version_info)"
   ]
  },
  {
   "cell_type": "code",
   "execution_count": 9,
   "id": "3288e6ce",
   "metadata": {
    "scrolled": false
   },
   "outputs": [
    {
     "data": {
      "image/png": "[encoded data removed]",
      "text/plain": [
       "<Figure size 640x480 with 1 Axes>"
      ]
     },
     "metadata": {},
     "output_type": "display_data"
    },
    {
     "data": {
      "text/html": [
       "\n",
       "                <audio  controls=\"controls\" >\n",
       "                    <source src=\"data:audio/wav;base64,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\" type=\"audio/wav\" />\n",
       "                    Your browser does not support the audio element.\n",
       "                </audio>\n",
       "              "
      ],
      "text/plain": [
       "<IPython.lib.display.Audio object>"
      ]
     },
     "execution_count": 9,
     "metadata": {},
     "output_type": "execute_result"
    }
   ],
   "source": [
    "# Queue to communiate between the audio callback and main thread\n",
    "q = Queue()\n",
    "run = True\n",
    "silence_threshold = 100\n",
    "# Run the demo for a timeout seconds\n",
    "timeout = time.time() + 1 \n",
    "# Data buffer for the input wavform\n",
    "data = np.zeros(feed_samples, dtype='int16')\n",
    "\n",
    "def callback(in_data, frame_count, time_info, status):\n",
    "    global run, timeout, data, silence_threshold    \n",
    "    if time.time() > timeout:\n",
    "        run = False        \n",
    "    data0 = np.frombuffer(in_data, dtype='int16')\n",
    "    data = np.append(data,data0)    \n",
    "    if len(data) > feed_samples:\n",
    "        data = data[-feed_samples:]\n",
    "        # Process data async by sending a queue.\n",
    "        q.put(data)\n",
    "    return (in_data, pyaudio.paContinue)\n",
    "\n",
    "stream = pyaudio.PyAudio().open(\n",
    "    format=pyaudio.paInt16,\n",
    "    channels=1,\n",
    "    rate=fs,\n",
    "    input=True,\n",
    "    frames_per_buffer=chunk_samples,\n",
    "    input_device_index=23,\n",
    "    stream_callback=callback)\n",
    "stream.start_stream()\n",
    "try:\n",
    "    while run:        \n",
    "        data = q.get()\n",
    "except (KeyboardInterrupt, SystemExit):\n",
    "    stream.stop_stream()\n",
    "    stream.close()\n",
    "    timeout = time.time()\n",
    "    run = False      \n",
    "stream.stop_stream()\n",
    "stream.close()\n",
    "\n",
    "sample_rate = fs\n",
    "\n",
    "\n",
    "#Displaying wave file data\n",
    "plt.plot(np.arange(1*fs)/fs, data)\n",
    "plt.show()\n",
    "ipd.Audio(data, rate=fs)"
   ]
  },
  {
   "cell_type": "markdown",
   "id": "8b5ac719",
   "metadata": {},
   "source": [
    "#### If the Sample looks good run cell below to save it "
   ]
  },
  {
   "cell_type": "code",
   "execution_count": null,
   "id": "802139e8",
   "metadata": {},
   "outputs": [],
   "source": [
    "# #saving the wave file to training_data\n",
    "date_str = dt.now().strftime(\"%H%M%S\").lower()\n",
    "current_name = f\"{keyword_directory}{keyword}_{date_str}.wav\".replace(\"\\\\\", \"/\")\n",
    "write(current_name, sample_rate, data)\n",
    "print(\"Audio sample saved\")\n",
    "print(current_name)"
   ]
  },
  {
   "cell_type": "markdown",
   "id": "c32de0a5",
   "metadata": {},
   "source": [
    "#### Noise\n",
    "* To get noise data run \"get data\" loop again to get ambient room\n",
    "* Save here\n",
    "* Get ~3 samples total"
   ]
  },
  {
   "cell_type": "code",
   "execution_count": null,
   "id": "a496c94d",
   "metadata": {},
   "outputs": [],
   "source": [
    "# #saving the wave file to training_data\n",
    "date_str = dt.now().strftime(\"%H%M%S\").lower()\n",
    "current_name = f\"{parent_dir}/noise/noise_{date_str}.wav\"\n",
    "write(current_name, sample_rate, data)\n",
    "print(\"Audio sample saved as noise\")"
   ]
  },
  {
   "cell_type": "markdown",
   "id": "9b8c59cc",
   "metadata": {},
   "source": [
    "# Audio Augmentation- Noise\n",
    "    * This will create copies of sample audio and add pre-recorded noise. \n",
    "    * The amplitude of the noise depends on *noise_count*\n",
    "    * Audio samples and visualizations are created to show noise augmentation"
   ]
  },
  {
   "cell_type": "code",
   "execution_count": null,
   "id": "8d7813e0",
   "metadata": {},
   "outputs": [],
   "source": [
    "#Selecting augmentation folder & files\n",
    "data_dir = dir\n",
    "print(data_dir)\n",
    "filenames = tf.io.gfile.glob(str(data_dir) + '/*.wav')\n",
    "\n",
    "#Testing if audio data imported correctly\n",
    "test_wav=filenames[0]\n",
    "fs, test_wav = wavfile.read(test_wav)\n",
    "plt.plot(np.arange(1*fs)/fs, test_wav)\n",
    "plt.show()\n",
    "ipd.Audio(test_wav, rate=fs)"
   ]
  },
  {
   "cell_type": "code",
   "execution_count": null,
   "id": "7e36dfc9",
   "metadata": {},
   "outputs": [],
   "source": [
    "#Loading noise samples\n",
    "noise_dir = parent_dir+'/noise'\n",
    "noise_samples = tf.io.gfile.glob(str(noise_dir) + '/*.wav')\n",
    "print(\"Noise Samples:\", len(noise_samples))"
   ]
  },
  {
   "cell_type": "markdown",
   "id": "58ca02bd",
   "metadata": {},
   "source": [
    "#### Set Augment count"
   ]
  },
  {
   "cell_type": "code",
   "execution_count": null,
   "id": "b2b00e22",
   "metadata": {},
   "outputs": [],
   "source": [
    "#noise_count will deteremine how many augmentations will be created\n",
    "    #noise_count=1 will be a copy with noise augmentation * 0\n",
    "    #noise_count=2 will be noise_count=1 plus a copy with noise augmentation * 1\n",
    "    #noise_count=2 will be noise_count=2 plus a copy with noise augmentation * 2  \n",
    "    #and so on \n",
    "\n",
    "noise_count=4\n",
    "print(\"This will expand the current\", len(filenames), \"files by creating an addtional\",len(filenames)*len(noise_samples)*noise_count, \"noise augmented files, to give a total of\",len(filenames)*len(noise_samples)*(noise_count)+len(filenames),\"files\")"
   ]
  },
  {
   "cell_type": "markdown",
   "id": "38a67c2c",
   "metadata": {},
   "source": [
    "#### Creating Noise Augmentation"
   ]
  },
  {
   "cell_type": "code",
   "execution_count": null,
   "id": "4a7439dc",
   "metadata": {},
   "outputs": [],
   "source": [
    "#dict holds samples for plotting\n",
    "noise_dict={}\n",
    "for index in range(len(filenames)):\n",
    "    test_wav=filenames[index]\n",
    "    fs, test_wav = wavfile.read(test_wav)\n",
    "    if (len(test_wav) < fs):\n",
    "        padding=fs-len(test_wav)\n",
    "        extra_padding=np.zeros(padding).astype(np.int16) #array of empty audio to pad with\n",
    "        test_wav=np.concatenate((test_wav,extra_padding),axis=0).astype(np.int16)\n",
    "    noise_dict[0]=test_wav.astype(np.int16)\n",
    "    for i in range(len(noise_samples)):\n",
    "        noise=noise_samples[i]\n",
    "        fs, noise = wavfile.read(noise)\n",
    "        for j in range(noise_count):\n",
    "            noise_multiplier=round(max(test_wav)*(j/2000))\n",
    "            noise_lvl=noise*noise_multiplier\n",
    "            test_wave_with_noise=np.add(test_wav,noise_lvl)\n",
    "            current_name = str(keyword_directory) + str(keyword)+f\"_Sample{index}_Noise{i}_Multiplier{j}.wav\"\n",
    "            write(current_name, fs, test_wave_with_noise)\n",
    "            noise_dict[j+1]=test_wave_with_noise.astype(np.int16)\n",
    "            noise_dict[j+5]=noise_lvl.astype(np.int16)"
   ]
  },
  {
   "cell_type": "markdown",
   "id": "b98b9b33",
   "metadata": {},
   "source": [
    "#### Plotting noise augmenation"
   ]
  },
  {
   "cell_type": "code",
   "execution_count": null,
   "id": "b2ce4418",
   "metadata": {},
   "outputs": [],
   "source": [
    "#Only plots up to noise lvl 3\n",
    "fig, axs = plt.subplots(4, 4,figsize=(20,10), sharex=True,sharey=True)\n",
    "axs[0,0].plot(np.arange(1*fs)/fs, noise_dict[0])\n",
    "axs[0,1].plot(np.arange(1*fs)/fs, noise_dict[5], 'tab:orange')\n",
    "axs[0,2].plot(np.arange(1*fs)/fs, noise_dict[0])\n",
    "axs[0,2].plot(np.arange(1*fs)/fs, noise_dict[5])\n",
    "axs[0,3].plot(np.arange(1*fs)/fs, noise_dict[1])\n",
    "\n",
    "axs[0, 0].set_title(\"Original\")\n",
    "axs[0, 1].set_title(\"Noise\")\n",
    "axs[0, 2].set_title(\"Original + Noise\")\n",
    "axs[0, 3].set_title(\"Augmented Audio\")\n",
    "\n",
    "axs[0, 0].set(xlabel='Time (s)', ylabel='Noise lvl 0')\n",
    "axs[1, 0].set(xlabel='Time (s)', ylabel='Noise lvl 1')\n",
    "axs[2, 0].set(xlabel='Time (s)', ylabel='Noise lvl 2')\n",
    "axs[3, 0].set(xlabel='Time (s)', ylabel='Noise lvl 3')\n",
    "\n",
    "axs[1,0].plot(np.arange(1*fs)/fs, noise_dict[0])\n",
    "axs[1,1].plot(np.arange(1*fs)/fs, noise_dict[6], 'tab:orange')\n",
    "axs[1,2].plot(np.arange(1*fs)/fs, noise_dict[0])\n",
    "axs[1,2].plot(np.arange(1*fs)/fs, noise_dict[6])\n",
    "axs[1,3].plot(np.arange(1*fs)/fs, noise_dict[2])\n",
    "\n",
    "axs[2,0].plot(np.arange(1*fs)/fs, noise_dict[0])\n",
    "axs[2,1].plot(np.arange(1*fs)/fs, noise_dict[7], 'tab:orange')\n",
    "axs[2,2].plot(np.arange(1*fs)/fs, noise_dict[0])\n",
    "axs[2,2].plot(np.arange(1*fs)/fs, noise_dict[7])\n",
    "axs[2,3].plot(np.arange(1*fs)/fs, noise_dict[3])\n",
    "\n",
    "axs[3,0].plot(np.arange(1*fs)/fs, noise_dict[0])\n",
    "axs[3,1].plot(np.arange(1*fs)/fs, noise_dict[8], 'tab:orange')\n",
    "axs[3,2].plot(np.arange(1*fs)/fs, noise_dict[0])\n",
    "axs[3,2].plot(np.arange(1*fs)/fs, noise_dict[8])\n",
    "axs[3,3].plot(np.arange(1*fs)/fs, noise_dict[4])\n",
    "\n",
    "for ax in axs.flat:\n",
    "    ax.set(xlabel='Time (s)')\n",
    "\n",
    "# Hide x labels and tick labels for top plots and y ticks for right plots.\n",
    "for ax in axs.flat:\n",
    "    ax.label_outer()"
   ]
  },
  {
   "cell_type": "markdown",
   "id": "f85f4855",
   "metadata": {},
   "source": [
    "#### Listen to noise augmenation"
   ]
  },
  {
   "cell_type": "code",
   "execution_count": null,
   "id": "43c692f3",
   "metadata": {},
   "outputs": [],
   "source": [
    "#Only samples up to noise lvl 3\n",
    "from IPython.display import Audio \n",
    "from IPython.display import display\n",
    "\n",
    "print(\"Noise lvl 0:\")\n",
    "display(Audio(noise_dict[0], rate=fs))\n",
    "print(\"Noise lvl 1:\")\n",
    "display(Audio(noise_dict[2], rate=fs))\n",
    "print(\"Noise lvl 2:\")\n",
    "display(Audio(noise_dict[3], rate=fs))\n",
    "print(\"Noise lvl 3:\")\n",
    "display(Audio(noise_dict[4], rate=fs))"
   ]
  },
  {
   "cell_type": "raw",
   "id": "87ac19ac",
   "metadata": {},
   "source": []
  },
  {
   "cell_type": "raw",
   "id": "84c5fac5",
   "metadata": {},
   "source": []
  },
  {
   "cell_type": "markdown",
   "id": "2290394e",
   "metadata": {},
   "source": [
    "# Audio Augmentation- Time Shift\n",
    "    * This will create copies of sample audio and shift them forward or backward in time in 1/8s increments \n",
    "    * The \"empty space\" created by the time shift is filled with artificial noise (created in cell 12)"
   ]
  },
  {
   "cell_type": "code",
   "execution_count": null,
   "id": "2bcb05e6",
   "metadata": {},
   "outputs": [],
   "source": [
    "#Need to update filenames\n",
    "data_dir = dir\n",
    "filenames = tf.io.gfile.glob(str(data_dir) + '/*.wav')\n",
    "#Testing if audio data imported correctly\n",
    "filenames[0]\n",
    "test_wav=filenames[0]\n",
    "fs, test_wav = wavfile.read(test_wav)\n",
    "plt.plot(np.arange(1*fs)/fs, test_wav)\n",
    "plt.show()\n",
    "ipd.Audio(test_wav, rate=fs)"
   ]
  },
  {
   "cell_type": "code",
   "execution_count": null,
   "id": "dccb71b9",
   "metadata": {},
   "outputs": [],
   "source": [
    "#initializing variables for 1/8th second time shifts\n",
    "one_eighth=int((sample_rate/8)) #16k sample rate means 2k for 1/8s\n",
    "padding=one_eighth #Number of samples to pad\n",
    "#zero_padding=np.zeros(padding).astype(np.int16) #array of empty audio to pad with\n",
    "noise_lvl_min=-200 #about the min for quiet room when measured with get audio code above\n",
    "noise_lvl_max=200 #about the max for quiet room when measured with get audio code above\n",
    "noise_padding=np.random.randint(noise_lvl_min,noise_lvl_max+1,padding) #makes random noise"
   ]
  },
  {
   "cell_type": "markdown",
   "id": "1b271b2a",
   "metadata": {},
   "source": [
    "#### Set Augment count"
   ]
  },
  {
   "cell_type": "code",
   "execution_count": null,
   "id": "44ee063e",
   "metadata": {},
   "outputs": [],
   "source": [
    "#how many of each type of time shift is desired..in 1/8s increments\n",
    "#suggest following bell curve with center being zero_shift and left_3/right_3 being the extremes\n",
    "\n",
    "left_3=1\n",
    "left_2=2\n",
    "left_1=2\n",
    "zero_shift=2\n",
    "right_1=2\n",
    "right_2=2\n",
    "right_3=1\n",
    "\n",
    "total=zero_shift+right_3+right_2+right_1+left_3+left_2+left_1"
   ]
  },
  {
   "cell_type": "code",
   "execution_count": null,
   "id": "77bf71ab",
   "metadata": {
    "scrolled": true
   },
   "outputs": [],
   "source": [
    "print(\"This will expand the current\", len(filenames), \"files by creating an addtional\",len(filenames)*total, \"time shifted files, to give a total of\",len(filenames)*(total+1),\"files\")"
   ]
  },
  {
   "cell_type": "markdown",
   "id": "cfdc3cbe",
   "metadata": {},
   "source": [
    "#### Time Shift Augment"
   ]
  },
  {
   "cell_type": "code",
   "execution_count": null,
   "id": "1a648746",
   "metadata": {},
   "outputs": [],
   "source": [
    "# Create a dictionary to hold audio for data visualization\n",
    "audio_dict = {}\n",
    "\n",
    "##This will randomize audio samples\n",
    "#random_list = list(range(0, len(filenames))) #create array [1,2,3...]\n",
    "#random.shuffle(random_list) #randomize the array\n",
    "\n",
    "#This will reverse the list so the element printed in next cell shows augmentation to original sample\n",
    "random_list = list(range(0, len(filenames))) #create array [1,2,3...]\n",
    "random_list.reverse() #randomize the array\n",
    "\n",
    "#creates dictionary to hold audio for data visualization\n",
    "audio_dict={}\n",
    "\n",
    "##This will randomize audio samples\n",
    "#random_list = list(range(0, len(filenames))) #create array [1,2,3...]\n",
    "#random.shuffle(random_list) #randomize the array\n",
    "\n",
    "#This will reverse the list so the element printed in next cell shows augmentation to original sample\n",
    "random_list = list(range(0, len(filenames))) #create array [1,2,3...]\n",
    "random_list.reverse() #randomize the array\n",
    "\n",
    "from tqdm import tqdm\n",
    "\n",
    "#runs 5x shifts audio from original to left by .5sec in 1/8s increments\n",
    "for index in tqdm(range(len(filenames)), desc=\"Augmenting audio\"):\n",
    "    test_wav=filenames[random_list[index]]\n",
    "    fs, test_wav = wavfile.read(test_wav)\n",
    "    audio_dict[0]=test_wav.astype(np.int16)#dict[0] holds original audio\n",
    "    test_wav_decrease = test_wav #creating copy to be manipulated \n",
    "    test_wav_increase = test_wav #creating copy to be manipulated\n",
    "    \n",
    "    #shift audio to left in 1/8s increments\n",
    "    for j in range(1,4):#dict 1-4 hold shifted audio (change 4 to 5 to make 1/2s shift)\n",
    "        for i in range (one_eighth):\n",
    "            test_wav_decrease=np.delete(test_wav_decrease,0)\n",
    "        test_wav_decrease=np.concatenate((test_wav_decrease,noise_padding),axis=0).astype(np.int16)\n",
    "        audio_dict[j]=test_wav_decrease.astype(np.int16)\n",
    "        if (j==1):\n",
    "            for p in range(left_1): #creates left_1 copys shifted left 1/8s\n",
    "                current_name = str(keyword_directory) + str(keyword)+f\"_Sample{index}_LShift{j}_{p}.wav\"\n",
    "                write(current_name, fs, test_wav_decrease)\n",
    "        if (j==2):\n",
    "            for p in range(left_2): #creates left_2 copys shifted left 2/8s\n",
    "                current_name = str(keyword_directory) + str(keyword)+f\"_Sample{index}_LShift{j}_{p}.wav\"\n",
    "                write(current_name, fs, test_wav_decrease)\n",
    "        if (j==3):\n",
    "            for p in range(left_3): #creates left_3 copy shifted left 3/8s\n",
    "                current_name = str(keyword_directory) + str(keyword)+f\"_Sample{index}_LShift{j}_{p}.wav\"\n",
    "                write(current_name, fs, test_wav_decrease)\n",
    "\n",
    "    \n",
    "    #shift audio to right in 1/8s increments\n",
    "    for k in range(6,9):\n",
    "        #pad zeros to front\n",
    "        test_wav_increase=np.concatenate((noise_padding,test_wav_increase),axis=0)\n",
    "        #delete data past 16k samples\n",
    "        for d in range(sample_rate,len(test_wav_increase)):\n",
    "            test_wav_increase=np.delete(test_wav_increase,sample_rate,0).astype(np.int16)\n",
    "        audio_dict[k]=test_wav_increase\n",
    "        if (k==6):\n",
    "            for p in range(right_1): #creates right_1 copys shifted right 1/8s\n",
    "                current_name = str(keyword_directory) + str(keyword)+f\"_Sample{index}_RShift{k-5}_{p}.wav\"\n",
    "                write(current_name, fs, test_wav_decrease)\n",
    "        if (k==7):\n",
    "            for p in range(right_2): #creates right_2 copys shifted right 2/8s\n",
    "                current_name = str(keyword_directory) + str(keyword)+f\"_Sample{index}_RShift{k-5}_{p}.wav\"\n",
    "                write(current_name, fs, test_wav_decrease)\n",
    "        if (k==8):\n",
    "            for p in range(right_3): #creates right_3 copy shifted right 3/8s\n",
    "                current_name = str(keyword_directory) + str(keyword)+f\"_Sample{index}_RShift{k-5}_{p}.wav\"\n",
    "                write(current_name, fs, test_wav_decrease)\n",
    "    for l in range(zero_shift):\n",
    "        current_name = str(keyword_directory) + str(keyword)+f\"_Sample{index}_NoShift_{l}.wav\"\n",
    "        write(current_name, fs, test_wav)"
   ]
  },
  {
   "cell_type": "markdown",
   "id": "8b47f189",
   "metadata": {},
   "source": [
    "#### Plot time shifted audio"
   ]
  },
  {
   "cell_type": "code",
   "execution_count": null,
   "id": "175891fa",
   "metadata": {},
   "outputs": [],
   "source": [
    "#commented out is for half second shift if desired\n",
    "\n",
    "fig = plt.figure(constrained_layout=True)\n",
    "axs = fig.add_gridspec(3, 3)\n",
    "\n",
    "f_ax0 = fig.add_subplot(axs[0, 1])\n",
    "f_ax1 = fig.add_subplot(axs[1, 0])\n",
    "f_ax2 = fig.add_subplot(axs[1, 1])\n",
    "f_ax3 = fig.add_subplot(axs[1, 2])\n",
    "# f_ax4 = fig.add_subplot(axs[2, 3])\n",
    "f_ax6 = fig.add_subplot(axs[2, 0])\n",
    "f_ax7 = fig.add_subplot(axs[2, 1])\n",
    "f_ax8 = fig.add_subplot(axs[2, 2])\n",
    "# f_ax9 = fig.add_subplot(axs[3, 3])\n",
    "\n",
    "f_ax0.plot(np.arange(1*fs)/fs, audio_dict[0])\n",
    "f_ax1.plot(np.arange(1*fs)/fs, audio_dict[1])\n",
    "f_ax2.plot(np.arange(1*fs)/fs, audio_dict[2])\n",
    "f_ax3.plot(np.arange(1*fs)/fs, audio_dict[3])\n",
    "# f_ax4.plot(np.arange(1*fs)/fs, audio_dict[4])\n",
    "f_ax6.plot(np.arange(1*fs)/fs, audio_dict[6])\n",
    "f_ax7.plot(np.arange(1*fs)/fs, audio_dict[7])\n",
    "f_ax8.plot(np.arange(1*fs)/fs, audio_dict[8])\n",
    "# f_ax9.plot(np.arange(1*fs)/fs, audio_dict[9])\n",
    "\n",
    "f_ax0.set_title('Original')\n",
    "f_ax1.set_title('Shifted left 1/8')\n",
    "f_ax2.set_title('Shifted left 1/4')\n",
    "f_ax3.set_title('Shifted left 3/8')\n",
    "# f_ax4.set_title('Shifted left 1/2')\n",
    "f_ax6.set_title('Shifted right 1/8')\n",
    "f_ax7.set_title('Shifted right 1/4')\n",
    "f_ax8.set_title('Shifted right 3/8')\n",
    "# f_ax9.set_title('Shifted right 1/2')\n",
    "fig.set_size_inches(18.5, 10.5, forward=True)\n",
    "pass"
   ]
  },
  {
   "cell_type": "markdown",
   "id": "2a5ec8e7",
   "metadata": {},
   "source": [
    "#### Listen to time shifted Audio"
   ]
  },
  {
   "cell_type": "code",
   "execution_count": null,
   "id": "74f81651",
   "metadata": {},
   "outputs": [],
   "source": [
    "from IPython.display import Audio \n",
    "from IPython.display import display\n",
    "\n",
    "print(\"Original:\")\n",
    "display(Audio(audio_dict[0], rate=fs))\n",
    "print(\"Shifted left 1/8:\")\n",
    "display(Audio(audio_dict[1], rate=fs))\n",
    "print(\"Shifted left 1/4:\")\n",
    "display(Audio(audio_dict[2], rate=fs))\n",
    "print(\"Shifted left 3/8:\")\n",
    "display(Audio(audio_dict[3], rate=fs))\n",
    "# print(\"Shifted left 1/2:\")\n",
    "# display(Audio(audio_dict[4], rate=fs))\n",
    "print(\"Shifted right 1/8:\")\n",
    "display(Audio(audio_dict[6], rate=fs))\n",
    "print(\"Shifted right 1/4:\")\n",
    "display(Audio(audio_dict[7], rate=fs))\n",
    "print(\"Shifted right 3/8:\")\n",
    "display(Audio(audio_dict[8], rate=fs))\n",
    "# print(\"Shifted right 1/2:\")\n",
    "# display(Audio(audio_dict[9], rate=fs))"
   ]
  },
  {
   "cell_type": "raw",
   "id": "f79480e0",
   "metadata": {},
   "source": []
  },
  {
   "cell_type": "raw",
   "id": "ffbb93cf",
   "metadata": {},
   "source": []
  },
  {
   "cell_type": "markdown",
   "id": "8b2f40a1",
   "metadata": {},
   "source": [
    "# Audio Augmentation- Pitch Shift\n",
    "    * This will create copies of sample audio and pitch shift them\n",
    "    * The variable *pitch_shift* allows control over pitch\n",
    "    * The variable *desired_number_of_files* allows control of exactly how many samples to create\n",
    "    * The loop will continue creating copies until desired count is reached, including pitch shifting already pitch shifted copies"
   ]
  },
  {
   "cell_type": "code",
   "execution_count": null,
   "id": "169e2afb",
   "metadata": {},
   "outputs": [],
   "source": [
    "#Need to update filenames\n",
    "data_dir = dir\n",
    "filenames = tf.io.gfile.glob(str(data_dir) + '/*.wav')\n",
    "#Testing if audio data imported correctly\n",
    "filenames[0]\n",
    "test_wav=filenames[0]\n",
    "fs, test_wav = wavfile.read(test_wav)\n",
    "plt.plot(np.arange(1*fs)/fs, test_wav)\n",
    "plt.show()\n",
    "ipd.Audio(test_wav, rate=fs)"
   ]
  },
  {
   "cell_type": "code",
   "execution_count": null,
   "id": "daf0ab90",
   "metadata": {},
   "outputs": [],
   "source": [
    "print(\"The current number of files in directory is\", len(filenames))"
   ]
  },
  {
   "cell_type": "markdown",
   "id": "aee19898",
   "metadata": {},
   "source": [
    "#### Set Augment count"
   ]
  },
  {
   "cell_type": "code",
   "execution_count": null,
   "id": "a77698bd",
   "metadata": {},
   "outputs": [],
   "source": [
    "#STOPED AUGMENTING HERE"
   ]
  },
  {
   "cell_type": "markdown",
   "id": "d490e2a9",
   "metadata": {},
   "source": [
    "# Write augmented data files to testing and validation .txt file "
   ]
  },
  {
   "cell_type": "code",
   "execution_count": null,
   "id": "525d0c2e",
   "metadata": {},
   "outputs": [],
   "source": [
    "print(\"Sample count:\", len(filenames))"
   ]
  },
  {
   "cell_type": "code",
   "execution_count": null,
   "id": "6098e322",
   "metadata": {},
   "outputs": [],
   "source": [
    "#Need to update filenames\n",
    "data_dir = dir\n",
    "filenames = tf.io.gfile.glob(str(data_dir) + '/*.wav')\n",
    "#Verifying opens files correctly\n",
    "print(filenames[0])\n",
    "\n",
    "num_files=len(filenames)\n",
    "num_files\n",
    "print(\"Total files:\", num_files)\n",
    "\n",
    "#randomizes order of samples for validation list\n",
    "random_list = list(range(0, num_files)) #create array [1,2,3...]\n",
    "random.shuffle(random_list) #randomize the array"
   ]
  },
  {
   "cell_type": "code",
   "execution_count": null,
   "id": "2f497c9e",
   "metadata": {},
   "outputs": [],
   "source": [
    "import random\n",
    "import os\n",
    "\n",
    "# Set the random seed for reproducibility\n",
    "random.seed(42)\n",
    "\n",
    "# Set the paths and file names for the train, test, and validation files\n",
    "train_file_name = './data/custom-speech/training_list.txt'\n",
    "test_file_name = './data/custom-speech/testing_list.txt'\n",
    "val_file_name = './data/custom-speech/validation_list.txt'\n",
    "\n",
    "# Set the split percentages\n",
    "train_pct = 0.7\n",
    "test_pct = 0.2\n",
    "val_pct = 0.1\n",
    "\n",
    "# Get a list of all WAV files in the data directory\n",
    "wav_files = tf.io.gfile.glob(str(data_dir) + '/*.wav')\n",
    "\n",
    "# Shuffle the files randomly\n",
    "random.shuffle(wav_files)\n",
    "\n",
    "# Calculate the number of files for each split\n",
    "num_files = len(wav_files)\n",
    "num_train = int(train_pct*num_files)\n",
    "num_test = int(test_pct*num_files)\n",
    "num_val = num_files - num_train - num_test\n",
    "\n",
    "# Create the train list file\n",
    "with open(train_file_name, 'w') as f:\n",
    "    for file in wav_files[:num_train]:\n",
    "        f.write(os.path.join(keyword, os.path.basename(file)) + '\\n')\n",
    "print(num_train, \"samples added to\", train_file_name)\n",
    "\n",
    "# Create the test list file\n",
    "with open(test_file_name, 'w') as f:\n",
    "    for file in wav_files[num_train:num_train+num_test]:\n",
    "        f.write(os.path.join(keyword, os.path.basename(file)) + '\\n')\n",
    "print(num_test, \"samples added to\", test_file_name)\n",
    "\n",
    "# Create the validation list file\n",
    "with open(val_file_name, 'w') as f:\n",
    "    for file in wav_files[num_train+num_test:]:\n",
    "        f.write(os.path.join(keyword, os.path.basename(file)) + '\\n')\n",
    "print(num_val, \"samples added to\", val_file_name)"
   ]
  },
  {
   "cell_type": "code",
   "execution_count": null,
   "id": "6a5442f1",
   "metadata": {},
   "outputs": [],
   "source": [
    "# Set the paths and file names for the train, test, and validation files for \"yes\" folder\n",
    "yes_train_file_name = './data/custom-speech/training_list.txt'\n",
    "yes_test_file_name = './data/custom-speech/testing_list.txt'\n",
    "yes_val_file_name = './data/custom-speech/validation_list.txt'\n",
    "\n",
    "# Get a list of all WAV files in the \"yes\" folder\n",
    "yes_wav_files = tf.io.gfile.glob(str('./data/custom-speech/') + '/yes/*.wav')\n",
    "# Shuffle the files randomly\n",
    "random.shuffle(yes_wav_files)\n",
    "\n",
    "# Calculate the number of files for each split\n",
    "yes_num_files = len(yes_wav_files)\n",
    "yes_num_train = int(train_pct * yes_num_files)\n",
    "yes_num_test = int(test_pct * yes_num_files)\n",
    "yes_num_val = yes_num_files - yes_num_train - yes_num_test\n",
    "\n",
    "# Create the train list file for \"yes\" folder\n",
    "with open(yes_train_file_name, 'a') as f:  # use 'a' mode to append to file\n",
    "    for file in yes_wav_files[:yes_num_train]:\n",
    "        f.write(os.path.join('yes', os.path.basename(file)) + '\\n')\n",
    "print(yes_num_train, \"samples added to\", yes_train_file_name)\n",
    "\n",
    "# Create the test list file for \"yes\" folder\n",
    "with open(yes_test_file_name, 'a') as f:  # use 'a' mode to append to file\n",
    "    for file in yes_wav_files[yes_num_train:yes_num_train+yes_num_test]:\n",
    "        f.write(os.path.join('yes', os.path.basename(file)) + '\\n')\n",
    "print(yes_num_test, \"samples added to\", yes_test_file_name)\n",
    "\n",
    "# Create the validation list file for \"yes\" folder\n",
    "with open(yes_val_file_name, 'a') as f:  # use 'a' mode to append to file\n",
    "    for file in yes_wav_files[yes_num_train+yes_num_test:]:\n",
    "        f.write(os.path.join('yes', os.path.basename(file)) + '\\n')\n",
    "print(yes_num_val, \"samples added to\", yes_val_file_name)\n"
   ]
  },
  {
   "cell_type": "code",
   "execution_count": null,
   "id": "59406c74",
   "metadata": {},
   "outputs": [],
   "source": [
    "#How many of the files do you want to have total?\n",
    "desired_number_of_files=1000\n",
    "\n",
    "#How do you want to pitch shift\n",
    "    #positive=high pitch, negative = low pitch\n",
    "    #0.25 is a good value\n",
    "pitch_shift=0.25"
   ]
  },
  {
   "cell_type": "raw",
   "id": "9a226b7f",
   "metadata": {},
   "source": []
  },
  {
   "cell_type": "markdown",
   "id": "faa7c992",
   "metadata": {},
   "source": [
    "### Doubling Equation:   \n",
    "> $output=input * 2^{x}$\n",
    "\n",
    "*Here $x$ is the number of times input is doubled\n",
    "\n",
    "#### To get desired number of output files from input when loop doubles input every iteration of the for loop we solve for $x$:\n",
    "   \n",
    "> $x=\\log _{2}(\\frac{out}{in})$\\\n",
    "  $x=\\frac{\\ln (\\frac{out}{in})} {\\ln (2)}$\n",
    "                 \n",
    "#### Next $math.ceil()$ is used to round up to integer for loop iteration\n",
    "\n",
    "> $x=$ math.ceil$(\\frac{\\ln (out)}{\\ln (in)})$"
   ]
  },
  {
   "cell_type": "code",
   "execution_count": null,
   "id": "66f888ea",
   "metadata": {},
   "outputs": [],
   "source": [
    "#Doubling formula used to find range for outer for loop indexing with \"i\"\n",
    "outer_range= math.ceil((np.log(desired_number_of_files / len(filenames)) / np.log(2) ))\n",
    "outer_range"
   ]
  },
  {
   "cell_type": "markdown",
   "id": "50d116a7",
   "metadata": {},
   "source": [
    "#### Pitch Augmentation"
   ]
  },
  {
   "cell_type": "code",
   "execution_count": null,
   "id": "909afc96",
   "metadata": {},
   "outputs": [],
   "source": [
    "#replace line 11 with comment below if you want to create a custom # < len(filenames)...\n",
    "#                                                    ...comment out if statements and speed will improve significantly\n",
    "#for index in range(40000): \n",
    "\n",
    "pitch_dict={}\n",
    "for i in range(outer_range):\n",
    "    for index in range(len(filenames)):\n",
    "        test_wav=filenames[index]\n",
    "        fs, test_wav = wavfile.read(test_wav)\n",
    "        if i==0:\n",
    "            pitch_dict[i]=test_wav\n",
    "        test_wav_float=test_wav.astype(float)\n",
    "        test_wav_pitch_shifted = librosa.effects.pitch_shift(test_wav_float, sr=sample_rate, n_steps=pitch_shift*(i+1))\n",
    "        test_wav_pitch_shifted_int=test_wav_pitch_shifted.astype(np.int16)\n",
    "        current_name = str(keyword_directory)+str(keyword) +f\"_Pitch_Shift_{i}_{index}.wav\"    \n",
    "        write(current_name, fsamp, test_wav_pitch_shifted_int)\n",
    "\n",
    "        files_in_folder=len(tf.io.gfile.glob(str(data_dir) + '/*.wav'))\n",
    "        pitch_dict[i+1]=test_wav_pitch_shifted_int\n",
    "        if (files_in_folder >= desired_number_of_files):\n",
    "            break \n",
    "    filenames = tf.io.gfile.glob(str(data_dir) + '/*.wav')\n",
    "    #update filenames with newly created files    \n",
    "    if (files_in_folder >= desired_number_of_files):\n",
    "        break \n",
    "print(\"Congratulations, the current number of files in directory is\", len(filenames))"
   ]
  },
  {
   "cell_type": "markdown",
   "id": "cf4aea1e",
   "metadata": {},
   "source": [
    "#### Plot Pitch Shift"
   ]
  },
  {
   "cell_type": "code",
   "execution_count": null,
   "id": "4eff61ed",
   "metadata": {},
   "outputs": [],
   "source": [
    "fig = plt.figure(constrained_layout=True)\n",
    "axs = fig.add_gridspec(3, 3)\n",
    "\n",
    "f_ax0 = fig.add_subplot(axs[0, 1])\n",
    "f_ax1 = fig.add_subplot(axs[1, 0])\n",
    "f_ax2 = fig.add_subplot(axs[1, 1])\n",
    "f_ax3 = fig.add_subplot(axs[1, 2])\n",
    "f_ax4 = fig.add_subplot(axs[2, 0])\n",
    "f_ax5 = fig.add_subplot(axs[2, 1])\n",
    "f_ax6 = fig.add_subplot(axs[2, 2])\n",
    "\n",
    "f_ax0.plot(np.arange(1*fs)/fs, pitch_dict[0])\n",
    "f_ax0.set_title('Original')\n",
    "\n",
    "if outer_range>1:\n",
    "    f_ax1.plot(np.arange(1*fs)/fs, pitch_dict[1])\n",
    "    f_ax1.set_title('Pitch Shift lvl 1')\n",
    "if outer_range>2:\n",
    "    f_ax2.plot(np.arange(1*fs)/fs, pitch_dict[2])\n",
    "    f_ax2.set_title('Pitch Shift lvl 2')\n",
    "if outer_range>3:\n",
    "    f_ax3.plot(np.arange(1*fs)/fs, pitch_dict[3])\n",
    "    f_ax3.set_title('Pitch Shift lvl 3')\n",
    "if outer_range>4:\n",
    "    f_ax4.plot(np.arange(1*fs)/fs, pitch_dict[4])\n",
    "    f_ax4.set_title('Pitch Shift lvl 4')\n",
    "if outer_range>5:\n",
    "    f_ax5.plot(np.arange(1*fs)/fs, pitch_dict[5])\n",
    "    f_ax5.set_title('Pitch Shift lvl 5')\n",
    "if outer_range>6:\n",
    "    f_ax6.plot(np.arange(1*fs)/fs, pitch_dict[6])\n",
    "    f_ax6.set_title('Pitch Shift lvl 6')\n",
    "\n",
    "fig.set_size_inches(18.5, 10.5, forward=True)\n",
    "pass"
   ]
  },
  {
   "cell_type": "markdown",
   "id": "ba23c715",
   "metadata": {},
   "source": [
    "#### Listen to Pitch Shift"
   ]
  },
  {
   "cell_type": "code",
   "execution_count": null,
   "id": "dfb33348",
   "metadata": {},
   "outputs": [],
   "source": [
    "from IPython.display import Audio \n",
    "from IPython.display import display\n",
    "\n",
    "print(\"Original:\")\n",
    "display(Audio(pitch_dict[0], rate=fs))\n",
    "\n",
    "if outer_range>1:\n",
    "    print(\"Pitch Shift lvl 1\")\n",
    "    display(Audio(pitch_dict[1], rate=fs))\n",
    "if outer_range>2:\n",
    "    print(\"Pitch Shift lvl 2\")\n",
    "    display(Audio(pitch_dict[2], rate=fs))\n",
    "if outer_range>3:\n",
    "    print(\"Pitch Shift lvl 3\")\n",
    "    display(Audio(pitch_dict[3], rate=fs))\n",
    "if outer_range>4:\n",
    "    print(\"Pitch Shift lvl 4\")\n",
    "    display(Audio(pitch_dict[3], rate=fs))\n",
    "if outer_range>5:\n",
    "    print(\"Pitch Shift lvl 5\")\n",
    "    display(Audio(pitch_dict[4], rate=fs))\n",
    "if outer_range>6:\n",
    "    print(\"Pitch Shift lvl 6\")\n",
    "    display(Audio(pitch_dict[5], rate=fs))"
   ]
  },
  {
   "cell_type": "markdown",
   "id": "ba2a3559",
   "metadata": {},
   "source": [
    "# Additional Augmentations\n",
    "    *These change volume\n",
    "    *Still needs work, suggest staying with previous augmentations"
   ]
  },
  {
   "cell_type": "code",
   "execution_count": null,
   "id": "8497a423",
   "metadata": {},
   "outputs": [],
   "source": [
    "#load data\n",
    "data_dir = dir\n",
    "filenames = tf.io.gfile.glob(str(data_dir) + '/*.wav')\n",
    "#Testing if audio data imported correctly\n",
    "test_wav=filenames[0]\n",
    "fs, test_wav = wavfile.read(test_wav)\n",
    "plt.plot(np.arange(1*fs)/fs, test_wav)\n",
    "plt.show()\n",
    "ipd.Audio(test_wav, rate=fs)"
   ]
  },
  {
   "cell_type": "code",
   "execution_count": null,
   "id": "1e6ef568",
   "metadata": {
    "scrolled": true
   },
   "outputs": [],
   "source": [
    "print(\"Sample count:\", len(filenames))"
   ]
  },
  {
   "cell_type": "markdown",
   "id": "9163aaad",
   "metadata": {},
   "source": [
    "#### Icrease audio sample amplitude by multiplier"
   ]
  },
  {
   "cell_type": "code",
   "execution_count": null,
   "id": "f5aa6002",
   "metadata": {},
   "outputs": [],
   "source": [
    "#Increases existing audios volume/amplitue \n",
    "multiplier=3\n",
    "for i in range(1,multiplier):\n",
    "    for index in range(len(filenames)):\n",
    "            test_wav=filenames[index]\n",
    "            fs, test_wav = wavfile.read(test_wav)\n",
    "            sound=test_wav*(i)\n",
    "            sound_normalized=sound.astype(np.int16)\n",
    "            current_name = str(keyword_directory) + str(keyword)+f\"noiseLVL_{i}_{index}.wav\" \n",
    "            write(current_name, fsamp, sound_normalized)\n",
    "\n",
    "data_dir = dir\n",
    "filenames = tf.io.gfile.glob(str(data_dir) + '/*.wav')\n",
    "print(\"Multiplier complete\")\n",
    "print(\"Sample count:\", len(filenames))"
   ]
  },
  {
   "cell_type": "code",
   "execution_count": null,
   "id": "aa3ba5bf",
   "metadata": {},
   "outputs": [],
   "source": [
    "test_wav=filenames[250]\n",
    "fs, test_wav = wavfile.read(test_wav)\n",
    "plt.plot(np.arange(1*fs)/fs, test_wav)\n",
    "plt.show()\n",
    "ipd.Audio(test_wav, rate=fs)"
   ]
  },
  {
   "cell_type": "markdown",
   "id": "757f9062",
   "metadata": {},
   "source": [
    "#### Normalize to specific amplitude level"
   ]
  },
  {
   "cell_type": "code",
   "execution_count": null,
   "id": "01e682e1",
   "metadata": {},
   "outputs": [],
   "source": [
    "noise_level=12000\n",
    "for index in range(len(filenames)):\n",
    "        test_wav=filenames[index]\n",
    "        fs, test_wav = wavfile.read(test_wav)\n",
    "        sound = test_wav*(noise_level/max(test_wav))\n",
    "        sound_normalized=sound.astype(np.int16)\n",
    "        current_name = str(keyword_directory) + str(keyword)+f\"_{index}.wav\" \n",
    "        #current_name = filenames[index]\n",
    "        write(current_name, fsamp, sound_normalized)\n",
    "        if ((index%10)==0):\n",
    "            print(f\"{index}/{len(filenames)} complete\")"
   ]
  },
  {
   "cell_type": "code",
   "execution_count": null,
   "id": "e643c9d2",
   "metadata": {},
   "outputs": [],
   "source": [
    "test_wav=filenames[250]\n",
    "fs, test_wav = wavfile.read(test_wav)\n",
    "plt.plot(np.arange(1*fs)/fs, test_wav)\n",
    "plt.show()\n",
    "ipd.Audio(test_wav, rate=fs)"
   ]
  },
  {
   "cell_type": "code",
   "execution_count": null,
   "id": "80c668b4",
   "metadata": {},
   "outputs": [],
   "source": []
  },
  {
   "cell_type": "code",
   "execution_count": null,
   "id": "195f3a58",
   "metadata": {},
   "outputs": [],
   "source": []
  }
 ],
 "metadata": {
  "kernelspec": {
   "display_name": "Python 3 (ipykernel)",
   "language": "python",
   "name": "python3"
  },
  "language_info": {
   "codemirror_mode": {
    "name": "ipython",
    "version": 3
   },
   "file_extension": ".py",
   "mimetype": "text/x-python",
   "name": "python",
   "nbconvert_exporter": "python",
   "pygments_lexer": "ipython3",
   "version": "3.10.9"
  }
 },
 "nbformat": 4,
 "nbformat_minor": 5
}
