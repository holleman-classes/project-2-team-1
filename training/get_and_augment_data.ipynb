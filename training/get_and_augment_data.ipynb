{
 "cells": [
  {
   "cell_type": "markdown",
   "id": "4f98bbad",
   "metadata": {},
   "source": [
    "# Audio Capture & Augmentation\n",
    "#### Author: Jeromey Schwartz\n",
    "#### *Audio capture code (indicated with *) supplied by Dr. Jeremy Holleman UNC-Charlotte "
   ]
  },
  {
   "cell_type": "markdown",
   "id": "0e85322b",
   "metadata": {},
   "source": [
    "### Purpose:\n",
    "This will record an audio sample 1 second long at a sampling rate of 16kHz, the samples can then be augmented by adding noise, pitch shifting, or time shifting "
   ]
  },
  {
   "cell_type": "markdown",
   "id": "3d0398a4",
   "metadata": {},
   "source": [
    "### Program Flow:\n",
    "1. Load libraries/setup code \n",
    "2. Save a number of audio samples \n",
    "3. Save ambient noise samples \n",
    "4. Noise shift \n",
    "5. Time shift \n",
    "6. Pitch shift \n",
    "7. Save samples names in validation document "
   ]
  },
  {
   "cell_type": "raw",
   "id": "dd7b44af",
   "metadata": {},
   "source": []
  },
  {
   "cell_type": "markdown",
   "id": "4914f189",
   "metadata": {},
   "source": [
    "#### Import libraries"
   ]
  },
  {
   "cell_type": "code",
   "execution_count": 1,
   "id": "4a0c1da4",
   "metadata": {},
   "outputs": [
    {
     "name": "stderr",
     "output_type": "stream",
     "text": [
      "2023-05-04 21:02:48.585085: I tensorflow/core/util/port.cc:110] oneDNN custom operations are on. You may see slightly different numerical results due to floating-point round-off errors from different computation orders. To turn them off, set the environment variable `TF_ENABLE_ONEDNN_OPTS=0`.\n",
      "2023-05-04 21:02:48.614071: I tensorflow/core/platform/cpu_feature_guard.cc:182] This TensorFlow binary is optimized to use available CPU instructions in performance-critical operations.\n",
      "To enable the following instructions: AVX2 AVX_VNNI FMA, in other operations, rebuild TensorFlow with the appropriate compiler flags.\n",
      "2023-05-04 21:02:49.061569: W tensorflow/compiler/tf2tensorrt/utils/py_utils.cc:38] TF-TRT Warning: Could not find TensorRT\n"
     ]
    }
   ],
   "source": [
    "import os\n",
    "os.environ['PY_SSIZE_T_CLEAN'] = '1'\n",
    "\n",
    "import tensorflow as tf\n",
    "from tensorflow.lite.experimental.microfrontend.python.ops import audio_microfrontend_op as frontend_op\n",
    "import numpy as np\n",
    "import time\n",
    "from scipy.io import wavfile\n",
    "import random\n",
    "import sys\n",
    "import io\n",
    "import os\n",
    "import pathlib\n",
    "import glob\n",
    "from datetime import datetime as dt\n",
    "from numpy import log as ln\n",
    "import matplotlib.mlab as mlab\n",
    "import matplotlib.pyplot as plt\n",
    "from scipy.io.wavfile import write\n",
    "import IPython\n",
    "import IPython.display as ipd\n",
    "import tensorflow as tf\n",
    "%matplotlib inline\n",
    "import pyaudio\n",
    "from queue import Queue\n",
    "from threading import Thread\n",
    "import math\n",
    "import time\n",
    "import librosa"
   ]
  },
  {
   "cell_type": "markdown",
   "id": "1d93e449",
   "metadata": {},
   "source": [
    "#### Set Parameters*"
   ]
  },
  {
   "cell_type": "code",
   "execution_count": 2,
   "id": "4e632d52",
   "metadata": {},
   "outputs": [],
   "source": [
    "i16min            = -32768\n",
    "i16max            = 32767\n",
    "fsamp             = 16000\n",
    "wave_length_ms    = 1000\n",
    "wave_length_samps = 16000\n",
    "window_size_ms    = 60\n",
    "window_step_ms    = 40\n",
    "num_filters       = 32\n",
    "use_microfrontend = True\n",
    "keyword        = 'computer'#####Insert your keyword\n",
    "spectrogram_shape = (64, 24, 32, 1)\n",
    "\n",
    "chunk_duration = 0.25 # Each read length in seconds from mic.\n",
    "fs = 16000 # sampling rate for mic\n",
    "sample_rate = 16000 # sampling rate for mic\n",
    "chunk_samples = int(fs * chunk_duration) # Each read length in number of samples.\n",
    "\n",
    "# Each model input data duration in seconds, need to be an integer numbers of chunk_duration\n",
    "feed_duration = 1.0\n",
    "feed_samples = int(fs * feed_duration)\n",
    "\n",
    "assert feed_duration/chunk_duration == int(feed_duration/chunk_duration)"
   ]
  },
  {
   "cell_type": "markdown",
   "id": "b1b6456e",
   "metadata": {},
   "source": [
    "#### Create keyword & noise folders*"
   ]
  },
  {
   "cell_type": "code",
   "execution_count": 3,
   "id": "86b7bdf9",
   "metadata": {},
   "outputs": [
    {
     "name": "stdout",
     "output_type": "stream",
     "text": [
      "/home/david/Documents/GitHub/project-2-team-1/training/custom-speech/computer/\n",
      "Directory 'computer' created\n",
      "Directory 'noise' created\n"
     ]
    }
   ],
   "source": [
    "import os\n",
    "\n",
    "# Define the path to the parent directory\n",
    "parent_dir = os.getcwd()\n",
    "parent_dir = os.path.join(parent_dir, \"custom-speech\")\n",
    "\n",
    "# Get the name of the current keyword\n",
    "keyword = \"computer\"\n",
    "\n",
    "# Create the folder name and path\n",
    "folder = keyword\n",
    "dir = os.path.join(parent_dir, folder)\n",
    "\n",
    "# Create the directories if they do not exist\n",
    "if not os.path.exists(dir):\n",
    "    os.mkdir(dir)\n",
    "\n",
    "folder = keyword\n",
    "dir = os.path.join(parent_dir, folder)\n",
    "noise_dir = os.path.join(parent_dir, \"noise\")\n",
    "\n",
    "if not os.path.exists(dir):\n",
    "    os.mkdir(dir)\n",
    "\n",
    "if not os.path.exists(noise_dir):\n",
    "    os.mkdir(noise_dir)\n",
    "\n",
    "keyword_directory = dir + '/'\n",
    "print(keyword_directory)\n",
    "\n",
    "# Check if the directories were created\n",
    "if os.path.exists(os.path.join(parent_dir, \"computer\")):\n",
    "    print(\"Directory 'computer' created\")\n",
    "if os.path.exists(os.path.join(parent_dir, \"noise\")):\n",
    "    print(\"Directory 'noise' created\")\n"
   ]
  },
  {
   "cell_type": "raw",
   "id": "d2691401",
   "metadata": {},
   "source": []
  },
  {
   "cell_type": "markdown",
   "id": "45d33f91",
   "metadata": {},
   "source": [
    "# Get Custom Data"
   ]
  },
  {
   "cell_type": "markdown",
   "id": "f7cc895e",
   "metadata": {},
   "source": [
    "#### Run this code to get in an audio sample*"
   ]
  },
  {
   "cell_type": "code",
   "execution_count": 4,
   "id": "ace0223b",
   "metadata": {},
   "outputs": [
    {
     "name": "stdout",
     "output_type": "stream",
     "text": [
      "Default input device:\n",
      "{'index': 0, 'structVersion': 2, 'name': 'HDA Intel PCH: ALC897 Analog (hw:0,0)', 'hostApi': 0, 'maxInputChannels': 2, 'maxOutputChannels': 2, 'defaultLowInputLatency': 0.005804988662131519, 'defaultLowOutputLatency': 0.005804988662131519, 'defaultHighInputLatency': 0.034829931972789115, 'defaultHighOutputLatency': 0.034829931972789115, 'defaultSampleRate': 44100.0}\n",
      "\n",
      "Default output device:\n",
      "{'index': 0, 'structVersion': 2, 'name': 'HDA Intel PCH: ALC897 Analog (hw:0,0)', 'hostApi': 0, 'maxInputChannels': 2, 'maxOutputChannels': 2, 'defaultLowInputLatency': 0.005804988662131519, 'defaultLowOutputLatency': 0.005804988662131519, 'defaultHighInputLatency': 0.034829931972789115, 'defaultHighOutputLatency': 0.034829931972789115, 'defaultSampleRate': 44100.0}\n"
     ]
    },
    {
     "name": "stderr",
     "output_type": "stream",
     "text": [
      "ALSA lib pcm.c:2666:(snd_pcm_open_noupdate) Unknown PCM cards.pcm.rear\n",
      "ALSA lib pcm.c:2666:(snd_pcm_open_noupdate) Unknown PCM cards.pcm.center_lfe\n",
      "ALSA lib pcm.c:2666:(snd_pcm_open_noupdate) Unknown PCM cards.pcm.side\n",
      "ALSA lib pcm_route.c:877:(find_matching_chmap) Found no matching channel map\n",
      "ALSA lib pcm_route.c:877:(find_matching_chmap) Found no matching channel map\n",
      "ALSA lib pcm_route.c:877:(find_matching_chmap) Found no matching channel map\n",
      "ALSA lib pcm_route.c:877:(find_matching_chmap) Found no matching channel map\n",
      "ALSA lib dlmisc.c:337:(snd_dlobj_cache_get0) Cannot open shared library libasound_module_rate_samplerate.so (/home/david/anaconda3/lib/alsa-lib/libasound_module_rate_samplerate.so: cannot open shared object file: No such file or directory)\n",
      "ALSA lib pcm_rate.c:1582:(snd_pcm_rate_open) Cannot find rate converter\n",
      "ALSA lib dlmisc.c:337:(snd_dlobj_cache_get0) Cannot open shared library libasound_module_rate_samplerate.so (/home/david/anaconda3/lib/alsa-lib/libasound_module_rate_samplerate.so: cannot open shared object file: No such file or directory)\n",
      "ALSA lib pcm_rate.c:1582:(snd_pcm_rate_open) Cannot find rate converter\n",
      "ALSA lib dlmisc.c:337:(snd_dlobj_cache_get0) Cannot open shared library libasound_module_rate_speexrate.so (/home/david/anaconda3/lib/alsa-lib/libasound_module_rate_speexrate.so: cannot open shared object file: No such file or directory)\n",
      "ALSA lib pcm_rate.c:1582:(snd_pcm_rate_open) Cannot find rate converter\n",
      "ALSA lib dlmisc.c:337:(snd_dlobj_cache_get0) Cannot open shared library libasound_module_rate_speexrate.so (/home/david/anaconda3/lib/alsa-lib/libasound_module_rate_speexrate.so: cannot open shared object file: No such file or directory)\n",
      "ALSA lib pcm_rate.c:1582:(snd_pcm_rate_open) Cannot find rate converter\n",
      "ALSA lib dlmisc.c:337:(snd_dlobj_cache_get0) Cannot open shared library libasound_module_pcm_jack.so (/home/david/anaconda3/lib/alsa-lib/libasound_module_pcm_jack.so: cannot open shared object file: No such file or directory)\n",
      "ALSA lib dlmisc.c:337:(snd_dlobj_cache_get0) Cannot open shared library libasound_module_pcm_jack.so (/home/david/anaconda3/lib/alsa-lib/libasound_module_pcm_jack.so: cannot open shared object file: No such file or directory)\n",
      "ALSA lib dlmisc.c:337:(snd_dlobj_cache_get0) Cannot open shared library libasound_module_pcm_oss.so (/home/david/anaconda3/lib/alsa-lib/libasound_module_pcm_oss.so: cannot open shared object file: No such file or directory)\n",
      "ALSA lib dlmisc.c:337:(snd_dlobj_cache_get0) Cannot open shared library libasound_module_pcm_oss.so (/home/david/anaconda3/lib/alsa-lib/libasound_module_pcm_oss.so: cannot open shared object file: No such file or directory)\n",
      "ALSA lib dlmisc.c:337:(snd_dlobj_cache_get0) Cannot open shared library libasound_module_pcm_pipewire.so (/home/david/anaconda3/lib/alsa-lib/libasound_module_pcm_pipewire.so: cannot open shared object file: No such file or directory)\n",
      "ALSA lib dlmisc.c:337:(snd_dlobj_cache_get0) Cannot open shared library libasound_module_pcm_pipewire.so (/home/david/anaconda3/lib/alsa-lib/libasound_module_pcm_pipewire.so: cannot open shared object file: No such file or directory)\n",
      "ALSA lib dlmisc.c:337:(snd_dlobj_cache_get0) Cannot open shared library libasound_module_pcm_pulse.so (/home/david/anaconda3/lib/alsa-lib/libasound_module_pcm_pulse.so: cannot open shared object file: No such file or directory)\n",
      "ALSA lib dlmisc.c:337:(snd_dlobj_cache_get0) Cannot open shared library libasound_module_pcm_pulse.so (/home/david/anaconda3/lib/alsa-lib/libasound_module_pcm_pulse.so: cannot open shared object file: No such file or directory)\n",
      "ALSA lib dlmisc.c:337:(snd_dlobj_cache_get0) Cannot open shared library libasound_module_pcm_upmix.so (/home/david/anaconda3/lib/alsa-lib/libasound_module_pcm_upmix.so: cannot open shared object file: No such file or directory)\n",
      "ALSA lib dlmisc.c:337:(snd_dlobj_cache_get0) Cannot open shared library libasound_module_pcm_upmix.so (/home/david/anaconda3/lib/alsa-lib/libasound_module_pcm_upmix.so: cannot open shared object file: No such file or directory)\n",
      "ALSA lib dlmisc.c:337:(snd_dlobj_cache_get0) Cannot open shared library libasound_module_pcm_vdownmix.so (/home/david/anaconda3/lib/alsa-lib/libasound_module_pcm_vdownmix.so: cannot open shared object file: No such file or directory)\n",
      "ALSA lib dlmisc.c:337:(snd_dlobj_cache_get0) Cannot open shared library libasound_module_pcm_vdownmix.so (/home/david/anaconda3/lib/alsa-lib/libasound_module_pcm_vdownmix.so: cannot open shared object file: No such file or directory)\n",
      "ALSA lib dlmisc.c:337:(snd_dlobj_cache_get0) Cannot open shared library libasound_module_pcm_usb_stream.so (/home/david/anaconda3/lib/alsa-lib/libasound_module_pcm_usb_stream.so: cannot open shared object file: No such file or directory)\n",
      "ALSA lib dlmisc.c:337:(snd_dlobj_cache_get0) Cannot open shared library libasound_module_pcm_usb_stream.so (/home/david/anaconda3/lib/alsa-lib/libasound_module_pcm_usb_stream.so: cannot open shared object file: No such file or directory)\n",
      "ALSA lib dlmisc.c:337:(snd_dlobj_cache_get0) Cannot open shared library libasound_module_pcm_pulse.so (/home/david/anaconda3/lib/alsa-lib/libasound_module_pcm_pulse.so: cannot open shared object file: No such file or directory)\n",
      "ALSA lib dlmisc.c:337:(snd_dlobj_cache_get0) Cannot open shared library libasound_module_pcm_pulse.so (/home/david/anaconda3/lib/alsa-lib/libasound_module_pcm_pulse.so: cannot open shared object file: No such file or directory)\n",
      "Cannot connect to server socket err = No such file or directory\n",
      "Cannot connect to server request channel\n",
      "jack server is not running or cannot be started\n",
      "JackShmReadWritePtr::~JackShmReadWritePtr - Init not done for -1, skipping unlock\n",
      "JackShmReadWritePtr::~JackShmReadWritePtr - Init not done for -1, skipping unlock\n"
     ]
    }
   ],
   "source": [
    "import pyaudio\n",
    "\n",
    "# Create a PyAudio object\n",
    "pa = pyaudio.PyAudio()\n",
    "\n",
    "# Get the default input and output devices\n",
    "default_input_device = pa.get_default_input_device_info()\n",
    "default_output_device = pa.get_default_output_device_info()\n",
    "\n",
    "# Print information about the default devices\n",
    "print(\"Default input device:\")\n",
    "print(default_input_device)\n",
    "\n",
    "print(\"\\nDefault output device:\")\n",
    "print(default_output_device)\n",
    "\n",
    "# # Print information about all available devices\n",
    "# print(\"\\nAvailable devices:\")\n",
    "# for i in range(pa.get_device_count()):\n",
    "#     device_info = pa.get_device_info_by_index(i)\n",
    "#     print(device_info)"
   ]
  },
  {
   "cell_type": "code",
   "execution_count": 5,
   "id": "00064e71",
   "metadata": {},
   "outputs": [
    {
     "name": "stdout",
     "output_type": "stream",
     "text": [
      "Python version\n",
      "3.10.10 | packaged by conda-forge | (main, Mar 24 2023, 20:08:06) [GCC 11.3.0]\n",
      "Version info.\n",
      "sys.version_info(major=3, minor=10, micro=10, releaselevel='final', serial=0)\n"
     ]
    }
   ],
   "source": [
    "import sys\n",
    "print(\"Python version\")\n",
    "print(sys.version)\n",
    "print(\"Version info.\")\n",
    "print(sys.version_info)"
   ]
  },
  {
   "cell_type": "code",
   "execution_count": 6,
   "id": "3288e6ce",
   "metadata": {
    "scrolled": false
   },
   "outputs": [],
   "source": [
    "# # Queue to communiate between the audio callback and main thread\n",
    "# q = Queue()\n",
    "# run = True\n",
    "# silence_threshold = 100\n",
    "# # Run the demo for a timeout seconds\n",
    "# timeout = time.time() + 1 \n",
    "# # Data buffer for the input wavform\n",
    "# data = np.zeros(feed_samples, dtype='int16')\n",
    "\n",
    "# def callback(in_data, frame_count, time_info, status):\n",
    "#     global run, timeout, data, silence_threshold    \n",
    "#     if time.time() > timeout:\n",
    "#         run = False        \n",
    "#     data0 = np.frombuffer(in_data, dtype='int16')\n",
    "#     data = np.append(data,data0)    \n",
    "#     if len(data) > feed_samples:\n",
    "#         data = data[-feed_samples:]\n",
    "#         # Process data async by sending a queue.\n",
    "#         q.put(data)\n",
    "#     return (in_data, pyaudio.paContinue)\n",
    "\n",
    "# stream = pyaudio.PyAudio().open(\n",
    "#     format=pyaudio.paInt16,\n",
    "#     channels=1,\n",
    "#     rate=fs,\n",
    "#     input=True,\n",
    "#     frames_per_buffer=chunk_samples,\n",
    "#     input_device_index=23,\n",
    "#     stream_callback=callback)\n",
    "# stream.start_stream()\n",
    "# try:\n",
    "#     while run:        \n",
    "#         data = q.get()\n",
    "# except (KeyboardInterrupt, SystemExit):\n",
    "#     stream.stop_stream()\n",
    "#     stream.close()\n",
    "#     timeout = time.time()\n",
    "#     run = False      \n",
    "# stream.stop_stream()\n",
    "# stream.close()\n",
    "\n",
    "# sample_rate = fs\n",
    "\n",
    "\n",
    "# #Displaying wave file data\n",
    "# plt.plot(np.arange(1*fs)/fs, data)\n",
    "# plt.show()\n",
    "# ipd.Audio(data, rate=fs)"
   ]
  },
  {
   "cell_type": "markdown",
   "id": "8b5ac719",
   "metadata": {},
   "source": [
    "#### If the Sample looks good run cell below to save it "
   ]
  },
  {
   "cell_type": "code",
   "execution_count": 7,
   "id": "802139e8",
   "metadata": {},
   "outputs": [],
   "source": [
    "# # #saving the wave file to training_data\n",
    "# date_str = dt.now().strftime(\"%H%M%S\").lower()\n",
    "# current_name = f\"{keyword_directory}{keyword}_{date_str}.wav\".replace(\"\\\\\", \"/\")\n",
    "# write(current_name, sample_rate, data)\n",
    "# print(\"Audio sample saved\")\n",
    "# print(current_name)"
   ]
  },
  {
   "cell_type": "markdown",
   "id": "c32de0a5",
   "metadata": {},
   "source": [
    "#### Noise\n",
    "* To get noise data run \"get data\" loop again to get ambient room\n",
    "* Save here\n",
    "* Get ~3 samples total"
   ]
  },
  {
   "cell_type": "code",
   "execution_count": 9,
   "id": "a496c94d",
   "metadata": {},
   "outputs": [],
   "source": [
    "# # #saving the wave file to training_data\n",
    "# date_str = dt.now().strftime(\"%H%M%S\").lower()\n",
    "# current_name = f\"{parent_dir}/noise/noise_{date_str}.wav\"\n",
    "# write(current_name, sample_rate, data)\n",
    "# print(\"Audio sample saved as noise\")"
   ]
  },
  {
   "cell_type": "markdown",
   "id": "9b8c59cc",
   "metadata": {},
   "source": [
    "# Audio Augmentation- Noise\n",
    "    * This will create copies of sample audio and add pre-recorded noise. \n",
    "    * The amplitude of the noise depends on *noise_count*\n",
    "    * Audio samples and visualizations are created to show noise augmentation"
   ]
  },
  {
   "cell_type": "code",
   "execution_count": 10,
   "id": "8d7813e0",
   "metadata": {},
   "outputs": [
    {
     "data": {
      "image/png": "[encoded data removed]",
      "text/plain": [
       "<Figure size 640x480 with 1 Axes>"
      ]
     },
     "metadata": {},
     "output_type": "display_data"
    },
    {
     "data": {
      "text/html": [
       "\n",
       "                <audio  controls=\"controls\" >\n",
       "                    <source src=\"data:audio/wav;base64,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\" type=\"audio/wav\" />\n",
       "                    Your browser does not support the audio element.\n",
       "                </audio>\n",
       "              "
      ],
      "text/plain": [
       "<IPython.lib.display.Audio object>"
      ]
     },
     "execution_count": 10,
     "metadata": {},
     "output_type": "execute_result"
    }
   ],
   "source": [
    "#Selecting augmentation folder & files\n",
    "data_dir = dir\n",
    "filenames = tf.io.gfile.glob(str(data_dir) + '/*.wav')\n",
    "\n",
    "#Testing if audio data imported correctly\n",
    "test_wav=filenames[0]\n",
    "fs, test_wav = wavfile.read(test_wav)\n",
    "plt.plot(np.arange(1*fs)/fs, test_wav)\n",
    "plt.show()\n",
    "ipd.Audio(test_wav, rate=fs)"
   ]
  },
  {
   "cell_type": "code",
   "execution_count": 11,
   "id": "7e36dfc9",
   "metadata": {},
   "outputs": [
    {
     "name": "stdout",
     "output_type": "stream",
     "text": [
      "Noise Samples: 0\n"
     ]
    }
   ],
   "source": [
    "#Loading noise samples\n",
    "noise_dir = parent_dir+'/noise'\n",
    "noise_samples = tf.io.gfile.glob(str(noise_dir) + '/*.wav')\n",
    "print(\"Noise Samples:\", len(noise_samples))"
   ]
  },
  {
   "cell_type": "markdown",
   "id": "58ca02bd",
   "metadata": {},
   "source": [
    "#### Set Augment count"
   ]
  },
  {
   "cell_type": "code",
   "execution_count": 12,
   "id": "b2b00e22",
   "metadata": {},
   "outputs": [
    {
     "name": "stdout",
     "output_type": "stream",
     "text": [
      "This will expand the current 4000 files by creating an addtional 0 noise augmented files, to give a total of 4000 files\n"
     ]
    }
   ],
   "source": [
    "#noise_count will deteremine how many augmentations will be created\n",
    "    #noise_count=1 will be a copy with noise augmentation * 0\n",
    "    #noise_count=2 will be noise_count=1 plus a copy with noise augmentation * 1\n",
    "    #noise_count=2 will be noise_count=2 plus a copy with noise augmentation * 2  \n",
    "    #and so on \n",
    "\n",
    "noise_count=4\n",
    "print(\"This will expand the current\", len(filenames), \"files by creating an addtional\",len(filenames)*len(noise_samples)*noise_count, \"noise augmented files, to give a total of\",len(filenames)*len(noise_samples)*(noise_count)+len(filenames),\"files\")"
   ]
  },
  {
   "cell_type": "markdown",
   "id": "38a67c2c",
   "metadata": {},
   "source": [
    "#### Creating Noise Augmentation"
   ]
  },
  {
   "cell_type": "code",
   "execution_count": 13,
   "id": "4a7439dc",
   "metadata": {},
   "outputs": [],
   "source": [
    "#dict holds samples for plotting\n",
    "noise_dict={}\n",
    "for index in range(len(filenames)):\n",
    "    test_wav=filenames[index]\n",
    "    fs, test_wav = wavfile.read(test_wav)\n",
    "    if (len(test_wav) < fs):\n",
    "        padding=fs-len(test_wav)\n",
    "        extra_padding=np.zeros(padding).astype(np.int16) #array of empty audio to pad with\n",
    "        test_wav=np.concatenate((test_wav,extra_padding),axis=0).astype(np.int16)\n",
    "    noise_dict[0]=test_wav.astype(np.int16)\n",
    "    for i in range(len(noise_samples)):\n",
    "        noise=noise_samples[i]\n",
    "        fs, noise = wavfile.read(noise)\n",
    "        for j in range(noise_count):\n",
    "            noise_multiplier=round(max(test_wav)*(j/2000))\n",
    "            noise_lvl=noise*noise_multiplier\n",
    "            test_wave_with_noise=np.add(test_wav,noise_lvl)\n",
    "            current_name = str(keyword_directory) + str(keyword)+f\"_Sample{index}_Noise{i}_Multiplier{j}.wav\"\n",
    "            write(current_name, fs, test_wave_with_noise)\n",
    "            noise_dict[j+1]=test_wave_with_noise.astype(np.int16)\n",
    "            noise_dict[j+5]=noise_lvl.astype(np.int16)"
   ]
  },
  {
   "cell_type": "markdown",
   "id": "b98b9b33",
   "metadata": {},
   "source": [
    "#### Plotting noise augmenation"
   ]
  },
  {
   "cell_type": "code",
   "execution_count": 14,
   "id": "b2ce4418",
   "metadata": {},
   "outputs": [
    {
     "ename": "KeyError",
     "evalue": "5",
     "output_type": "error",
     "traceback": [
      "\u001b[0;31m---------------------------------------------------------------------------\u001b[0m",
      "\u001b[0;31mKeyError\u001b[0m                                  Traceback (most recent call last)",
      "Cell \u001b[0;32mIn[14], line 4\u001b[0m\n\u001b[1;32m      2\u001b[0m fig, axs \u001b[38;5;241m=\u001b[39m plt\u001b[38;5;241m.\u001b[39msubplots(\u001b[38;5;241m4\u001b[39m, \u001b[38;5;241m4\u001b[39m,figsize\u001b[38;5;241m=\u001b[39m(\u001b[38;5;241m20\u001b[39m,\u001b[38;5;241m10\u001b[39m), sharex\u001b[38;5;241m=\u001b[39m\u001b[38;5;28;01mTrue\u001b[39;00m,sharey\u001b[38;5;241m=\u001b[39m\u001b[38;5;28;01mTrue\u001b[39;00m)\n\u001b[1;32m      3\u001b[0m axs[\u001b[38;5;241m0\u001b[39m,\u001b[38;5;241m0\u001b[39m]\u001b[38;5;241m.\u001b[39mplot(np\u001b[38;5;241m.\u001b[39marange(\u001b[38;5;241m1\u001b[39m\u001b[38;5;241m*\u001b[39mfs)\u001b[38;5;241m/\u001b[39mfs, noise_dict[\u001b[38;5;241m0\u001b[39m])\n\u001b[0;32m----> 4\u001b[0m axs[\u001b[38;5;241m0\u001b[39m,\u001b[38;5;241m1\u001b[39m]\u001b[38;5;241m.\u001b[39mplot(np\u001b[38;5;241m.\u001b[39marange(\u001b[38;5;241m1\u001b[39m\u001b[38;5;241m*\u001b[39mfs)\u001b[38;5;241m/\u001b[39mfs, \u001b[43mnoise_dict\u001b[49m\u001b[43m[\u001b[49m\u001b[38;5;241;43m5\u001b[39;49m\u001b[43m]\u001b[49m, \u001b[38;5;124m'\u001b[39m\u001b[38;5;124mtab:orange\u001b[39m\u001b[38;5;124m'\u001b[39m)\n\u001b[1;32m      5\u001b[0m axs[\u001b[38;5;241m0\u001b[39m,\u001b[38;5;241m2\u001b[39m]\u001b[38;5;241m.\u001b[39mplot(np\u001b[38;5;241m.\u001b[39marange(\u001b[38;5;241m1\u001b[39m\u001b[38;5;241m*\u001b[39mfs)\u001b[38;5;241m/\u001b[39mfs, noise_dict[\u001b[38;5;241m0\u001b[39m])\n\u001b[1;32m      6\u001b[0m axs[\u001b[38;5;241m0\u001b[39m,\u001b[38;5;241m2\u001b[39m]\u001b[38;5;241m.\u001b[39mplot(np\u001b[38;5;241m.\u001b[39marange(\u001b[38;5;241m1\u001b[39m\u001b[38;5;241m*\u001b[39mfs)\u001b[38;5;241m/\u001b[39mfs, noise_dict[\u001b[38;5;241m5\u001b[39m])\n",
      "\u001b[0;31mKeyError\u001b[0m: 5"
     ]
    },
    {
     "data": {
      "image/png": "[encoded data removed]",
      "text/plain": [
       "<Figure size 2000x1000 with 16 Axes>"
      ]
     },
     "metadata": {},
     "output_type": "display_data"
    }
   ],
   "source": [
    "#Only plots up to noise lvl 3\n",
    "fig, axs = plt.subplots(4, 4,figsize=(20,10), sharex=True,sharey=True)\n",
    "axs[0,0].plot(np.arange(1*fs)/fs, noise_dict[0])\n",
    "axs[0,1].plot(np.arange(1*fs)/fs, noise_dict[5], 'tab:orange')\n",
    "axs[0,2].plot(np.arange(1*fs)/fs, noise_dict[0])\n",
    "axs[0,2].plot(np.arange(1*fs)/fs, noise_dict[5])\n",
    "axs[0,3].plot(np.arange(1*fs)/fs, noise_dict[1])\n",
    "\n",
    "axs[0, 0].set_title(\"Original\")\n",
    "axs[0, 1].set_title(\"Noise\")\n",
    "axs[0, 2].set_title(\"Original + Noise\")\n",
    "axs[0, 3].set_title(\"Augmented Audio\")\n",
    "\n",
    "axs[0, 0].set(xlabel='Time (s)', ylabel='Noise lvl 0')\n",
    "axs[1, 0].set(xlabel='Time (s)', ylabel='Noise lvl 1')\n",
    "axs[2, 0].set(xlabel='Time (s)', ylabel='Noise lvl 2')\n",
    "axs[3, 0].set(xlabel='Time (s)', ylabel='Noise lvl 3')\n",
    "\n",
    "axs[1,0].plot(np.arange(1*fs)/fs, noise_dict[0])\n",
    "axs[1,1].plot(np.arange(1*fs)/fs, noise_dict[6], 'tab:orange')\n",
    "axs[1,2].plot(np.arange(1*fs)/fs, noise_dict[0])\n",
    "axs[1,2].plot(np.arange(1*fs)/fs, noise_dict[6])\n",
    "axs[1,3].plot(np.arange(1*fs)/fs, noise_dict[2])\n",
    "\n",
    "axs[2,0].plot(np.arange(1*fs)/fs, noise_dict[0])\n",
    "axs[2,1].plot(np.arange(1*fs)/fs, noise_dict[7], 'tab:orange')\n",
    "axs[2,2].plot(np.arange(1*fs)/fs, noise_dict[0])\n",
    "axs[2,2].plot(np.arange(1*fs)/fs, noise_dict[7])\n",
    "axs[2,3].plot(np.arange(1*fs)/fs, noise_dict[3])\n",
    "\n",
    "axs[3,0].plot(np.arange(1*fs)/fs, noise_dict[0])\n",
    "axs[3,1].plot(np.arange(1*fs)/fs, noise_dict[8], 'tab:orange')\n",
    "axs[3,2].plot(np.arange(1*fs)/fs, noise_dict[0])\n",
    "axs[3,2].plot(np.arange(1*fs)/fs, noise_dict[8])\n",
    "axs[3,3].plot(np.arange(1*fs)/fs, noise_dict[4])\n",
    "\n",
    "for ax in axs.flat:\n",
    "    ax.set(xlabel='Time (s)')\n",
    "\n",
    "# Hide x labels and tick labels for top plots and y ticks for right plots.\n",
    "for ax in axs.flat:\n",
    "    ax.label_outer()"
   ]
  },
  {
   "cell_type": "markdown",
   "id": "f85f4855",
   "metadata": {},
   "source": [
    "#### Listen to noise augmenation"
   ]
  },
  {
   "cell_type": "code",
   "execution_count": null,
   "id": "43c692f3",
   "metadata": {},
   "outputs": [],
   "source": [
    "#Only samples up to noise lvl 3\n",
    "from IPython.display import Audio \n",
    "from IPython.display import display\n",
    "\n",
    "print(\"Noise lvl 0:\")\n",
    "display(Audio(noise_dict[0], rate=fs))\n",
    "print(\"Noise lvl 1:\")\n",
    "display(Audio(noise_dict[2], rate=fs))\n",
    "print(\"Noise lvl 2:\")\n",
    "display(Audio(noise_dict[3], rate=fs))\n",
    "print(\"Noise lvl 3:\")\n",
    "display(Audio(noise_dict[4], rate=fs))"
   ]
  },
  {
   "cell_type": "markdown",
   "id": "8b2f40a1",
   "metadata": {},
   "source": [
    "# Audio Augmentation- Pitch Shift\n",
    "    * This will create copies of sample audio and pitch shift them\n",
    "    * The variable *pitch_shift* allows control over pitch\n",
    "    * The variable *desired_number_of_files* allows control of exactly how many samples to create\n",
    "    * The loop will continue creating copies until desired count is reached, including pitch shifting already pitch shifted copies"
   ]
  },
  {
   "cell_type": "code",
   "execution_count": null,
   "id": "169e2afb",
   "metadata": {},
   "outputs": [],
   "source": [
    "#Need to update filenames\n",
    "data_dir = dir\n",
    "filenames = tf.io.gfile.glob(str(data_dir) + '/*.wav')\n",
    "#Testing if audio data imported correctly\n",
    "filenames[0]\n",
    "test_wav=filenames[0]\n",
    "fs, test_wav = wavfile.read(test_wav)\n",
    "plt.plot(np.arange(1*fs)/fs, test_wav)\n",
    "plt.show()\n",
    "ipd.Audio(test_wav, rate=fs)"
   ]
  },
  {
   "cell_type": "code",
   "execution_count": null,
   "id": "daf0ab90",
   "metadata": {},
   "outputs": [],
   "source": [
    "print(\"The current number of files in directory is\", len(filenames))"
   ]
  },
  {
   "cell_type": "markdown",
   "id": "aee19898",
   "metadata": {},
   "source": [
    "#### Set Augment count"
   ]
  },
  {
   "cell_type": "code",
   "execution_count": null,
   "id": "525d0c2e",
   "metadata": {},
   "outputs": [],
   "source": [
    "print(\"Sample count:\", len(filenames))"
   ]
  },
  {
   "cell_type": "code",
   "execution_count": 15,
   "id": "6098e322",
   "metadata": {},
   "outputs": [
    {
     "name": "stdout",
     "output_type": "stream",
     "text": [
      "/home/david/Documents/GitHub/project-2-team-1/training/custom-speech/computer/computer_Pitch_Shift_4_79.wav\n",
      "Total files: 4000\n"
     ]
    }
   ],
   "source": [
    "#Need to update filenames\n",
    "data_dir = dir\n",
    "filenames = tf.io.gfile.glob(str(data_dir) + '/*.wav')\n",
    "#Verifying opens files correctly\n",
    "print(filenames[0])\n",
    "\n",
    "num_files=len(filenames)\n",
    "num_files\n",
    "print(\"Total files:\", num_files)\n",
    "\n",
    "#randomizes order of samples for validation list\n",
    "random_list = list(range(0, num_files)) #create array [1,2,3...]\n",
    "random.shuffle(random_list) #randomize the array"
   ]
  },
  {
   "cell_type": "code",
   "execution_count": 16,
   "id": "59406c74",
   "metadata": {},
   "outputs": [],
   "source": [
    "#How many of the files do you want to have total?\n",
    "desired_number_of_files=4000\n",
    "\n",
    "#How do you want to pitch shift\n",
    "    #positive=high pitch, negative = low pitch\n",
    "    #0.25 is a good value\n",
    "pitch_shift=0.25"
   ]
  },
  {
   "cell_type": "markdown",
   "id": "faa7c992",
   "metadata": {},
   "source": [
    "### Doubling Equation:   \n",
    "> $output=input * 2^{x}$\n",
    "\n",
    "*Here $x$ is the number of times input is doubled\n",
    "\n",
    "#### To get desired number of output files from input when loop doubles input every iteration of the for loop we solve for $x$:\n",
    "   \n",
    "> $x=\\log _{2}(\\frac{out}{in})$\\\n",
    "  $x=\\frac{\\ln (\\frac{out}{in})} {\\ln (2)}$\n",
    "                 \n",
    "#### Next $math.ceil()$ is used to round up to integer for loop iteration\n",
    "\n",
    "> $x=$ math.ceil$(\\frac{\\ln (out)}{\\ln (in)})$"
   ]
  },
  {
   "cell_type": "code",
   "execution_count": 17,
   "id": "66f888ea",
   "metadata": {},
   "outputs": [
    {
     "data": {
      "text/plain": [
       "0"
      ]
     },
     "execution_count": 17,
     "metadata": {},
     "output_type": "execute_result"
    }
   ],
   "source": [
    "#Doubling formula used to find range for outer for loop indexing with \"i\"\n",
    "outer_range= math.ceil((np.log(desired_number_of_files / len(filenames)) / np.log(2) ))\n",
    "outer_range"
   ]
  },
  {
   "cell_type": "markdown",
   "id": "50d116a7",
   "metadata": {},
   "source": [
    "#### Pitch Augmentation"
   ]
  },
  {
   "cell_type": "code",
   "execution_count": 18,
   "id": "909afc96",
   "metadata": {},
   "outputs": [
    {
     "name": "stdout",
     "output_type": "stream",
     "text": [
      "Congratulations, the current number of files in directory is 4000\n"
     ]
    }
   ],
   "source": [
    "#replace line 11 with comment below if you want to create a custom # < len(filenames)...\n",
    "#                                                    ...comment out if statements and speed will improve significantly\n",
    "#for index in range(40000): \n",
    "\n",
    "pitch_dict={}\n",
    "for i in range(outer_range):\n",
    "    for index in range(len(filenames)):\n",
    "        test_wav=filenames[index]\n",
    "        fs, test_wav = wavfile.read(test_wav)\n",
    "        if i==0:\n",
    "            pitch_dict[i]=test_wav\n",
    "        test_wav_float=test_wav.astype(float)\n",
    "        test_wav_pitch_shifted = librosa.effects.pitch_shift(test_wav_float, sr=sample_rate, n_steps=pitch_shift*(i+1))\n",
    "        test_wav_pitch_shifted_int=test_wav_pitch_shifted.astype(np.int16)\n",
    "        current_name = str(keyword_directory)+str(keyword) +f\"_Pitch_Shift_{i}_{index}.wav\"    \n",
    "        write(current_name, fsamp, test_wav_pitch_shifted_int)\n",
    "\n",
    "        files_in_folder=len(tf.io.gfile.glob(str(data_dir) + '/*.wav'))\n",
    "        pitch_dict[i+1]=test_wav_pitch_shifted_int\n",
    "        if (files_in_folder >= desired_number_of_files):\n",
    "            break \n",
    "    filenames = tf.io.gfile.glob(str(data_dir) + '/*.wav')\n",
    "    #update filenames with newly created files    \n",
    "    if (files_in_folder >= desired_number_of_files):\n",
    "        break \n",
    "print(\"Congratulations, the current number of files in directory is\", len(filenames))"
   ]
  },
  {
   "cell_type": "markdown",
   "id": "cf4aea1e",
   "metadata": {},
   "source": [
    "#### Plot Pitch Shift"
   ]
  },
  {
   "cell_type": "code",
   "execution_count": 19,
   "id": "4eff61ed",
   "metadata": {},
   "outputs": [
    {
     "ename": "KeyError",
     "evalue": "0",
     "output_type": "error",
     "traceback": [
      "\u001b[0;31m---------------------------------------------------------------------------\u001b[0m",
      "\u001b[0;31mKeyError\u001b[0m                                  Traceback (most recent call last)",
      "Cell \u001b[0;32mIn[19], line 12\u001b[0m\n\u001b[1;32m      9\u001b[0m f_ax5 \u001b[38;5;241m=\u001b[39m fig\u001b[38;5;241m.\u001b[39madd_subplot(axs[\u001b[38;5;241m2\u001b[39m, \u001b[38;5;241m1\u001b[39m])\n\u001b[1;32m     10\u001b[0m f_ax6 \u001b[38;5;241m=\u001b[39m fig\u001b[38;5;241m.\u001b[39madd_subplot(axs[\u001b[38;5;241m2\u001b[39m, \u001b[38;5;241m2\u001b[39m])\n\u001b[0;32m---> 12\u001b[0m f_ax0\u001b[38;5;241m.\u001b[39mplot(np\u001b[38;5;241m.\u001b[39marange(\u001b[38;5;241m1\u001b[39m\u001b[38;5;241m*\u001b[39mfs)\u001b[38;5;241m/\u001b[39mfs, \u001b[43mpitch_dict\u001b[49m\u001b[43m[\u001b[49m\u001b[38;5;241;43m0\u001b[39;49m\u001b[43m]\u001b[49m)\n\u001b[1;32m     13\u001b[0m f_ax0\u001b[38;5;241m.\u001b[39mset_title(\u001b[38;5;124m'\u001b[39m\u001b[38;5;124mOriginal\u001b[39m\u001b[38;5;124m'\u001b[39m)\n\u001b[1;32m     15\u001b[0m \u001b[38;5;28;01mif\u001b[39;00m outer_range\u001b[38;5;241m>\u001b[39m\u001b[38;5;241m1\u001b[39m:\n",
      "\u001b[0;31mKeyError\u001b[0m: 0"
     ]
    },
    {
     "data": {
      "image/png": "[encoded data removed]",
      "text/plain": [
       "<Figure size 640x480 with 7 Axes>"
      ]
     },
     "metadata": {},
     "output_type": "display_data"
    }
   ],
   "source": [
    "fig = plt.figure(constrained_layout=True)\n",
    "axs = fig.add_gridspec(3, 3)\n",
    "\n",
    "f_ax0 = fig.add_subplot(axs[0, 1])\n",
    "f_ax1 = fig.add_subplot(axs[1, 0])\n",
    "f_ax2 = fig.add_subplot(axs[1, 1])\n",
    "f_ax3 = fig.add_subplot(axs[1, 2])\n",
    "f_ax4 = fig.add_subplot(axs[2, 0])\n",
    "f_ax5 = fig.add_subplot(axs[2, 1])\n",
    "f_ax6 = fig.add_subplot(axs[2, 2])\n",
    "\n",
    "f_ax0.plot(np.arange(1*fs)/fs, pitch_dict[0])\n",
    "f_ax0.set_title('Original')\n",
    "\n",
    "if outer_range>1:\n",
    "    f_ax1.plot(np.arange(1*fs)/fs, pitch_dict[1])\n",
    "    f_ax1.set_title('Pitch Shift lvl 1')\n",
    "if outer_range>2:\n",
    "    f_ax2.plot(np.arange(1*fs)/fs, pitch_dict[2])\n",
    "    f_ax2.set_title('Pitch Shift lvl 2')\n",
    "if outer_range>3:\n",
    "    f_ax3.plot(np.arange(1*fs)/fs, pitch_dict[3])\n",
    "    f_ax3.set_title('Pitch Shift lvl 3')\n",
    "if outer_range>4:\n",
    "    f_ax4.plot(np.arange(1*fs)/fs, pitch_dict[4])\n",
    "    f_ax4.set_title('Pitch Shift lvl 4')\n",
    "if outer_range>5:\n",
    "    f_ax5.plot(np.arange(1*fs)/fs, pitch_dict[5])\n",
    "    f_ax5.set_title('Pitch Shift lvl 5')\n",
    "if outer_range>6:\n",
    "    f_ax6.plot(np.arange(1*fs)/fs, pitch_dict[6])\n",
    "    f_ax6.set_title('Pitch Shift lvl 6')\n",
    "\n",
    "fig.set_size_inches(18.5, 10.5, forward=True)\n",
    "pass"
   ]
  },
  {
   "cell_type": "markdown",
   "id": "ba23c715",
   "metadata": {},
   "source": [
    "#### Listen to Pitch Shift"
   ]
  },
  {
   "cell_type": "code",
   "execution_count": null,
   "id": "dfb33348",
   "metadata": {},
   "outputs": [],
   "source": [
    "from IPython.display import Audio \n",
    "from IPython.display import display\n",
    "\n",
    "print(\"Original:\")\n",
    "display(Audio(pitch_dict[0], rate=fs))\n",
    "\n",
    "if outer_range>1:\n",
    "    print(\"Pitch Shift lvl 1\")\n",
    "    display(Audio(pitch_dict[1], rate=fs))\n",
    "if outer_range>2:\n",
    "    print(\"Pitch Shift lvl 2\")\n",
    "    display(Audio(pitch_dict[2], rate=fs))\n",
    "if outer_range>3:\n",
    "    print(\"Pitch Shift lvl 3\")\n",
    "    display(Audio(pitch_dict[3], rate=fs))\n",
    "if outer_range>4:\n",
    "    print(\"Pitch Shift lvl 4\")\n",
    "    display(Audio(pitch_dict[3], rate=fs))\n",
    "if outer_range>5:\n",
    "    print(\"Pitch Shift lvl 5\")\n",
    "    display(Audio(pitch_dict[4], rate=fs))\n",
    "if outer_range>6:\n",
    "    print(\"Pitch Shift lvl 6\")\n",
    "    display(Audio(pitch_dict[5], rate=fs))"
   ]
  },
  {
   "cell_type": "code",
   "execution_count": null,
   "id": "195f3a58",
   "metadata": {},
   "outputs": [],
   "source": []
  },
  {
   "cell_type": "markdown",
   "id": "d490e2a9",
   "metadata": {},
   "source": [
    "# Write augmented data files to testing and validation .txt file "
   ]
  },
  {
   "cell_type": "code",
   "execution_count": 20,
   "id": "49d88dc7",
   "metadata": {},
   "outputs": [
    {
     "name": "stdout",
     "output_type": "stream",
     "text": [
      "8291 samples added to ./custom-speech/training_list.txt\n",
      "2369 samples added to ./custom-speech/testing_list.txt\n",
      "1185 samples added to ./custom-speech/validation_list.txt\n"
     ]
    }
   ],
   "source": [
    "import random\n",
    "import os\n",
    "import tensorflow as tf\n",
    "\n",
    "# Set the random seed for reproducibility\n",
    "random.seed(42)\n",
    "\n",
    "# Set the paths and file names for the train, test, and validation files\n",
    "train_file_name = './custom-speech/training_list.txt'\n",
    "test_file_name = './custom-speech/testing_list.txt'\n",
    "val_file_name = './custom-speech/validation_list.txt'\n",
    "\n",
    "# Set the split percentages\n",
    "train_pct = 0.7\n",
    "test_pct = 0.2\n",
    "val_pct = 0.1\n",
    "\n",
    "# Set the directory path containing the WAV files\n",
    "data_dir = './custom-speech'\n",
    "\n",
    "# Create a list of keywords (folder names)\n",
    "keywords = ['yes','left','computer']\n",
    "\n",
    "# Create an empty list to store all the WAV files\n",
    "wav_files = []\n",
    "\n",
    "# Iterate over all the keywords and add their respective WAV files to the list\n",
    "for keyword in keywords:\n",
    "    # Get a list of all WAV files in the keyword directory\n",
    "    keyword_files = tf.io.gfile.glob(str(os.path.join(data_dir, keyword)) + '/*.wav')\n",
    "    # Add the keyword files to the list of all WAV files\n",
    "    wav_files += keyword_files\n",
    "\n",
    "# Shuffle the files randomly\n",
    "random.shuffle(wav_files)\n",
    "\n",
    "# Calculate the number of files for each split\n",
    "num_files = len(wav_files)\n",
    "num_train = int(train_pct*num_files)\n",
    "num_test = int(test_pct*num_files)\n",
    "num_val = num_files - num_train - num_test\n",
    "\n",
    "# Append the train list file\n",
    "with open(train_file_name, 'a') as f:\n",
    "    for file in wav_files[:num_train]:\n",
    "        f.write(os.path.join(os.path.basename(os.path.dirname(file)), os.path.basename(file)) + '\\n')\n",
    "print(num_train, \"samples added to\", train_file_name)\n",
    "\n",
    "# Append the test list file\n",
    "with open(test_file_name, 'a') as f:\n",
    "    for file in wav_files[num_train:num_train+num_test]:\n",
    "        f.write(os.path.join(os.path.basename(os.path.dirname(file)), os.path.basename(file)) + '\\n')\n",
    "print(num_test, \"samples added to\", test_file_name)\n",
    "\n",
    "# Append the validation list file\n",
    "with open(val_file_name, 'a') as f:\n",
    "    for file in wav_files[num_train+num_test:]:\n",
    "        f.write(os.path.join(os.path.basename(os.path.dirname(file)), os.path.basename(file)) + '\\n')\n",
    "print(num_val, \"samples added to\", val_file_name)\n"
   ]
  },
  {
   "cell_type": "code",
   "execution_count": 21,
   "id": "c6a14913",
   "metadata": {},
   "outputs": [
    {
     "data": {
      "image/png": "[encoded data removed]",
      "text/plain": [
       "<Figure size 2000x1000 with 1 Axes>"
      ]
     },
     "metadata": {},
     "output_type": "display_data"
    }
   ],
   "source": [
    "import os\n",
    "import matplotlib.pyplot as plt\n",
    "\n",
    "data_dir = './custom-speech/'\n",
    "\n",
    "folder_counts = {}\n",
    "for subdir in os.listdir(data_dir):\n",
    "    subdir_path = os.path.join(data_dir, subdir)\n",
    "    if os.path.isdir(subdir_path) and subdir != 'speech_commands_v0.02':\n",
    "        folder_counts[subdir] = len([f for f in os.listdir(subdir_path) if f.endswith('.wav')])\n",
    "\n",
    "fig = plt.figure(figsize=(20, 10))\n",
    "sorted_keys = sorted(folder_counts.keys())\n",
    "plt.bar(range(len(folder_counts)), [folder_counts[key] for key in sorted_keys], align='center')\n",
    "plt.xticks(range(len(folder_counts)), sorted_keys, rotation=90)\n",
    "plt.ylabel('Number of WAV Files')\n",
    "plt.title('WAV Files by Folder')\n",
    "plt.savefig('/home/david/Documents/GitHub/project-2-team-1/training/figs/all wav files')\n",
    "plt.show()"
   ]
  },
  {
   "cell_type": "code",
   "execution_count": null,
   "id": "8523a7cc",
   "metadata": {},
   "outputs": [],
   "source": []
  },
  {
   "cell_type": "code",
   "execution_count": null,
   "id": "134d2ee7",
   "metadata": {},
   "outputs": [],
   "source": []
  }
 ],
 "metadata": {
  "kernelspec": {
   "display_name": "Python 3 (ipykernel)",
   "language": "python",
   "name": "python3"
  },
  "language_info": {
   "codemirror_mode": {
    "name": "ipython",
    "version": 3
   },
   "file_extension": ".py",
   "mimetype": "text/x-python",
   "name": "python",
   "nbconvert_exporter": "python",
   "pygments_lexer": "ipython3",
   "version": "3.10.10"
  }
 },
 "nbformat": 4,
 "nbformat_minor": 5
}
