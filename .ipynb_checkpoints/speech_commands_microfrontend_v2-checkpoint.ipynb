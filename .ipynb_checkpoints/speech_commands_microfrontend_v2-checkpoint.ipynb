{
 "cells": [
  {
   "cell_type": "markdown",
   "id": "adolescent-davis",
   "metadata": {},
   "source": [
    "## Basic Steps\n",
    "\n",
    "1. Run a baseline training script to build a speech commands model.\n",
    "2. Add in your custom word to the training and test/validation sets.\n",
    "   - Modify labels, shape of your output tensor in the model.\n",
    "   - Make sure that feature extractor for the model aligns with the feature extractor \n",
    "     used in the arduino code.\n",
    "3. Re-train model. => TF Model using floating-point numbers, that recognizes Google word and custom word.\n",
    "4. Quantize the model and convert to TFlite. => keyword_model.tflite file\n",
    "5. Convert tflite to .c file, using xxd => model_data.cc\n",
    "6. Replace contents of existing micro_features_model.cpp with output of xxd.\n",
    "\n",
    "All of the above steps are done in this notebook for the commands 'left', 'right'.\n",
    "\n",
    "7. In micro_speech.ino, modify micro_op_resolver (around line 80) to add any necessary operations (DIFF_FROM_LECTURE)\n",
    "8. In micro_features_model_settings.h, modify kSilenceIndex and kUnknownIndex, depending on \n",
    "where you have them in commands.  \n",
    "  - Commands = ['left', 'right', '_silence', '_unknown'] => kSilenceIndex=2, kUnknownIndex=3\n",
    "9. In micro_features_model_settings.cpp, modify kCategoryLabels to correspond to commands in this script.\n",
    "10. In micro_features_micro_model_settings.h, set kFeatureSliceDurationMs, kFeatureSliceStrideMs to match what is passed to microfrontend as window_size, window_step, respectively.\n",
    "11. Rebuild Arduino program, run it, recognize the two target words.\n",
    "12. Experiment with model architecture, training parameters/methods, augmentation, more data-gathering, etc.\n",
    "\n",
    "*Note*:  As of 5/3/21, this model uses 22% of flash and 49.5% of RAM, so there is substantial space to improve the model, but the latency is about 208ms, which is probably too slow."
   ]
  },
  {
   "cell_type": "code",
   "execution_count": 1,
   "id": "undefined-familiar",
   "metadata": {},
   "outputs": [
    {
     "name": "stdout",
     "output_type": "stream",
     "text": [
      "2.10.1\n"
     ]
    }
   ],
   "source": [
    "# TensorFlow and tf.keras\n",
    "import tensorflow as tf\n",
    "from tensorflow.keras import Input, layers\n",
    "from tensorflow.keras import models\n",
    "from tensorflow.keras.layers.experimental import preprocessing\n",
    "from tensorflow.lite.experimental.microfrontend.python.ops import audio_microfrontend_op as frontend_op\n",
    "print(tf.__version__)\n",
    "\n",
    "# Helper libraries\n",
    "import numpy as np\n",
    "import matplotlib.pyplot as plt\n",
    "import seaborn as sns\n",
    "\n",
    "from tqdm.notebook import tqdm\n",
    "# from tqdm import tqdm # replace with this if moving out of notebook\n",
    "\n",
    "import os\n",
    "import pathlib\n",
    "\n",
    "from datetime import datetime as dt\n",
    "\n",
    "from IPython import display"
   ]
  },
  {
   "cell_type": "code",
   "execution_count": 2,
   "id": "bearing-lobby",
   "metadata": {},
   "outputs": [],
   "source": [
    "# Set seed for experiment reproducibility\n",
    "seed = 42\n",
    "tf.random.set_seed(seed)\n",
    "np.random.seed(seed)"
   ]
  },
  {
   "cell_type": "code",
   "execution_count": 3,
   "id": "incredible-numbers",
   "metadata": {},
   "outputs": [],
   "source": [
    "i16min = -2**15\n",
    "i16max = 2**15-1\n",
    "fsamp = 16000\n",
    "wave_length_ms = 1000\n",
    "wave_length_samps = int(wave_length_ms*fsamp/1000)\n",
    "window_size_ms=60\n",
    "window_step_ms=40\n",
    "num_filters = 32\n",
    "use_microfrontend = True\n",
    "# dataset = 'mini-speech'\n",
    "# dataset = 'full-speech-ds' # use the full speech commands as a pre-built TF dataset \n",
    "dataset = 'full-speech-files' # use the full speech commands stored as files \n",
    "\n",
    "silence_str = \"_silence\"  \n",
    "unknown_str = \"_unknown\"\n",
    "EPOCHS = 25"
   ]
  },
  {
   "cell_type": "markdown",
   "id": "outstanding-movement",
   "metadata": {},
   "source": [
    "Apply the frontend to an example signal."
   ]
  },
  {
   "cell_type": "code",
   "execution_count": 9,
   "id": "rising-oracle",
   "metadata": {},
   "outputs": [],
   "source": [
    "commands = ['left', 'right'] \n",
    "if dataset == 'mini-speech':\n",
    "  data_dir = pathlib.Path(os.path.join(os.getenv(\"HOME\"), 'data/mini_speech_commands'))\n",
    "  if not data_dir.exists():\n",
    "    tf.keras.utils.get_file('mini_speech_commands.zip',\n",
    "          origin=\"http://storage.googleapis.com/download.tensorflow.org/data/mini_speech_commands.zip\",\n",
    "          extract=True, cache_dir='.', cache_subdir='data')\n",
    "  # commands = np.array(tf.io.gfile.listdir(str(data_dir))) # if you want to use all the command words\n",
    "  # commands = commands[commands != 'README.md']\n",
    "elif dataset == 'full-speech-files':\n",
    "  # data_dir = '/dfs/org/Holleman-Coursework/data/speech_dataset'\n",
    "  data_dir = pathlib.Path(os.path.join('training/speech_commands_files_0.2'))\n",
    "\n",
    "elif dataset == 'full-speech-ds':\n",
    "    raise RuntimeError(\"full-speech-ds is not really supported yet\")"
   ]
  },
  {
   "cell_type": "code",
   "execution_count": 10,
   "id": "2e571f98-2d10-4809-ae2e-abd8d202181a",
   "metadata": {},
   "outputs": [
    {
     "data": {
      "text/plain": [
       "WindowsPath('training/custom-speech')"
      ]
     },
     "execution_count": 10,
     "metadata": {},
     "output_type": "execute_result"
    }
   ],
   "source": [
    "data_dir"
   ]
  },
  {
   "cell_type": "code",
   "execution_count": 11,
   "id": "precious-graph",
   "metadata": {},
   "outputs": [
    {
     "name": "stdout",
     "output_type": "stream",
     "text": [
      "label_list: ['_silence', '_unknown', 'yes', 'computer']\n"
     ]
    }
   ],
   "source": [
    "label_list = commands.copy()\n",
    "label_list.insert(0, silence_str)\n",
    "label_list.insert(1, unknown_str)\n",
    "print('label_list:', label_list)"
   ]
  },
  {
   "cell_type": "code",
   "execution_count": 12,
   "id": "e08637a7-35d4-493c-b3c9-31ea358de82d",
   "metadata": {},
   "outputs": [
    {
     "name": "stderr",
     "output_type": "stream",
     "text": [
      "'ls' is not recognized as an internal or external command,\n",
      "operable program or batch file.\n"
     ]
    }
   ],
   "source": [
    "!ls $data_dir/"
   ]
  },
  {
   "cell_type": "code",
   "execution_count": 13,
   "id": "surprising-adjustment",
   "metadata": {
    "scrolled": true
   },
   "outputs": [
    {
     "name": "stdout",
     "output_type": "stream",
     "text": [
      "Number of total examples: 11854\n",
      "Example file tensor: tf.Tensor(b'training\\\\custom-speech\\\\computer\\\\computer_Pitch_Shift_4_558.wav', shape=(), dtype=string)\n"
     ]
    }
   ],
   "source": [
    "if dataset == 'mini-speech' or dataset == 'full-speech-files':\n",
    "    filenames = tf.io.gfile.glob(str(data_dir) + '/*/*.wav') \n",
    "    # with the next commented-out line, you can choose only files for words in label_list\n",
    "    # filenames = tf.concat([tf.io.gfile.glob(str(data_dir) + '/' + cmd + '/*') for cmd in label_list], 0)\n",
    "    filenames = tf.random.shuffle(filenames)\n",
    "    num_samples = len(filenames)\n",
    "    print('Number of total examples:', num_samples)\n",
    "    # print('Number of examples per label:',\n",
    "    #       len(tf.io.gfile.listdir(str(data_dir/commands[0]))))\n",
    "    print('Example file tensor:', filenames[0])"
   ]
  },
  {
   "cell_type": "code",
   "execution_count": 14,
   "id": "ranging-version",
   "metadata": {},
   "outputs": [
    {
     "data": {
      "text/plain": [
       "<tf.Tensor: shape=(11854,), dtype=string, numpy=\n",
       "array([b'training\\\\custom-speech\\\\computer\\\\computer_Pitch_Shift_4_558.wav',\n",
       "       b'training\\\\custom-speech\\\\yes\\\\b00dff7e_nohash_0.wav',\n",
       "       b'training\\\\custom-speech\\\\computer\\\\computer_Pitch_Shift_4_508.wav',\n",
       "       ..., b'training\\\\custom-speech\\\\left\\\\bcf614a2_nohash_2.wav',\n",
       "       b'training\\\\custom-speech\\\\computer\\\\computer_Pitch_Shift_3_758.wav',\n",
       "       b'training\\\\custom-speech\\\\left\\\\363c6bad_nohash_1.wav'],\n",
       "      dtype=object)>"
      ]
     },
     "execution_count": 14,
     "metadata": {},
     "output_type": "execute_result"
    }
   ],
   "source": [
    "filenames\n",
    "# tf.strings.split(filenames[0], os.path.sep)[-2].numpy().decode('utf8')"
   ]
  },
  {
   "cell_type": "code",
   "execution_count": 15,
   "id": "assured-capture",
   "metadata": {},
   "outputs": [
    {
     "name": "stdout",
     "output_type": "stream",
     "text": [
      "training\\custom-speech\\computer\\computer_Pitch_Shift_4_558.wav\n",
      "training\\custom-speech\\yes\\b00dff7e_nohash_0.wav\n",
      "training\\custom-speech\\computer\\computer_Pitch_Shift_4_508.wav\n",
      "training\\custom-speech\\yes\\692a88e6_nohash_3.wav\n",
      "training\\custom-speech\\computer\\computer_Pitch_Shift_3_1082.wav\n",
      "training\\custom-speech\\yes\\f6617a86_nohash_2.wav\n",
      "training\\custom-speech\\yes\\4c6167ca_nohash_2.wav\n",
      "training\\custom-speech\\left\\83f9c4ab_nohash_2.wav\n",
      "training\\custom-speech\\yes\\f2e59fea_nohash_3.wav\n",
      "training\\custom-speech\\computer\\computer_Pitch_Shift_1_99.wav\n"
     ]
    }
   ],
   "source": [
    "# Not really necessary, but just look at a few of the files to make sure that \n",
    "# they're the correct files, shuffled, etc.\n",
    "for i in range(10):\n",
    "    print(filenames[i].numpy().decode('utf8'))"
   ]
  },
  {
   "cell_type": "code",
   "execution_count": 19,
   "id": "printable-nevada",
   "metadata": {},
   "outputs": [
    {
     "ename": "IndexError",
     "evalue": "list index out of range",
     "output_type": "error",
     "traceback": [
      "\u001b[1;31m---------------------------------------------------------------------------\u001b[0m",
      "\u001b[1;31mIndexError\u001b[0m                                Traceback (most recent call last)",
      "\u001b[1;32m~\\AppData\\Local\\Temp\\ipykernel_16176\\3831333089.py\u001b[0m in \u001b[0;36m<module>\u001b[1;34m\u001b[0m\n\u001b[0;32m     25\u001b[0m   \u001b[0mtrain_files\u001b[0m \u001b[1;33m=\u001b[0m \u001b[1;33m[\u001b[0m\u001b[0mf\u001b[0m\u001b[1;33m.\u001b[0m\u001b[0mdecode\u001b[0m\u001b[1;33m(\u001b[0m\u001b[1;34m'utf8'\u001b[0m\u001b[1;33m)\u001b[0m \u001b[1;32mfor\u001b[0m \u001b[0mf\u001b[0m \u001b[1;32min\u001b[0m \u001b[0mfilenames\u001b[0m\u001b[1;33m.\u001b[0m\u001b[0mnumpy\u001b[0m\u001b[1;33m(\u001b[0m\u001b[1;33m)\u001b[0m\u001b[1;33m]\u001b[0m\u001b[1;33m\u001b[0m\u001b[1;33m\u001b[0m\u001b[0m\n\u001b[0;32m     26\u001b[0m   \u001b[1;31m# don't train with the _background_noise_ files; exclude when directory name starts with '_'\u001b[0m\u001b[1;33m\u001b[0m\u001b[1;33m\u001b[0m\u001b[0m\n\u001b[1;32m---> 27\u001b[1;33m   \u001b[0mtrain_files\u001b[0m \u001b[1;33m=\u001b[0m \u001b[1;33m[\u001b[0m\u001b[0mf\u001b[0m \u001b[1;32mfor\u001b[0m \u001b[0mf\u001b[0m \u001b[1;32min\u001b[0m \u001b[0mtrain_files\u001b[0m \u001b[1;32mif\u001b[0m \u001b[0mf\u001b[0m\u001b[1;33m.\u001b[0m\u001b[0msplit\u001b[0m\u001b[1;33m(\u001b[0m\u001b[1;34m'/'\u001b[0m\u001b[1;33m)\u001b[0m\u001b[1;33m[\u001b[0m\u001b[1;33m-\u001b[0m\u001b[1;36m2\u001b[0m\u001b[1;33m]\u001b[0m\u001b[1;33m[\u001b[0m\u001b[1;36m0\u001b[0m\u001b[1;33m]\u001b[0m \u001b[1;33m!=\u001b[0m \u001b[1;34m'_'\u001b[0m\u001b[1;33m]\u001b[0m\u001b[1;33m\u001b[0m\u001b[1;33m\u001b[0m\u001b[0m\n\u001b[0m\u001b[0;32m     28\u001b[0m   \u001b[1;31m# validation and test files are listed explicitly in *_list.txt; train with everything else\u001b[0m\u001b[1;33m\u001b[0m\u001b[1;33m\u001b[0m\u001b[0m\n\u001b[0;32m     29\u001b[0m   \u001b[0mtrain_files\u001b[0m \u001b[1;33m=\u001b[0m \u001b[0mlist\u001b[0m\u001b[1;33m(\u001b[0m\u001b[0mset\u001b[0m\u001b[1;33m(\u001b[0m\u001b[0mtrain_files\u001b[0m\u001b[1;33m)\u001b[0m \u001b[1;33m-\u001b[0m \u001b[0mset\u001b[0m\u001b[1;33m(\u001b[0m\u001b[0mtest_files\u001b[0m\u001b[1;33m)\u001b[0m \u001b[1;33m-\u001b[0m \u001b[0mset\u001b[0m\u001b[1;33m(\u001b[0m\u001b[0mval_files\u001b[0m\u001b[1;33m)\u001b[0m\u001b[1;33m)\u001b[0m\u001b[1;33m\u001b[0m\u001b[1;33m\u001b[0m\u001b[0m\n",
      "\u001b[1;32m~\\AppData\\Local\\Temp\\ipykernel_16176\\3831333089.py\u001b[0m in \u001b[0;36m<listcomp>\u001b[1;34m(.0)\u001b[0m\n\u001b[0;32m     25\u001b[0m   \u001b[0mtrain_files\u001b[0m \u001b[1;33m=\u001b[0m \u001b[1;33m[\u001b[0m\u001b[0mf\u001b[0m\u001b[1;33m.\u001b[0m\u001b[0mdecode\u001b[0m\u001b[1;33m(\u001b[0m\u001b[1;34m'utf8'\u001b[0m\u001b[1;33m)\u001b[0m \u001b[1;32mfor\u001b[0m \u001b[0mf\u001b[0m \u001b[1;32min\u001b[0m \u001b[0mfilenames\u001b[0m\u001b[1;33m.\u001b[0m\u001b[0mnumpy\u001b[0m\u001b[1;33m(\u001b[0m\u001b[1;33m)\u001b[0m\u001b[1;33m]\u001b[0m\u001b[1;33m\u001b[0m\u001b[1;33m\u001b[0m\u001b[0m\n\u001b[0;32m     26\u001b[0m   \u001b[1;31m# don't train with the _background_noise_ files; exclude when directory name starts with '_'\u001b[0m\u001b[1;33m\u001b[0m\u001b[1;33m\u001b[0m\u001b[0m\n\u001b[1;32m---> 27\u001b[1;33m   \u001b[0mtrain_files\u001b[0m \u001b[1;33m=\u001b[0m \u001b[1;33m[\u001b[0m\u001b[0mf\u001b[0m \u001b[1;32mfor\u001b[0m \u001b[0mf\u001b[0m \u001b[1;32min\u001b[0m \u001b[0mtrain_files\u001b[0m \u001b[1;32mif\u001b[0m \u001b[0mf\u001b[0m\u001b[1;33m.\u001b[0m\u001b[0msplit\u001b[0m\u001b[1;33m(\u001b[0m\u001b[1;34m'/'\u001b[0m\u001b[1;33m)\u001b[0m\u001b[1;33m[\u001b[0m\u001b[1;33m-\u001b[0m\u001b[1;36m2\u001b[0m\u001b[1;33m]\u001b[0m\u001b[1;33m[\u001b[0m\u001b[1;36m0\u001b[0m\u001b[1;33m]\u001b[0m \u001b[1;33m!=\u001b[0m \u001b[1;34m'_'\u001b[0m\u001b[1;33m]\u001b[0m\u001b[1;33m\u001b[0m\u001b[1;33m\u001b[0m\u001b[0m\n\u001b[0m\u001b[0;32m     28\u001b[0m   \u001b[1;31m# validation and test files are listed explicitly in *_list.txt; train with everything else\u001b[0m\u001b[1;33m\u001b[0m\u001b[1;33m\u001b[0m\u001b[0m\n\u001b[0;32m     29\u001b[0m   \u001b[0mtrain_files\u001b[0m \u001b[1;33m=\u001b[0m \u001b[0mlist\u001b[0m\u001b[1;33m(\u001b[0m\u001b[0mset\u001b[0m\u001b[1;33m(\u001b[0m\u001b[0mtrain_files\u001b[0m\u001b[1;33m)\u001b[0m \u001b[1;33m-\u001b[0m \u001b[0mset\u001b[0m\u001b[1;33m(\u001b[0m\u001b[0mtest_files\u001b[0m\u001b[1;33m)\u001b[0m \u001b[1;33m-\u001b[0m \u001b[0mset\u001b[0m\u001b[1;33m(\u001b[0m\u001b[0mval_files\u001b[0m\u001b[1;33m)\u001b[0m\u001b[1;33m)\u001b[0m\u001b[1;33m\u001b[0m\u001b[1;33m\u001b[0m\u001b[0m\n",
      "\u001b[1;31mIndexError\u001b[0m: list index out of range"
     ]
    }
   ],
   "source": [
    "if dataset == 'mini-speech':\n",
    "  print('Using mini-speech')\n",
    "  num_train_files = int(0.8*num_samples) \n",
    "  num_val_files = int(0.1*num_samples) \n",
    "  num_test_files = num_samples - num_train_files - num_val_files\n",
    "  train_files = filenames[:num_train_files]\n",
    "  val_files = filenames[num_train_files: num_train_files + num_val_files]\n",
    "  test_files = filenames[-num_test_files:]\n",
    "elif dataset == 'full-speech-files':  \n",
    "  # the full speech-commands set lists which files are to be used\n",
    "  # as test and validation data; train with everything else\n",
    "  fname_val_files = os.path.join(data_dir, 'validation_list.txt')    \n",
    "  with open(fname_val_files) as fpi_val:\n",
    "    val_files = fpi_val.read().splitlines()\n",
    "  # validation_list.txt only lists partial paths\n",
    "  val_files = [os.path.join(data_dir, fn) for fn in val_files]\n",
    "  fname_test_files = os.path.join(data_dir, 'testing_list.txt')\n",
    "\n",
    "  with open(fname_test_files) as fpi_tst:\n",
    "    test_files = fpi_tst.read().splitlines()\n",
    "  # testing_list.txt only lists partial paths\n",
    "  test_files = [os.path.join(data_dir, fn).rstrip() for fn in test_files]    \n",
    "\n",
    "  # convert the TF tensor filenames into an array of strings so we can use basic python constructs\n",
    "  train_files = [f.decode('utf8') for f in filenames.numpy()]\n",
    "  # don't train with the _background_noise_ files; exclude when directory name starts with '_'\n",
    "  train_files = [f for f in train_files if f.split('/')[-2][0] != '_']\n",
    "  # validation and test files are listed explicitly in *_list.txt; train with everything else\n",
    "  train_files = list(set(train_files) - set(test_files) - set(val_files))\n",
    "  # now convert back into a TF tensor so we can use the tf.dataset pipeline\n",
    "  train_files = tf.constant(train_files)    \n",
    "  print(\"full-speech-files is in progress.  Good luck!\")\n",
    "elif dataset == 'full-speech-ds':  \n",
    "    print(\"Using full-speech-ds. This is in progress.  Good luck!\")\n",
    "else:\n",
    "  raise ValueError(\"dataset must be either full-speech-files, full-speech-ds or mini-speech\")\n",
    "print('Training set size', len(train_files))\n",
    "print('Validation set size', len(val_files))\n",
    "print('Test set size', len(test_files))"
   ]
  },
  {
   "cell_type": "code",
   "execution_count": 12,
   "id": "connected-polish",
   "metadata": {},
   "outputs": [],
   "source": [
    "def decode_audio(audio_binary):\n",
    "  audio, _ = tf.audio.decode_wav(audio_binary)\n",
    "  return tf.squeeze(audio, axis=-1)"
   ]
  },
  {
   "cell_type": "code",
   "execution_count": 13,
   "id": "third-leave",
   "metadata": {},
   "outputs": [],
   "source": [
    "# @tf.function\n",
    "def get_label(file_path):\n",
    "  parts = tf.strings.split(file_path, os.path.sep)\n",
    "  in_set = tf.reduce_any(parts[-2] == label_list)\n",
    "  label = tf.cond(in_set, lambda: parts[-2], lambda: tf.constant(unknown_str))\n",
    "  # print(f\"parts[-2] = {parts[-2]}, in_set = {in_set}, label = {label}\")\n",
    "  # Note: You'll use indexing here instead of tuple unpacking to enable this \n",
    "  # to work in a TensorFlow graph.\n",
    "  return  label # parts[-2]"
   ]
  },
  {
   "cell_type": "code",
   "execution_count": 14,
   "id": "false-cambodia",
   "metadata": {},
   "outputs": [],
   "source": [
    "def get_waveform_and_label(file_path):\n",
    "  label = get_label(file_path)\n",
    "  audio_binary = tf.io.read_file(file_path)\n",
    "  waveform = decode_audio(audio_binary)\n",
    "  return waveform, label"
   ]
  },
  {
   "cell_type": "code",
   "execution_count": 15,
   "id": "injured-december",
   "metadata": {},
   "outputs": [],
   "source": [
    "def get_spectrogram(waveform):\n",
    "  # Concatenate audio with padding so that all audio clips will be of the \n",
    "  # same length (16000 samples)\n",
    "  zero_padding = tf.zeros([wave_length_samps] - tf.shape(waveform), dtype=tf.int16)\n",
    "  waveform = tf.cast(0.5*waveform*(i16max-i16min), tf.int16)  # scale float [-1,+1]=>INT16\n",
    "  equal_length = tf.concat([waveform, zero_padding], 0)\n",
    "  ## Make sure these labels correspond to those used in micro_features_micro_features_generator.cpp\n",
    "  spectrogram = frontend_op.audio_microfrontend(equal_length, sample_rate=fsamp, num_channels=num_filters,\n",
    "                                    window_size=window_size_ms, window_step=window_step_ms)\n",
    "  return spectrogram\n"
   ]
  },
  {
   "cell_type": "markdown",
   "id": "competent-newark",
   "metadata": {},
   "source": [
    "Function to convert each waveform in a set into a spectrogram, then convert those\n",
    "back into a dataset using `from_tensor_slices`.  (We should be able to use \n",
    "`wav_ds.map(get_spectrogram_and_label_id)`, but there is a problem with that process).\n",
    "   "
   ]
  },
  {
   "cell_type": "code",
   "execution_count": 16,
   "id": "normal-productivity",
   "metadata": {},
   "outputs": [],
   "source": [
    "def create_silence_dataset(num_waves, samples_per_wave, rms_noise_range=[0.01,0.2], silent_label=silence_str):\n",
    "    # create num_waves waveforms of white gaussian noise, with rms level drawn from rms_noise_range\n",
    "    # to act as the \"silence\" dataset\n",
    "    rng = np.random.default_rng()\n",
    "    rms_noise_levels = rng.uniform(low=rms_noise_range[0], high=rms_noise_range[1], size=num_waves)\n",
    "    rand_waves = np.zeros((num_waves, samples_per_wave), dtype=np.float32) # pre-allocate memory\n",
    "    for i in range(num_waves):\n",
    "        rand_waves[i,:] = rms_noise_levels[i]*rng.standard_normal(samples_per_wave)\n",
    "    labels = [silent_label]*num_waves\n",
    "    return tf.data.Dataset.from_tensor_slices((rand_waves, labels))  "
   ]
  },
  {
   "cell_type": "code",
   "execution_count": 17,
   "id": "awful-national",
   "metadata": {},
   "outputs": [],
   "source": [
    "def wavds2specds(waveform_ds, verbose=True):\n",
    "  wav, label = next(waveform_ds.as_numpy_iterator())\n",
    "  one_spec = get_spectrogram(wav)\n",
    "  one_spec = tf.expand_dims(one_spec, axis=0)  # add a 'batch' dimension at the front\n",
    "  one_spec = tf.expand_dims(one_spec, axis=-1) # add a singleton 'channel' dimension at the back    \n",
    "\n",
    "  num_waves = 0 # count the waveforms so we can allocate the memory\n",
    "  for wav, label in waveform_ds:\n",
    "    num_waves += 1\n",
    "  print(f\"About to create spectrograms from {num_waves} waves\")\n",
    "  spec_shape = (num_waves,) + one_spec.shape[1:] \n",
    "  spec_grams = np.nan * np.zeros(spec_shape)  # allocate memory\n",
    "  labels = np.nan * np.zeros(num_waves)\n",
    "  idx = 0\n",
    "  for wav, label in waveform_ds:    \n",
    "    if verbose and idx % 250 == 0:\n",
    "      print(f\"\\r {idx} wavs processed\", end='')\n",
    "    spectrogram = get_spectrogram(wav)\n",
    "    # TF conv layer expect inputs structured as 4D (batch_size, height, width, channels)\n",
    "    # the microfrontend returns 2D tensors (freq, time), so we need to \n",
    "    spectrogram = tf.expand_dims(spectrogram, axis=0)  # add a 'batch' dimension at the front\n",
    "    spectrogram = tf.expand_dims(spectrogram, axis=-1) # add a singleton 'channel' dimension at the back\n",
    "    spec_grams[idx, ...] = spectrogram\n",
    "    new_label = label.numpy().decode('utf8')\n",
    "    new_label_id = np.argmax(new_label == np.array(label_list))    \n",
    "    labels[idx] = new_label_id # for numeric labels\n",
    "    # labels.append(new_label) # for string labels\n",
    "    idx += 1\n",
    "  labels = np.array(labels, dtype=int)\n",
    "  output_ds = tf.data.Dataset.from_tensor_slices((spec_grams, labels))  \n",
    "  return output_ds"
   ]
  },
  {
   "cell_type": "code",
   "execution_count": 18,
   "id": "appropriate-circus",
   "metadata": {},
   "outputs": [
    {
     "name": "stdout",
     "output_type": "stream",
     "text": [
      "About to create spectrograms from 84843 waves\n",
      " 84750 wavs processed"
     ]
    }
   ],
   "source": [
    "AUTOTUNE = tf.data.experimental.AUTOTUNE\n",
    "num_train_files = len(train_files)\n",
    "files_ds = tf.data.Dataset.from_tensor_slices(train_files)\n",
    "waveform_ds = files_ds.map(get_waveform_and_label, num_parallel_calls=AUTOTUNE)\n",
    "train_ds = wavds2specds(waveform_ds)"
   ]
  },
  {
   "cell_type": "code",
   "execution_count": 19,
   "id": "objective-consideration",
   "metadata": {
    "scrolled": true
   },
   "outputs": [
    {
     "data": {
      "image/png": "[encoded data removed]",
      "text/plain": [
       "<Figure size 720x864 with 9 Axes>"
      ]
     },
     "metadata": {
      "needs_background": "light"
     },
     "output_type": "display_data"
    }
   ],
   "source": [
    "rows = 3\n",
    "cols = 3\n",
    "n = rows*cols\n",
    "fig, axes = plt.subplots(rows, cols, figsize=(10, 12))\n",
    "for i, (audio, label) in enumerate(waveform_ds.take(n)):\n",
    "  r = i // cols\n",
    "  c = i % cols\n",
    "  ax = axes[r][c]\n",
    "  ax.plot(audio.numpy())\n",
    "  ax.set_yticks(np.arange(-1.2, 1.2, 0.2))\n",
    "  label = label.numpy().decode('utf-8')\n",
    "  ax.set_title(label)\n",
    "\n",
    "plt.show()"
   ]
  },
  {
   "cell_type": "code",
   "execution_count": 20,
   "id": "positive-honolulu",
   "metadata": {},
   "outputs": [
    {
     "name": "stdout",
     "output_type": "stream",
     "text": [
      "Label: _unknown\n",
      "Waveform shape: (16000,)\n",
      "Spectrogram shape: (24, 32)\n",
      "Audio playback\n"
     ]
    },
    {
     "data": {
      "text/html": [
       "\n",
       "                <audio  controls=\"controls\" >\n",
       "                    <source src=\"data:audio/wav;base64,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\" type=\"audio/wav\" />\n",
       "                    Your browser does not support the audio element.\n",
       "                </audio>\n",
       "              "
      ],
      "text/plain": [
       "<IPython.lib.display.Audio object>"
      ]
     },
     "metadata": {},
     "output_type": "display_data"
    }
   ],
   "source": [
    "for waveform, label in waveform_ds.take(1):\n",
    "  label = label.numpy().decode('utf-8')\n",
    "  spectrogram = get_spectrogram(waveform)\n",
    "\n",
    "print('Label:', label)\n",
    "print('Waveform shape:', waveform.shape)\n",
    "print('Spectrogram shape:', spectrogram.shape)\n",
    "print('Audio playback')\n",
    "display.display(display.Audio(waveform, rate=16000))"
   ]
  },
  {
   "cell_type": "code",
   "execution_count": 21,
   "id": "previous-clear",
   "metadata": {},
   "outputs": [
    {
     "data": {
      "image/png": "[encoded data removed]",
      "text/plain": [
       "<Figure size 864x576 with 2 Axes>"
      ]
     },
     "metadata": {
      "needs_background": "light"
     },
     "output_type": "display_data"
    }
   ],
   "source": [
    "def plot_spectrogram(spectrogram, ax):\n",
    "  # transpose so that the time is\n",
    "  # represented in the x-axis (columns).\n",
    "  freq_bins = spectrogram.shape[1]\n",
    "  time_dur = spectrogram.shape[0]\n",
    "  X = np.arange(time_dur)\n",
    "  Y = range(freq_bins)\n",
    "  ax.pcolormesh(X, Y, spectrogram.T)\n",
    "\n",
    "fig, axes = plt.subplots(2, figsize=(12, 8))\n",
    "timescale = np.arange(waveform.shape[0])\n",
    "axes[0].plot(timescale, waveform.numpy())\n",
    "axes[0].set_title('Waveform')\n",
    "axes[0].set_xlim([0, 16000])\n",
    "plot_spectrogram(spectrogram.numpy(), axes[1])\n",
    "axes[1].set_title('Spectrogram')\n",
    "plt.show()"
   ]
  },
  {
   "cell_type": "code",
   "execution_count": 22,
   "id": "26fa4527-72ed-45fc-8c06-9333274fce77",
   "metadata": {},
   "outputs": [
    {
     "data": {
      "text/plain": [
       "(24, 32)"
      ]
     },
     "execution_count": 22,
     "metadata": {},
     "output_type": "execute_result"
    }
   ],
   "source": [
    "spectrogram.numpy().shape"
   ]
  },
  {
   "cell_type": "code",
   "execution_count": 23,
   "id": "undefined-filter",
   "metadata": {},
   "outputs": [
    {
     "data": {
      "image/png": "[encoded data removed]",
      "text/plain": [
       "<Figure size 720x720 with 9 Axes>"
      ]
     },
     "metadata": {
      "needs_background": "light"
     },
     "output_type": "display_data"
    }
   ],
   "source": [
    "rows = 3\n",
    "cols = 3\n",
    "n = rows*cols\n",
    "fig, axes = plt.subplots(rows, cols, figsize=(10, 10))\n",
    "for i, (spectrogram, label_id) in enumerate(train_ds.take(n)):\n",
    "  r = i // cols\n",
    "  c = i % cols\n",
    "  ax = axes[r][c]\n",
    "  plot_spectrogram(np.squeeze(spectrogram.numpy()), ax)\n",
    "  ax.set_title(label_list[np.int(label_id)])\n",
    "  ax.axis('off')\n",
    "\n",
    "plt.show()"
   ]
  },
  {
   "cell_type": "code",
   "execution_count": null,
   "id": "a21fc7a4-2a9b-45d9-9a0a-6561afd7b828",
   "metadata": {},
   "outputs": [],
   "source": []
  },
  {
   "cell_type": "code",
   "execution_count": 24,
   "id": "certified-interval",
   "metadata": {},
   "outputs": [],
   "source": [
    "def copy_with_noise(ds_input, rms_level=0.25):\n",
    "  rng = tf.random.Generator.from_seed(1234)\n",
    "  wave_shape = tf.constant((wave_length_samps,))\n",
    "  def add_noise(waveform, label):\n",
    "    noise = rms_level*rng.normal(shape=wave_shape)\n",
    "    zero_padding = tf.zeros([wave_length_samps] - tf.shape(waveform), dtype=tf.float32)\n",
    "    waveform = tf.concat([waveform, zero_padding], 0)    \n",
    "    noisy_wave = waveform + noise\n",
    "    return noisy_wave, label\n",
    "\n",
    "  return ds_input.map(add_noise)"
   ]
  },
  {
   "cell_type": "code",
   "execution_count": 25,
   "id": "distributed-breakfast",
   "metadata": {},
   "outputs": [
    {
     "name": "stdout",
     "output_type": "stream",
     "text": [
      "element 18 has shape (12631,)\n",
      "18\n"
     ]
    }
   ],
   "source": [
    "# waveform_ds = augment_with_noise(waveform_ds)\n",
    "count = 0\n",
    "for w,l in waveform_ds:\n",
    "  if w.shape != (16000,):\n",
    "    print(f\"element {count} has shape {w.shape}\")\n",
    "    break\n",
    "  count += 1\n",
    "print(count)"
   ]
  },
  {
   "cell_type": "code",
   "execution_count": 26,
   "id": "catholic-berlin",
   "metadata": {},
   "outputs": [],
   "source": [
    "def pad_16000(waveform, label):\n",
    "    zero_padding = tf.zeros([wave_length_samps] - tf.shape(waveform), dtype=tf.float32)\n",
    "    waveform = tf.concat([waveform, zero_padding], 0)        \n",
    "    return waveform, label"
   ]
  },
  {
   "cell_type": "code",
   "execution_count": 27,
   "id": "sound-forty",
   "metadata": {},
   "outputs": [],
   "source": [
    "def count_labels(dataset):\n",
    "    counts = {}\n",
    "    for _, lbl in dataset:\n",
    "        if lbl.dtype == tf.string:\n",
    "            label = lbl.numpy().decode('utf-8')\n",
    "        else:\n",
    "            label = lbl.numpy()\n",
    "        if label in counts:\n",
    "            counts[label] += 1\n",
    "        else:\n",
    "            counts[label] = 1\n",
    "    return counts"
   ]
  },
  {
   "cell_type": "code",
   "execution_count": 28,
   "id": "nonprofit-admission",
   "metadata": {},
   "outputs": [],
   "source": [
    "# Collect what we did to generate the training dataset into a \n",
    "# function, so we can repeat with the validation and test sets.\n",
    "def preprocess_dataset(files, num_silent=None, noisy_reps_of_known=None):\n",
    "  # if noisy_reps_of_known is not None, it should be a list of rms noise levels\n",
    "  # For every target word in the data set, 1 copy will be created with each level \n",
    "  # of noise added to it.  So [0.1, 0.2] will add 2x noisy copies of the target words \n",
    "  if num_silent is None:\n",
    "    num_silent = int(0.2*len(files))+1\n",
    "  print(f\"Processing {len(files)} files\")\n",
    "  files_ds = tf.data.Dataset.from_tensor_slices(files)\n",
    "  waveform_ds = files_ds.map(get_waveform_and_label)\n",
    "  if noisy_reps_of_known is not None:\n",
    "    # create a few copies of only the target words to balance the distribution\n",
    "    # create a tmp dataset with only the target words\n",
    "    ds_only_cmds = waveform_ds.filter(lambda w,l: tf.reduce_any(l == commands))\n",
    "    for noise_level in noisy_reps_of_known:\n",
    "       waveform_ds = waveform_ds.concatenate(copy_with_noise(ds_only_cmds, rms_level=noise_level))\n",
    "  if num_silent > 0:\n",
    "    silent_wave_ds = create_silence_dataset(num_silent, wave_length_samps, \n",
    "                                            rms_noise_range=[0.01,0.2], \n",
    "                                            silent_label=silence_str)\n",
    "    waveform_ds = waveform_ds.concatenate(silent_wave_ds)\n",
    "  print(f\"Added {num_silent} silent wavs and ?? noisy wavs\")\n",
    "  num_waves = 0\n",
    "  output_ds = wavds2specds(waveform_ds)\n",
    "  return output_ds"
   ]
  },
  {
   "cell_type": "code",
   "execution_count": 29,
   "id": "measured-police",
   "metadata": {},
   "outputs": [
    {
     "name": "stdout",
     "output_type": "stream",
     "text": [
      "We have 84843/9981/11005 training/validation/test files\n"
     ]
    }
   ],
   "source": [
    "print(f\"We have {len(train_files)}/{len(val_files)}/{len(test_files)} training/validation/test files\")"
   ]
  },
  {
   "cell_type": "code",
   "execution_count": 30,
   "id": "refined-immunology",
   "metadata": {},
   "outputs": [
    {
     "name": "stdout",
     "output_type": "stream",
     "text": [
      "['_silence', '_unknown', 'left', 'right']\n",
      "Processing 20 files\n",
      "Added 5 silent wavs and ?? noisy wavs\n",
      "About to create spectrograms from 25 waves\n",
      " 0 wavs processed{1: 20, 0: 5}\n",
      "Processing 20 files\n",
      "Added 5 silent wavs and ?? noisy wavs\n",
      "About to create spectrograms from 25 waves\n",
      " 0 wavs processed{1: 20, 0: 5}\n"
     ]
    }
   ],
   "source": [
    "# print(train_files[:20])\n",
    "print(label_list)\n",
    "train_files[:20]\n",
    "\n",
    "tmp_ds = preprocess_dataset(train_files[:20])\n",
    "print(count_labels(tmp_ds))\n",
    "\n",
    "with tf.device('/CPU:0'): # needed on M1 mac\n",
    "    tmp_ds = preprocess_dataset(train_files[:20], noisy_reps_of_known=[0.05,0.1])\n",
    "    print(count_labels(tmp_ds))\n",
    "\n"
   ]
  },
  {
   "cell_type": "code",
   "execution_count": null,
   "id": "48d0ab6d-451c-4e3d-9caa-9b1c8ad3c27d",
   "metadata": {},
   "outputs": [],
   "source": []
  },
  {
   "cell_type": "code",
   "execution_count": 31,
   "id": "conscious-humor",
   "metadata": {},
   "outputs": [
    {
     "name": "stdout",
     "output_type": "stream",
     "text": [
      "Processing 84843 files\n",
      "Added 16969 silent wavs and ?? noisy wavs\n",
      "About to create spectrograms from 132092 waves\n",
      " 132000 wavs processedProcessing 9981 files\n",
      "Added 1997 silent wavs and ?? noisy wavs\n",
      "About to create spectrograms from 11978 waves\n",
      " 11750 wavs processedProcessing 11005 files\n",
      "Added 2202 silent wavs and ?? noisy wavs\n",
      "About to create spectrograms from 13207 waves\n",
      " 13000 wavs processed"
     ]
    }
   ],
   "source": [
    "# train_ds is already done\n",
    "with tf.device('/CPU:0'): # needed on M1 mac\n",
    "    train_ds = preprocess_dataset(train_files, noisy_reps_of_known=[0.05,0.1,0.15,0.2,0.25])\n",
    "val_ds = preprocess_dataset(val_files)\n",
    "test_ds = preprocess_dataset(test_files)"
   ]
  },
  {
   "cell_type": "code",
   "execution_count": 32,
   "id": "instant-sucking",
   "metadata": {},
   "outputs": [
    {
     "name": "stdout",
     "output_type": "stream",
     "text": [
      "training data set\n",
      "{1: 78787, 2: 18222, 3: 18114, 0: 16969}\n",
      "val_ds data set\n",
      "{3: 363, 1: 9266, 2: 352, 0: 1997}\n",
      "test_ds data set\n",
      "{3: 396, 1: 10197, 2: 412, 0: 2202}\n"
     ]
    }
   ],
   "source": [
    "print(\"training data set\")\n",
    "print(count_labels(train_ds))\n",
    "print(\"val_ds data set\")\n",
    "print(count_labels(val_ds))\n",
    "print(\"test_ds data set\")\n",
    "print(count_labels(test_ds))"
   ]
  },
  {
   "cell_type": "code",
   "execution_count": 33,
   "id": "controlling-arnold",
   "metadata": {},
   "outputs": [],
   "source": [
    "train_ds = train_ds.shuffle(int(len(train_files)*1.2))\n",
    "val_ds = val_ds.shuffle(int(len(val_files)*1.2))\n",
    "test_ds = test_ds.shuffle(int(len(test_files)*1.2))"
   ]
  },
  {
   "cell_type": "code",
   "execution_count": 34,
   "id": "scheduled-emergency",
   "metadata": {},
   "outputs": [],
   "source": [
    "batch_size = 64\n",
    "train_ds = train_ds.batch(batch_size)\n",
    "val_ds = val_ds.batch(batch_size)"
   ]
  },
  {
   "cell_type": "code",
   "execution_count": 35,
   "id": "positive-publication",
   "metadata": {},
   "outputs": [],
   "source": [
    "train_ds = train_ds.cache().prefetch(AUTOTUNE)\n",
    "val_ds = val_ds.cache().prefetch(AUTOTUNE)"
   ]
  },
  {
   "cell_type": "code",
   "execution_count": 36,
   "id": "exposed-appearance",
   "metadata": {},
   "outputs": [
    {
     "name": "stdout",
     "output_type": "stream",
     "text": [
      "Spectrogram shape (24, 32, 1)\n",
      "ranges from 0.0 to 710.0\n"
     ]
    }
   ],
   "source": [
    "for spectrogram, _ in train_ds.take(1):\n",
    "  spec1 = spectrogram\n",
    "# take(1) takes 1 *batch*, so we have to select the first \n",
    "# spectrogram from it, hence the [0]\n",
    "print(f\"Spectrogram shape {spec1[0].shape}\")\n",
    "print(f\"ranges from {np.min(spec1)} to {np.max(spec1)}\")   # min/max across the whole batch"
   ]
  },
  {
   "cell_type": "code",
   "execution_count": 37,
   "id": "artistic-christian",
   "metadata": {},
   "outputs": [
    {
     "name": "stdout",
     "output_type": "stream",
     "text": [
      "Input shape: (24, 32, 1)\n"
     ]
    }
   ],
   "source": [
    "for spectrogram, _ in train_ds.take(1):\n",
    "  # take(1) takes 1 *batch*, so we have to select the first \n",
    "  # spectrogram from it, hence the [0]\n",
    "  input_shape = spectrogram[0].shape  \n",
    "print('Input shape:', input_shape)\n",
    "num_labels = len(label_list)\n"
   ]
  },
  {
   "cell_type": "code",
   "execution_count": 38,
   "id": "stuck-david",
   "metadata": {},
   "outputs": [
    {
     "name": "stdout",
     "output_type": "stream",
     "text": [
      "Input shape: (24, 32, 1)\n",
      "Model: \"simple_cnn\"\n",
      "_________________________________________________________________\n",
      "Layer (type)                 Output Shape              Param #   \n",
      "=================================================================\n",
      "conv2d (Conv2D)              (None, 22, 30, 20)        200       \n",
      "_________________________________________________________________\n",
      "pool2 (MaxPooling2D)         (None, 11, 15, 20)        0         \n",
      "_________________________________________________________________\n",
      "depthwise_conv2d (DepthwiseC (None, 11, 15, 20)        200       \n",
      "_________________________________________________________________\n",
      "conv2d_1 (Conv2D)            (None, 11, 15, 32)        672       \n",
      "_________________________________________________________________\n",
      "max_pooling2d (MaxPooling2D) (None, 2, 3, 32)          0         \n",
      "_________________________________________________________________\n",
      "dropout (Dropout)            (None, 2, 3, 32)          0         \n",
      "_________________________________________________________________\n",
      "flatten (Flatten)            (None, 192)               0         \n",
      "_________________________________________________________________\n",
      "dense (Dense)                (None, 128)               24704     \n",
      "_________________________________________________________________\n",
      "dropout_1 (Dropout)          (None, 128)               0         \n",
      "_________________________________________________________________\n",
      "dense_1 (Dense)              (None, 128)               16512     \n",
      "_________________________________________________________________\n",
      "dropout_2 (Dropout)          (None, 128)               0         \n",
      "_________________________________________________________________\n",
      "dense_2 (Dense)              (None, 4)                 516       \n",
      "=================================================================\n",
      "Total params: 42,804\n",
      "Trainable params: 42,804\n",
      "Non-trainable params: 0\n",
      "_________________________________________________________________\n"
     ]
    }
   ],
   "source": [
    "print('Input shape:', input_shape)\n",
    "model = models.Sequential([\n",
    "    layers.Input(shape=input_shape),\n",
    "    layers.Conv2D(20, 3, activation='relu'),\n",
    "    layers.MaxPooling2D(name='pool2'),\n",
    "    layers.DepthwiseConv2D(kernel_size=(3,3), padding='same'),\n",
    "    layers.Conv2D(32, 1, activation='relu'),\n",
    "    layers.MaxPooling2D(pool_size=(4,4)),\n",
    "    layers.Dropout(0.2),\n",
    "    layers.Flatten(),\n",
    "    layers.Dense(128, activation='relu'),\n",
    "    layers.Dropout(0.2),\n",
    "    layers.Dense(128, activation='relu'),\n",
    "    layers.Dropout(0.2),\n",
    "    layers.Dense(num_labels),\n",
    "], name=\"simple_cnn\")\n",
    "\n",
    "model.summary()"
   ]
  },
  {
   "cell_type": "code",
   "execution_count": 39,
   "id": "rough-train",
   "metadata": {},
   "outputs": [
    {
     "name": "stdout",
     "output_type": "stream",
     "text": [
      "[95760 23940 85120 16384 16384   512]\n",
      "238100\n"
     ]
    }
   ],
   "source": [
    "# number of MACs in each layer is (# outputs in layer) * (number of inputs that contribute to one output)\n",
    "macs = np.array([(14*38*20)*(3*3), (7*19*20)*(3*3), (7*19*32)*20, 128*128, 128*128, 4*128])\n",
    "print(macs)\n",
    "print(np.sum(macs))"
   ]
  },
  {
   "cell_type": "code",
   "execution_count": 40,
   "id": "emerging-holocaust",
   "metadata": {},
   "outputs": [],
   "source": [
    "model.compile(\n",
    "    optimizer=tf.keras.optimizers.Adam(),\n",
    "    loss=tf.keras.losses.SparseCategoricalCrossentropy(from_logits=True),\n",
    "    metrics=['accuracy'],\n",
    ")"
   ]
  },
  {
   "cell_type": "code",
   "execution_count": 41,
   "id": "alternative-arrest",
   "metadata": {},
   "outputs": [],
   "source": [
    "#  Google: feature extraction with Keras\n",
    "# feature_model = tf.keras.model(input=model.input, output= model.layers[4].output)"
   ]
  },
  {
   "cell_type": "code",
   "execution_count": 42,
   "id": "recreational-publication",
   "metadata": {},
   "outputs": [
    {
     "name": "stdout",
     "output_type": "stream",
     "text": [
      "Epoch 1/25\n",
      "2064/2064 [==============================] - 25s 12ms/step - loss: 0.6423 - accuracy: 0.7873 - val_loss: 0.3012 - val_accuracy: 0.9258\n",
      "Epoch 2/25\n",
      "2064/2064 [==============================] - 24s 11ms/step - loss: 0.4305 - accuracy: 0.8379 - val_loss: 0.2432 - val_accuracy: 0.9404\n",
      "Epoch 3/25\n",
      "2064/2064 [==============================] - 23s 11ms/step - loss: 0.3879 - accuracy: 0.8540 - val_loss: 0.2259 - val_accuracy: 0.9446\n",
      "Epoch 4/25\n",
      "2064/2064 [==============================] - 24s 11ms/step - loss: 0.3624 - accuracy: 0.8643 - val_loss: 0.2338 - val_accuracy: 0.9380\n",
      "Epoch 5/25\n",
      "2064/2064 [==============================] - 24s 11ms/step - loss: 0.3431 - accuracy: 0.8724 - val_loss: 0.2127 - val_accuracy: 0.9497\n",
      "Epoch 6/25\n",
      "2064/2064 [==============================] - 24s 11ms/step - loss: 0.3271 - accuracy: 0.8788 - val_loss: 0.2016 - val_accuracy: 0.9523\n",
      "Epoch 7/25\n",
      "2064/2064 [==============================] - 24s 11ms/step - loss: 0.3179 - accuracy: 0.8822 - val_loss: 0.1881 - val_accuracy: 0.9553\n",
      "Epoch 8/25\n",
      "2064/2064 [==============================] - 24s 11ms/step - loss: 0.3091 - accuracy: 0.8854 - val_loss: 0.1983 - val_accuracy: 0.9535\n",
      "Epoch 9/25\n",
      "2064/2064 [==============================] - 24s 11ms/step - loss: 0.3015 - accuracy: 0.8879 - val_loss: 0.1930 - val_accuracy: 0.9588\n",
      "Epoch 10/25\n",
      "2064/2064 [==============================] - 24s 11ms/step - loss: 0.2932 - accuracy: 0.8911 - val_loss: 0.1952 - val_accuracy: 0.9546\n",
      "Epoch 11/25\n",
      "2064/2064 [==============================] - 24s 12ms/step - loss: 0.2869 - accuracy: 0.8934 - val_loss: 0.1967 - val_accuracy: 0.9552\n",
      "Epoch 12/25\n",
      "2064/2064 [==============================] - 25s 12ms/step - loss: 0.2827 - accuracy: 0.8946 - val_loss: 0.1938 - val_accuracy: 0.9539\n",
      "Epoch 13/25\n",
      "2064/2064 [==============================] - 24s 12ms/step - loss: 0.2751 - accuracy: 0.8977 - val_loss: 0.1853 - val_accuracy: 0.9603\n",
      "Epoch 14/25\n",
      "2064/2064 [==============================] - 24s 12ms/step - loss: 0.2733 - accuracy: 0.8974 - val_loss: 0.1852 - val_accuracy: 0.9593\n",
      "Epoch 15/25\n",
      "2064/2064 [==============================] - 24s 12ms/step - loss: 0.2715 - accuracy: 0.8992 - val_loss: 0.1798 - val_accuracy: 0.9577\n",
      "Epoch 16/25\n",
      "2064/2064 [==============================] - 23s 11ms/step - loss: 0.2669 - accuracy: 0.9006 - val_loss: 0.1807 - val_accuracy: 0.9578\n",
      "Epoch 17/25\n",
      "2064/2064 [==============================] - 23s 11ms/step - loss: 0.2642 - accuracy: 0.9012 - val_loss: 0.1758 - val_accuracy: 0.9595\n",
      "Epoch 18/25\n",
      "2064/2064 [==============================] - 23s 11ms/step - loss: 0.2590 - accuracy: 0.9036 - val_loss: 0.1796 - val_accuracy: 0.9605\n",
      "Epoch 19/25\n",
      "2064/2064 [==============================] - 24s 12ms/step - loss: 0.2571 - accuracy: 0.9034 - val_loss: 0.1878 - val_accuracy: 0.9559\n",
      "Epoch 20/25\n",
      "2064/2064 [==============================] - 23s 11ms/step - loss: 0.2562 - accuracy: 0.9042 - val_loss: 0.1857 - val_accuracy: 0.9587\n",
      "Epoch 21/25\n",
      "2064/2064 [==============================] - 23s 11ms/step - loss: 0.2528 - accuracy: 0.9057 - val_loss: 0.1832 - val_accuracy: 0.9604\n",
      "Epoch 22/25\n",
      "2064/2064 [==============================] - 24s 12ms/step - loss: 0.2509 - accuracy: 0.9062 - val_loss: 0.1960 - val_accuracy: 0.9573\n",
      "Epoch 23/25\n",
      "2064/2064 [==============================] - 24s 11ms/step - loss: 0.2489 - accuracy: 0.9067 - val_loss: 0.1941 - val_accuracy: 0.9549\n",
      "Epoch 24/25\n",
      "2064/2064 [==============================] - 23s 11ms/step - loss: 0.2440 - accuracy: 0.9087 - val_loss: 0.1867 - val_accuracy: 0.9599\n",
      "Epoch 25/25\n",
      "2064/2064 [==============================] - 23s 11ms/step - loss: 0.2446 - accuracy: 0.9087 - val_loss: 0.2179 - val_accuracy: 0.9458\n"
     ]
    }
   ],
   "source": [
    "history = model.fit(\n",
    "    train_ds, \n",
    "    validation_data=val_ds,  \n",
    "    epochs=EPOCHS) \n",
    "    # callbacks=tf.keras.callbacks.EarlyStopping(verbose=1, patience=2))"
   ]
  },
  {
   "cell_type": "code",
   "execution_count": 43,
   "id": "equipped-characteristic",
   "metadata": {},
   "outputs": [
    {
     "name": "stdout",
     "output_type": "stream",
     "text": [
      "Saving model to kws_ufe_16mar2022_1229.h5\n"
     ]
    }
   ],
   "source": [
    "date_str = dt.now().strftime(\"%d%b%Y_%H%M\").lower()\n",
    "model_file_name = f\"kws_ufe_{date_str}.h5\" \n",
    "print(f\"Saving model to {model_file_name}\")\n",
    "model.save(model_file_name, overwrite=False)"
   ]
  },
  {
   "cell_type": "code",
   "execution_count": 69,
   "id": "157289b7-b7c9-469a-909a-4d346e583a1a",
   "metadata": {},
   "outputs": [],
   "source": [
    "with open(model_file_name.split('.')[0] + '.txt', 'w') as fpo:\n",
    "    fpo.write(f\"i16min            = {i16min           }\\n\")\n",
    "    fpo.write(f\"i16max            = {i16max           }\\n\")\n",
    "    fpo.write(f\"fsamp             = {fsamp            }\\n\")\n",
    "    fpo.write(f\"wave_length_ms    = {wave_length_ms   }\\n\")\n",
    "    fpo.write(f\"wave_length_samps = {wave_length_samps}\\n\")\n",
    "    fpo.write(f\"window_size_ms    = {window_size_ms   }\\n\")\n",
    "    fpo.write(f\"window_step_ms    = {window_step_ms   }\\n\")\n",
    "    fpo.write(f\"num_filters       = {num_filters      }\\n\")\n",
    "    fpo.write(f\"use_microfrontend = {use_microfrontend}\\n\")\n",
    "    fpo.write(f\"label_list        = {label_list}\\n\")\n",
    "    fpo.write(f\"spectrogram_shape = {spectrogram.numpy().shape}\\n\")\n"
   ]
  },
  {
   "cell_type": "code",
   "execution_count": 44,
   "id": "amateur-slovenia",
   "metadata": {},
   "outputs": [
    {
     "data": {
      "image/png": "[encoded data removed]",
      "text/plain": [
       "<Figure size 432x288 with 2 Axes>"
      ]
     },
     "metadata": {
      "needs_background": "light"
     },
     "output_type": "display_data"
    }
   ],
   "source": [
    "metrics = history.history\n",
    "plt.subplot(2,1,1)\n",
    "plt.semilogy(history.epoch, metrics['loss'], metrics['val_loss'])\n",
    "plt.legend(['training', 'validation'])\n",
    "plt.ylabel('Loss')\n",
    "plt.xlabel('Epoch')\n",
    "plt.subplot(2,1,2)\n",
    "plt.plot(history.epoch, metrics['accuracy'], metrics['val_accuracy'])\n",
    "plt.legend(['training', 'validation'])\n",
    "plt.ylabel('Accuracy')\n",
    "plt.xlabel('Epoch')\n",
    "plt.show()"
   ]
  },
  {
   "cell_type": "code",
   "execution_count": 45,
   "id": "hungarian-arabic",
   "metadata": {},
   "outputs": [],
   "source": [
    "test_audio = []\n",
    "test_labels = []\n",
    "\n",
    "for audio, label in test_ds:\n",
    "  test_audio.append(audio.numpy())\n",
    "  test_labels.append(label.numpy())\n",
    "\n",
    "test_audio = np.array(test_audio)\n",
    "test_labels = np.array(test_labels)"
   ]
  },
  {
   "cell_type": "code",
   "execution_count": 46,
   "id": "dangerous-coverage",
   "metadata": {
    "scrolled": true
   },
   "outputs": [
    {
     "name": "stdout",
     "output_type": "stream",
     "text": [
      "Test set accuracy: 95%\n"
     ]
    }
   ],
   "source": [
    "y_pred = np.argmax(model.predict(test_audio), axis=1)\n",
    "y_true = test_labels\n",
    "\n",
    "test_acc = sum(y_pred == y_true) / len(y_true)\n",
    "print(f'Test set accuracy: {test_acc:.0%}')"
   ]
  },
  {
   "cell_type": "code",
   "execution_count": 47,
   "id": "governmental-cathedral",
   "metadata": {},
   "outputs": [
    {
     "data": {
      "image/png": "[encoded data removed]",
      "text/plain": [
       "<Figure size 432x432 with 2 Axes>"
      ]
     },
     "metadata": {
      "needs_background": "light"
     },
     "output_type": "display_data"
    }
   ],
   "source": [
    "confusion_mtx = tf.math.confusion_matrix(y_true, y_pred) \n",
    "plt.figure(figsize=(6, 6))\n",
    "sns.heatmap(confusion_mtx, xticklabels=label_list, yticklabels=label_list, \n",
    "            annot=True, fmt='g')\n",
    "plt.gca().invert_yaxis() # flip so origin is at bottom left\n",
    "plt.xlabel('Prediction')\n",
    "plt.ylabel('Label')\n",
    "plt.show()"
   ]
  },
  {
   "cell_type": "code",
   "execution_count": 48,
   "id": "serious-victory",
   "metadata": {
    "scrolled": true
   },
   "outputs": [
    {
     "name": "stdout",
     "output_type": "stream",
     "text": [
      "On training set:\n",
      "Data set accuracy: 89%\n"
     ]
    },
    {
     "data": {
      "image/png": "[encoded data removed]",
      "text/plain": [
       "<Figure size 360x288 with 2 Axes>"
      ]
     },
     "metadata": {
      "needs_background": "light"
     },
     "output_type": "display_data"
    }
   ],
   "source": [
    "dset = train_ds.unbatch()\n",
    "print(\"On training set:\")\n",
    "\n",
    "ds_audio = []\n",
    "ds_labels = []\n",
    "\n",
    "for audio, label in dset:\n",
    "  ds_audio.append(audio.numpy())\n",
    "  ds_labels.append(label.numpy())\n",
    "\n",
    "ds_labels = np.array(ds_labels)\n",
    "ds_audio = np.array(ds_audio)\n",
    "\n",
    "model_out = model.predict(ds_audio)\n",
    "y_pred = np.argmax(model_out, axis=1)\n",
    "y_true = ds_labels\n",
    "\n",
    "ds_acc = sum(y_pred == y_true) / len(y_true)\n",
    "print(f'Data set accuracy: {ds_acc:.0%}')\n",
    "\n",
    "confusion_mtx = tf.math.confusion_matrix(y_true, y_pred) \n",
    "plt.figure(figsize=(5,4))\n",
    "sns.heatmap(confusion_mtx, xticklabels=label_list, yticklabels=label_list, \n",
    "            annot=True, fmt='g')\n",
    "plt.xlabel('Prediction')\n",
    "plt.ylabel('Label')\n",
    "plt.show()"
   ]
  },
  {
   "cell_type": "code",
   "execution_count": 49,
   "id": "unusual-stopping",
   "metadata": {
    "scrolled": true
   },
   "outputs": [
    {
     "name": "stdout",
     "output_type": "stream",
     "text": [
      "Processing 4 files\n",
      "Added 1 silent wavs and ?? noisy wavs\n",
      "About to create spectrograms from 5 waves\n",
      " 0 wavs processed"
     ]
    },
    {
     "data": {
      "image/png": "[encoded data removed]",
      "text/plain": [
       "<Figure size 432x288 with 1 Axes>"
      ]
     },
     "metadata": {
      "needs_background": "light"
     },
     "output_type": "display_data"
    },
    {
     "data": {
      "image/png": "[encoded data removed]",
      "text/plain": [
       "<Figure size 432x288 with 1 Axes>"
      ]
     },
     "metadata": {
      "needs_background": "light"
     },
     "output_type": "display_data"
    },
    {
     "data": {
      "image/png": "[encoded data removed]",
      "text/plain": [
       "<Figure size 432x288 with 1 Axes>"
      ]
     },
     "metadata": {
      "needs_background": "light"
     },
     "output_type": "display_data"
    },
    {
     "data": {
      "image/png": "[encoded data removed]",
      "text/plain": [
       "<Figure size 432x288 with 1 Axes>"
      ]
     },
     "metadata": {
      "needs_background": "light"
     },
     "output_type": "display_data"
    },
    {
     "data": {
      "image/png": "[encoded data removed]",
      "text/plain": [
       "<Figure size 432x288 with 1 Axes>"
      ]
     },
     "metadata": {
      "needs_background": "light"
     },
     "output_type": "display_data"
    }
   ],
   "source": [
    "sample_files = [data_dir/'left/07ad9b59_nohash_0.wav', \n",
    "                data_dir/'no/01bb6a2a_nohash_0.wav',  \n",
    "                data_dir/'right/0362539c_nohash_1.wav',\n",
    "                data_dir/'right/b5d1e505_nohash_0.wav']\n",
    "fstr_list = [str(f) for f in sample_files]\n",
    "sample_ds = preprocess_dataset(fstr_list, num_silent=1)\n",
    "count = 1\n",
    "for spectrogram, label in sample_ds.batch(1):\n",
    "  prediction = model(spectrogram)\n",
    "  plt.subplot(len(sample_files)+1, 1, count)\n",
    "  plt.bar(label_list, tf.nn.softmax(prediction[0]))\n",
    "  plt.title(f'Predictions for \"{label_list[label[0]]}\"')\n",
    "  plt.show()\n",
    "  count += 1"
   ]
  },
  {
   "cell_type": "markdown",
   "id": "current-preserve",
   "metadata": {},
   "source": [
    "## Quantize and Convert to TFLite"
   ]
  },
  {
   "cell_type": "code",
   "execution_count": 50,
   "id": "enclosed-government",
   "metadata": {},
   "outputs": [],
   "source": [
    "converter = tf.lite.TFLiteConverter.from_keras_model(model)\n",
    "converter.optimizations = [tf.lite.Optimize.DEFAULT]"
   ]
  },
  {
   "cell_type": "code",
   "execution_count": 51,
   "id": "loved-synthetic",
   "metadata": {},
   "outputs": [],
   "source": [
    "num_calibration_steps = 10\n",
    "ds_iter = val_ds.unbatch().batch(1).as_numpy_iterator()\n",
    "def representative_dataset_gen():\n",
    "  for _ in range(num_calibration_steps):\n",
    "    next_input = next(ds_iter)[0]\n",
    "    next_input = next_input.astype(np.float32)  # (DIFF_FROM_LECTURE)\n",
    "    yield [next_input]"
   ]
  },
  {
   "cell_type": "code",
   "execution_count": 52,
   "id": "supported-poison",
   "metadata": {},
   "outputs": [],
   "source": [
    "converter.optimizations = [tf.lite.Optimize.DEFAULT]\n",
    "converter.representative_dataset = representative_dataset_gen\n",
    "converter.target_spec.supported_ops = [tf.lite.OpsSet.TFLITE_BUILTINS_INT8]\n",
    "converter.inference_input_type = tf.int8  # or tf.uint8; should match dat_q in eval_quantized_model.py\n",
    "converter.inference_output_type = tf.int8  # or tf.uint8"
   ]
  },
  {
   "cell_type": "code",
   "execution_count": 53,
   "id": "least-marketplace",
   "metadata": {},
   "outputs": [
    {
     "name": "stdout",
     "output_type": "stream",
     "text": [
      "INFO:tensorflow:Assets written to: /var/folders/qb/jcjkm0nx4878vyqfjy786xdh0000gn/T/tmpii7b1e77/assets\n"
     ]
    }
   ],
   "source": [
    "tflite_quant_model = converter.convert()"
   ]
  },
  {
   "cell_type": "code",
   "execution_count": 54,
   "id": "simplified-faculty",
   "metadata": {},
   "outputs": [
    {
     "name": "stdout",
     "output_type": "stream",
     "text": [
      "Wrote 50192 / 50192 bytes to tflite file\n"
     ]
    }
   ],
   "source": [
    "fname = 'kws_model.tflite'\n",
    "with open(fname, \"wb\") as fpo:\n",
    "  num_bytes_written = fpo.write(tflite_quant_model)\n",
    "print(f\"Wrote {num_bytes_written} / {len(tflite_quant_model)} bytes to tflite file\")"
   ]
  },
  {
   "cell_type": "code",
   "execution_count": 55,
   "id": "thorough-senegal",
   "metadata": {},
   "outputs": [],
   "source": [
    "!xxd -i kws_model.tflite >! kws_model.cc"
   ]
  },
  {
   "cell_type": "code",
   "execution_count": null,
   "id": "4f7a331e-b930-4914-8906-8e9b384b17c4",
   "metadata": {},
   "outputs": [],
   "source": []
  }
 ],
 "metadata": {
  "kernelspec": {
   "display_name": "Python 3 (ipykernel)",
   "language": "python",
   "name": "python3"
  },
  "language_info": {
   "codemirror_mode": {
    "name": "ipython",
    "version": 3
   },
   "file_extension": ".py",
   "mimetype": "text/x-python",
   "name": "python",
   "nbconvert_exporter": "python",
   "pygments_lexer": "ipython3",
   "version": "3.9.15"
  }
 },
 "nbformat": 4,
 "nbformat_minor": 5
}
