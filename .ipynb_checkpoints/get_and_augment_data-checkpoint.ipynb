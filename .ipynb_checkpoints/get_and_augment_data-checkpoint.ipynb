{
 "cells": [
  {
   "cell_type": "markdown",
   "id": "4f98bbad",
   "metadata": {},
   "source": [
    "# Audio Capture & Augmentation\n",
    "#### Author: Jeromey Schwartz\n",
    "#### *Audio capture code (indicated with *) supplied by Dr. Jeremy Holleman UNC-Charlotte "
   ]
  },
  {
   "cell_type": "markdown",
   "id": "0e85322b",
   "metadata": {},
   "source": [
    "### Purpose:\n",
    "This will record an audio sample 1 second long at a sampling rate of 16kHz, the samples can then be augmented by adding noise, pitch shifting, or time shifting "
   ]
  },
  {
   "cell_type": "markdown",
   "id": "3d0398a4",
   "metadata": {},
   "source": [
    "### Program Flow:\n",
    "1. Load libraries/setup code \n",
    "2. Save a number of audio samples \n",
    "3. Save ambient noise samples \n",
    "4. Noise shift \n",
    "5. Time shift \n",
    "6. Pitch shift \n",
    "7. Save samples names in validation document "
   ]
  },
  {
   "cell_type": "raw",
   "id": "dd7b44af",
   "metadata": {},
   "source": []
  },
  {
   "cell_type": "markdown",
   "id": "4914f189",
   "metadata": {},
   "source": [
    "#### Import libraries"
   ]
  },
  {
   "cell_type": "code",
   "execution_count": 1,
   "id": "4a0c1da4",
   "metadata": {},
   "outputs": [
    {
     "name": "stderr",
     "output_type": "stream",
     "text": [
      "2023-04-27 15:12:15.931523: I tensorflow/core/util/port.cc:110] oneDNN custom operations are on. You may see slightly different numerical results due to floating-point round-off errors from different computation orders. To turn them off, set the environment variable `TF_ENABLE_ONEDNN_OPTS=0`.\n",
      "2023-04-27 15:12:15.932942: I tensorflow/tsl/cuda/cudart_stub.cc:28] Could not find cuda drivers on your machine, GPU will not be used.\n",
      "2023-04-27 15:12:15.963387: I tensorflow/tsl/cuda/cudart_stub.cc:28] Could not find cuda drivers on your machine, GPU will not be used.\n",
      "2023-04-27 15:12:15.963771: I tensorflow/core/platform/cpu_feature_guard.cc:182] This TensorFlow binary is optimized to use available CPU instructions in performance-critical operations.\n",
      "To enable the following instructions: AVX2 AVX_VNNI FMA, in other operations, rebuild TensorFlow with the appropriate compiler flags.\n",
      "2023-04-27 15:12:16.562788: W tensorflow/compiler/tf2tensorrt/utils/py_utils.cc:38] TF-TRT Warning: Could not find TensorRT\n"
     ]
    }
   ],
   "source": [
    "import os\n",
    "os.environ['PY_SSIZE_T_CLEAN'] = '1'\n",
    "\n",
    "import tensorflow as tf\n",
    "from tensorflow.lite.experimental.microfrontend.python.ops import audio_microfrontend_op as frontend_op\n",
    "import numpy as np\n",
    "import time\n",
    "from scipy.io import wavfile\n",
    "import random\n",
    "import sys\n",
    "import io\n",
    "import os\n",
    "import pathlib\n",
    "import glob\n",
    "from datetime import datetime as dt\n",
    "from numpy import log as ln\n",
    "import matplotlib.mlab as mlab\n",
    "import matplotlib.pyplot as plt\n",
    "from scipy.io.wavfile import write\n",
    "import IPython\n",
    "import IPython.display as ipd\n",
    "import tensorflow as tf\n",
    "%matplotlib inline\n",
    "import pyaudio\n",
    "from queue import Queue\n",
    "from threading import Thread\n",
    "import math\n",
    "import time\n",
    "import librosa"
   ]
  },
  {
   "cell_type": "markdown",
   "id": "1d93e449",
   "metadata": {},
   "source": [
    "#### Set Parameters*"
   ]
  },
  {
   "cell_type": "code",
   "execution_count": 2,
   "id": "4e632d52",
   "metadata": {},
   "outputs": [],
   "source": [
    "i16min            = -32768\n",
    "i16max            = 32767\n",
    "fsamp             = 16000\n",
    "wave_length_ms    = 1000\n",
    "wave_length_samps = 16000\n",
    "window_size_ms    = 60\n",
    "window_step_ms    = 40\n",
    "num_filters       = 32\n",
    "use_microfrontend = True\n",
    "keyword        = 'armadillo'#####Insert your keyword\n",
    "spectrogram_shape = (64, 24, 32, 1)\n",
    "\n",
    "chunk_duration = 0.25 # Each read length in seconds from mic.\n",
    "fs = 16000 # sampling rate for mic\n",
    "sample_rate = 16000 # sampling rate for mic\n",
    "chunk_samples = int(fs * chunk_duration) # Each read length in number of samples.\n",
    "\n",
    "# Each model input data duration in seconds, need to be an integer numbers of chunk_duration\n",
    "feed_duration = 1.0\n",
    "feed_samples = int(fs * feed_duration)\n",
    "\n",
    "assert feed_duration/chunk_duration == int(feed_duration/chunk_duration)"
   ]
  },
  {
   "cell_type": "markdown",
   "id": "b1b6456e",
   "metadata": {},
   "source": [
    "#### Create keyword & noise folders*"
   ]
  },
  {
   "cell_type": "code",
   "execution_count": 3,
   "id": "fc70430f",
   "metadata": {},
   "outputs": [
    {
     "name": "stdout",
     "output_type": "stream",
     "text": [
      "/home/david/Documents/GitHub/project-2-team-1\n",
      "Directory 'Augmented_armadillo' created\n",
      "Directory 'noise' created\n"
     ]
    }
   ],
   "source": [
    "parent_dir = os.getcwd() #gets current directory\n",
    "print(parent_dir)\n",
    "folder_pre = \"Augmented_\" \n",
    "folder = folder_pre + keyword #name of directory\n",
    "dir = os.path.join(parent_dir,folder)\n",
    "noise_dir=os.path.join(parent_dir,\"noise\")\n",
    "if not os.path.exists(dir):\n",
    "    os.mkdir(dir)\n",
    "if not os.path.exists(noise_dir):\n",
    "    os.mkdir(noise_dir)\n",
    "keyword_directory=dir + '\\\\'   \n",
    "print(\"Directory '% s' created\" % folder)\n",
    "print(\"Directory 'noise' created\")\n"
   ]
  },
  {
   "cell_type": "raw",
   "id": "d2691401",
   "metadata": {},
   "source": []
  },
  {
   "cell_type": "markdown",
   "id": "45d33f91",
   "metadata": {},
   "source": [
    "# Get Custom Data"
   ]
  },
  {
   "cell_type": "markdown",
   "id": "f7cc895e",
   "metadata": {},
   "source": [
    "#### Run this code to get in an audio sample*"
   ]
  },
  {
   "cell_type": "code",
   "execution_count": 4,
   "id": "ace0223b",
   "metadata": {},
   "outputs": [
    {
     "name": "stdout",
     "output_type": "stream",
     "text": [
      "Default input device:\n",
      "{'index': 23, 'structVersion': 2, 'name': 'default', 'hostApi': 0, 'maxInputChannels': 32, 'maxOutputChannels': 32, 'defaultLowInputLatency': 0.008684807256235827, 'defaultLowOutputLatency': 0.008684807256235827, 'defaultHighInputLatency': 0.034807256235827665, 'defaultHighOutputLatency': 0.034807256235827665, 'defaultSampleRate': 44100.0}\n",
      "\n",
      "Default output device:\n",
      "{'index': 23, 'structVersion': 2, 'name': 'default', 'hostApi': 0, 'maxInputChannels': 32, 'maxOutputChannels': 32, 'defaultLowInputLatency': 0.008684807256235827, 'defaultLowOutputLatency': 0.008684807256235827, 'defaultHighInputLatency': 0.034807256235827665, 'defaultHighOutputLatency': 0.034807256235827665, 'defaultSampleRate': 44100.0}\n"
     ]
    },
    {
     "name": "stderr",
     "output_type": "stream",
     "text": [
      "ALSA lib pcm.c:2666:(snd_pcm_open_noupdate) Unknown PCM cards.pcm.rear\n",
      "ALSA lib pcm.c:2666:(snd_pcm_open_noupdate) Unknown PCM cards.pcm.center_lfe\n",
      "ALSA lib pcm.c:2666:(snd_pcm_open_noupdate) Unknown PCM cards.pcm.side\n",
      "ALSA lib pcm_route.c:877:(find_matching_chmap) Found no matching channel map\n",
      "ALSA lib pcm_route.c:877:(find_matching_chmap) Found no matching channel map\n",
      "ALSA lib pcm_route.c:877:(find_matching_chmap) Found no matching channel map\n",
      "ALSA lib pcm_route.c:877:(find_matching_chmap) Found no matching channel map\n",
      "ALSA lib pcm_oss.c:397:(_snd_pcm_oss_open) Cannot open device /dev/dsp\n",
      "ALSA lib pcm_oss.c:397:(_snd_pcm_oss_open) Cannot open device /dev/dsp\n",
      "ALSA lib confmisc.c:160:(snd_config_get_card) Invalid field card\n",
      "ALSA lib pcm_usb_stream.c:482:(_snd_pcm_usb_stream_open) Invalid card 'card'\n",
      "ALSA lib confmisc.c:160:(snd_config_get_card) Invalid field card\n",
      "ALSA lib pcm_usb_stream.c:482:(_snd_pcm_usb_stream_open) Invalid card 'card'\n"
     ]
    }
   ],
   "source": [
    "import pyaudio\n",
    "\n",
    "# Create a PyAudio object\n",
    "pa = pyaudio.PyAudio()\n",
    "\n",
    "# Get the default input and output devices\n",
    "default_input_device = pa.get_default_input_device_info()\n",
    "default_output_device = pa.get_default_output_device_info()\n",
    "\n",
    "# Print information about the default devices\n",
    "print(\"Default input device:\")\n",
    "print(default_input_device)\n",
    "\n",
    "print(\"\\nDefault output device:\")\n",
    "print(default_output_device)\n",
    "\n",
    "# # Print information about all available devices\n",
    "# print(\"\\nAvailable devices:\")\n",
    "# for i in range(pa.get_device_count()):\n",
    "#     device_info = pa.get_device_info_by_index(i)\n",
    "#     print(device_info)\n"
   ]
  },
  {
   "cell_type": "code",
   "execution_count": 5,
   "id": "00064e71",
   "metadata": {},
   "outputs": [
    {
     "name": "stdout",
     "output_type": "stream",
     "text": [
      "Python version\n",
      "3.10.6 (main, Mar 10 2023, 10:55:28) [GCC 11.3.0]\n",
      "Version info.\n",
      "sys.version_info(major=3, minor=10, micro=6, releaselevel='final', serial=0)\n"
     ]
    }
   ],
   "source": [
    "import sys\n",
    "print(\"Python version\")\n",
    "print(sys.version)\n",
    "print(\"Version info.\")\n",
    "print(sys.version_info)"
   ]
  },
  {
   "cell_type": "code",
   "execution_count": 6,
   "id": "3288e6ce",
   "metadata": {
    "scrolled": false
   },
   "outputs": [
    {
     "data": {
      "image/png": "[encoded data removed]",
      "text/plain": [
       "<Figure size 640x480 with 1 Axes>"
      ]
     },
     "metadata": {},
     "output_type": "display_data"
    },
    {
     "data": {
      "text/html": [
       "\n",
       "                <audio  controls=\"controls\" >\n",
       "                    <source src=\"data:audio/wav;base64,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\" type=\"audio/wav\" />\n",
       "                    Your browser does not support the audio element.\n",
       "                </audio>\n",
       "              "
      ],
      "text/plain": [
       "<IPython.lib.display.Audio object>"
      ]
     },
     "execution_count": 6,
     "metadata": {},
     "output_type": "execute_result"
    }
   ],
   "source": [
    "# Queue to communiate between the audio callback and main thread\n",
    "q = Queue()\n",
    "run = True\n",
    "silence_threshold = 100\n",
    "# Run the demo for a timeout seconds\n",
    "timeout = time.time() + 1 \n",
    "# Data buffer for the input wavform\n",
    "data = np.zeros(feed_samples, dtype='int16')\n",
    "\n",
    "def callback(in_data, frame_count, time_info, status):\n",
    "    global run, timeout, data, silence_threshold    \n",
    "    if time.time() > timeout:\n",
    "        run = False        \n",
    "    data0 = np.frombuffer(in_data, dtype='int16')\n",
    "    data = np.append(data,data0)    \n",
    "    if len(data) > feed_samples:\n",
    "        data = data[-feed_samples:]\n",
    "        # Process data async by sending a queue.\n",
    "        q.put(data)\n",
    "    return (in_data, pyaudio.paContinue)\n",
    "\n",
    "stream = pyaudio.PyAudio().open(\n",
    "    format=pyaudio.paInt16,\n",
    "    channels=1,\n",
    "    rate=fs,\n",
    "    input=True,\n",
    "    frames_per_buffer=chunk_samples,\n",
    "    input_device_index=23,\n",
    "    stream_callback=callback)\n",
    "stream.start_stream()\n",
    "try:\n",
    "    while run:        \n",
    "        data = q.get()\n",
    "except (KeyboardInterrupt, SystemExit):\n",
    "    stream.stop_stream()\n",
    "    stream.close()\n",
    "    timeout = time.time()\n",
    "    run = False      \n",
    "stream.stop_stream()\n",
    "stream.close()\n",
    "\n",
    "sample_rate = fs\n",
    "\n",
    "\n",
    "#Displaying wave file data\n",
    "plt.plot(np.arange(1*fs)/fs, data)\n",
    "plt.show()\n",
    "ipd.Audio(data, rate=fs)"
   ]
  },
  {
   "cell_type": "markdown",
   "id": "8b5ac719",
   "metadata": {},
   "source": [
    "#### If the Sample looks good run cell below to save it "
   ]
  },
  {
   "cell_type": "code",
   "execution_count": 7,
   "id": "802139e8",
   "metadata": {},
   "outputs": [
    {
     "name": "stdout",
     "output_type": "stream",
     "text": [
      "Audio sample saved\n",
      "/home/david/Documents/GitHub/project-2-team-1/Augmented_armadillo/armadillo_151220.wav\n"
     ]
    }
   ],
   "source": [
    "# #saving the wave file to training_data\n",
    "date_str = dt.now().strftime(\"%H%M%S\").lower()\n",
    "current_name = f\"{keyword_directory}{keyword}_{date_str}.wav\".replace(\"\\\\\", \"/\")\n",
    "write(current_name, sample_rate, data)\n",
    "print(\"Audio sample saved\")\n",
    "print(current_name)"
   ]
  },
  {
   "cell_type": "markdown",
   "id": "c32de0a5",
   "metadata": {},
   "source": [
    "#### Noise\n",
    "* To get noise data run \"get data\" loop again to get ambient room\n",
    "* Save here\n",
    "* Get ~3 samples total"
   ]
  },
  {
   "cell_type": "code",
   "execution_count": 8,
   "id": "a496c94d",
   "metadata": {},
   "outputs": [
    {
     "name": "stdout",
     "output_type": "stream",
     "text": [
      "Audio sample saved as noise\n"
     ]
    }
   ],
   "source": [
    "# #saving the wave file to training_data\n",
    "date_str = dt.now().strftime(\"%H%M%S\").lower()\n",
    "current_name = f\"{parent_dir}/noise/noise_{date_str}.wav\"\n",
    "write(current_name, sample_rate, data)\n",
    "print(\"Audio sample saved as noise\")"
   ]
  },
  {
   "cell_type": "markdown",
   "id": "9b8c59cc",
   "metadata": {},
   "source": [
    "# Audio Augmentation- Noise\n",
    "    * This will create copies of sample audio and add pre-recorded noise. \n",
    "    * The amplitude of the noise depends on *noise_count*\n",
    "    * Audio samples and visualizations are created to show noise augmentation"
   ]
  },
  {
   "cell_type": "code",
   "execution_count": 9,
   "id": "8d7813e0",
   "metadata": {},
   "outputs": [
    {
     "name": "stdout",
     "output_type": "stream",
     "text": [
      "/home/david/Documents/GitHub/project-2-team-1/Augmented_armadillo\n"
     ]
    },
    {
     "data": {
      "image/png": "[encoded data removed]",
      "text/plain": [
       "<Figure size 640x480 with 1 Axes>"
      ]
     },
     "metadata": {},
     "output_type": "display_data"
    },
    {
     "data": {
      "text/html": [
       "\n",
       "                <audio  controls=\"controls\" >\n",
       "                    <source src=\"data:audio/wav;base64,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\" type=\"audio/wav\" />\n",
       "                    Your browser does not support the audio element.\n",
       "                </audio>\n",
       "              "
      ],
      "text/plain": [
       "<IPython.lib.display.Audio object>"
      ]
     },
     "execution_count": 9,
     "metadata": {},
     "output_type": "execute_result"
    }
   ],
   "source": [
    "#Selecting augmentation folder & files\n",
    "data_dir = dir\n",
    "print(data_dir)\n",
    "filenames = tf.io.gfile.glob(str(data_dir) + '/*.wav')\n",
    "\n",
    "#Testing if audio data imported correctly\n",
    "test_wav=filenames[0]\n",
    "fs, test_wav = wavfile.read(test_wav)\n",
    "plt.plot(np.arange(1*fs)/fs, test_wav)\n",
    "plt.show()\n",
    "ipd.Audio(test_wav, rate=fs)"
   ]
  },
  {
   "cell_type": "code",
   "execution_count": 10,
   "id": "7e36dfc9",
   "metadata": {},
   "outputs": [
    {
     "name": "stdout",
     "output_type": "stream",
     "text": [
      "Noise Samples: 0\n"
     ]
    }
   ],
   "source": [
    "#Loading noise samples\n",
    "noise_dir = parent_dir+'\\\\noise'\n",
    "noise_samples = tf.io.gfile.glob(str(noise_dir) + '/*.wav')\n",
    "print(\"Noise Samples:\", len(noise_samples))"
   ]
  },
  {
   "cell_type": "markdown",
   "id": "58ca02bd",
   "metadata": {},
   "source": [
    "#### Set Augment count"
   ]
  },
  {
   "cell_type": "code",
   "execution_count": 11,
   "id": "b2b00e22",
   "metadata": {},
   "outputs": [
    {
     "name": "stdout",
     "output_type": "stream",
     "text": [
      "This will expand the current 1 files by creating an addtional 0 noise augmented files, to give a total of 1 files\n"
     ]
    }
   ],
   "source": [
    "#noise_count will deteremine how many augmentations will be created\n",
    "    #noise_count=1 will be a copy with noise augmentation * 0\n",
    "    #noise_count=2 will be noise_count=1 plus a copy with noise augmentation * 1\n",
    "    #noise_count=2 will be noise_count=2 plus a copy with noise augmentation * 2  \n",
    "    #and so on \n",
    "\n",
    "noise_count=4\n",
    "print(\"This will expand the current\", len(filenames), \"files by creating an addtional\",len(filenames)*len(noise_samples)*noise_count, \"noise augmented files, to give a total of\",len(filenames)*len(noise_samples)*(noise_count)+len(filenames),\"files\")"
   ]
  },
  {
   "cell_type": "markdown",
   "id": "38a67c2c",
   "metadata": {},
   "source": [
    "#### Creating Noise Augmentation"
   ]
  },
  {
   "cell_type": "code",
   "execution_count": 12,
   "id": "4a7439dc",
   "metadata": {},
   "outputs": [],
   "source": [
    "#dict holds samples for plotting\n",
    "noise_dict={}\n",
    "for index in range(len(filenames)):\n",
    "    test_wav=filenames[index]\n",
    "    fs, test_wav = wavfile.read(test_wav)\n",
    "    if (len(test_wav) < fs):\n",
    "        padding=fs-len(test_wav)\n",
    "        extra_padding=np.zeros(padding).astype(np.int16) #array of empty audio to pad with\n",
    "        test_wav=np.concatenate((test_wav,extra_padding),axis=0).astype(np.int16)\n",
    "    noise_dict[0]=test_wav.astype(np.int16)\n",
    "    for i in range(len(noise_samples)):\n",
    "        noise=noise_samples[i]\n",
    "        fs, noise = wavfile.read(noise)\n",
    "        for j in range(noise_count):\n",
    "            noise_multiplier=round(max(test_wav)*(j/2000))\n",
    "            noise_lvl=noise*noise_multiplier\n",
    "            test_wave_with_noise=np.add(test_wav,noise_lvl)\n",
    "            current_name = str(keyword_directory) + str(keyword)+f\"_Sample{index}_Noise{i}_Multiplier{j}.wav\"\n",
    "            write(current_name, fs, test_wave_with_noise)\n",
    "            noise_dict[j+1]=test_wave_with_noise.astype(np.int16)\n",
    "            noise_dict[j+5]=noise_lvl.astype(np.int16)"
   ]
  },
  {
   "cell_type": "markdown",
   "id": "b98b9b33",
   "metadata": {},
   "source": [
    "#### Plotting noise augmenation"
   ]
  },
  {
   "cell_type": "code",
   "execution_count": 13,
   "id": "b2ce4418",
   "metadata": {},
   "outputs": [
    {
     "ename": "KeyError",
     "evalue": "5",
     "output_type": "error",
     "traceback": [
      "\u001b[0;31m---------------------------------------------------------------------------\u001b[0m",
      "\u001b[0;31mKeyError\u001b[0m                                  Traceback (most recent call last)",
      "Cell \u001b[0;32mIn[13], line 4\u001b[0m\n\u001b[1;32m      2\u001b[0m fig, axs \u001b[38;5;241m=\u001b[39m plt\u001b[38;5;241m.\u001b[39msubplots(\u001b[38;5;241m4\u001b[39m, \u001b[38;5;241m4\u001b[39m,figsize\u001b[38;5;241m=\u001b[39m(\u001b[38;5;241m20\u001b[39m,\u001b[38;5;241m10\u001b[39m), sharex\u001b[38;5;241m=\u001b[39m\u001b[38;5;28;01mTrue\u001b[39;00m,sharey\u001b[38;5;241m=\u001b[39m\u001b[38;5;28;01mTrue\u001b[39;00m)\n\u001b[1;32m      3\u001b[0m axs[\u001b[38;5;241m0\u001b[39m,\u001b[38;5;241m0\u001b[39m]\u001b[38;5;241m.\u001b[39mplot(np\u001b[38;5;241m.\u001b[39marange(\u001b[38;5;241m1\u001b[39m\u001b[38;5;241m*\u001b[39mfs)\u001b[38;5;241m/\u001b[39mfs, noise_dict[\u001b[38;5;241m0\u001b[39m])\n\u001b[0;32m----> 4\u001b[0m axs[\u001b[38;5;241m0\u001b[39m,\u001b[38;5;241m1\u001b[39m]\u001b[38;5;241m.\u001b[39mplot(np\u001b[38;5;241m.\u001b[39marange(\u001b[38;5;241m1\u001b[39m\u001b[38;5;241m*\u001b[39mfs)\u001b[38;5;241m/\u001b[39mfs, \u001b[43mnoise_dict\u001b[49m\u001b[43m[\u001b[49m\u001b[38;5;241;43m5\u001b[39;49m\u001b[43m]\u001b[49m, \u001b[38;5;124m'\u001b[39m\u001b[38;5;124mtab:orange\u001b[39m\u001b[38;5;124m'\u001b[39m)\n\u001b[1;32m      5\u001b[0m axs[\u001b[38;5;241m0\u001b[39m,\u001b[38;5;241m2\u001b[39m]\u001b[38;5;241m.\u001b[39mplot(np\u001b[38;5;241m.\u001b[39marange(\u001b[38;5;241m1\u001b[39m\u001b[38;5;241m*\u001b[39mfs)\u001b[38;5;241m/\u001b[39mfs, noise_dict[\u001b[38;5;241m0\u001b[39m])\n\u001b[1;32m      6\u001b[0m axs[\u001b[38;5;241m0\u001b[39m,\u001b[38;5;241m2\u001b[39m]\u001b[38;5;241m.\u001b[39mplot(np\u001b[38;5;241m.\u001b[39marange(\u001b[38;5;241m1\u001b[39m\u001b[38;5;241m*\u001b[39mfs)\u001b[38;5;241m/\u001b[39mfs, noise_dict[\u001b[38;5;241m5\u001b[39m])\n",
      "\u001b[0;31mKeyError\u001b[0m: 5"
     ]
    },
    {
     "data": {
      "image/png": "[encoded data removed]",
      "text/plain": [
       "<Figure size 2000x1000 with 16 Axes>"
      ]
     },
     "metadata": {},
     "output_type": "display_data"
    }
   ],
   "source": [
    "#Only plots up to noise lvl 3\n",
    "fig, axs = plt.subplots(4, 4,figsize=(20,10), sharex=True,sharey=True)\n",
    "axs[0,0].plot(np.arange(1*fs)/fs, noise_dict[0])\n",
    "axs[0,1].plot(np.arange(1*fs)/fs, noise_dict[5], 'tab:orange')\n",
    "axs[0,2].plot(np.arange(1*fs)/fs, noise_dict[0])\n",
    "axs[0,2].plot(np.arange(1*fs)/fs, noise_dict[5])\n",
    "axs[0,3].plot(np.arange(1*fs)/fs, noise_dict[1])\n",
    "\n",
    "axs[0, 0].set_title(\"Original\")\n",
    "axs[0, 1].set_title(\"Noise\")\n",
    "axs[0, 2].set_title(\"Original + Noise\")\n",
    "axs[0, 3].set_title(\"Augmented Audio\")\n",
    "\n",
    "axs[0, 0].set(xlabel='Time (s)', ylabel='Noise lvl 0')\n",
    "axs[1, 0].set(xlabel='Time (s)', ylabel='Noise lvl 1')\n",
    "axs[2, 0].set(xlabel='Time (s)', ylabel='Noise lvl 2')\n",
    "axs[3, 0].set(xlabel='Time (s)', ylabel='Noise lvl 3')\n",
    "\n",
    "axs[1,0].plot(np.arange(1*fs)/fs, noise_dict[0])\n",
    "axs[1,1].plot(np.arange(1*fs)/fs, noise_dict[6], 'tab:orange')\n",
    "axs[1,2].plot(np.arange(1*fs)/fs, noise_dict[0])\n",
    "axs[1,2].plot(np.arange(1*fs)/fs, noise_dict[6])\n",
    "axs[1,3].plot(np.arange(1*fs)/fs, noise_dict[2])\n",
    "\n",
    "axs[2,0].plot(np.arange(1*fs)/fs, noise_dict[0])\n",
    "axs[2,1].plot(np.arange(1*fs)/fs, noise_dict[7], 'tab:orange')\n",
    "axs[2,2].plot(np.arange(1*fs)/fs, noise_dict[0])\n",
    "axs[2,2].plot(np.arange(1*fs)/fs, noise_dict[7])\n",
    "axs[2,3].plot(np.arange(1*fs)/fs, noise_dict[3])\n",
    "\n",
    "axs[3,0].plot(np.arange(1*fs)/fs, noise_dict[0])\n",
    "axs[3,1].plot(np.arange(1*fs)/fs, noise_dict[8], 'tab:orange')\n",
    "axs[3,2].plot(np.arange(1*fs)/fs, noise_dict[0])\n",
    "axs[3,2].plot(np.arange(1*fs)/fs, noise_dict[8])\n",
    "axs[3,3].plot(np.arange(1*fs)/fs, noise_dict[4])\n",
    "\n",
    "for ax in axs.flat:\n",
    "    ax.set(xlabel='Time (s)')\n",
    "\n",
    "# Hide x labels and tick labels for top plots and y ticks for right plots.\n",
    "for ax in axs.flat:\n",
    "    ax.label_outer()"
   ]
  },
  {
   "cell_type": "markdown",
   "id": "f85f4855",
   "metadata": {},
   "source": [
    "#### Listen to noise augmenation"
   ]
  },
  {
   "cell_type": "code",
   "execution_count": null,
   "id": "43c692f3",
   "metadata": {},
   "outputs": [],
   "source": [
    "#Only samples up to noise lvl 3\n",
    "from IPython.display import Audio \n",
    "from IPython.display import display\n",
    "\n",
    "print(\"Noise lvl 0:\")\n",
    "display(Audio(noise_dict[0], rate=fs))\n",
    "print(\"Noise lvl 1:\")\n",
    "display(Audio(noise_dict[2], rate=fs))\n",
    "print(\"Noise lvl 2:\")\n",
    "display(Audio(noise_dict[3], rate=fs))\n",
    "print(\"Noise lvl 3:\")\n",
    "display(Audio(noise_dict[4], rate=fs))"
   ]
  },
  {
   "cell_type": "raw",
   "id": "87ac19ac",
   "metadata": {},
   "source": []
  },
  {
   "cell_type": "raw",
   "id": "84c5fac5",
   "metadata": {},
   "source": []
  },
  {
   "cell_type": "markdown",
   "id": "2290394e",
   "metadata": {},
   "source": [
    "# Audio Augmentation- Time Shift\n",
    "    * This will create copies of sample audio and shift them forward or backward in time in 1/8s increments \n",
    "    * The \"empty space\" created by the time shift is filled with artificial noise (created in cell 12)"
   ]
  },
  {
   "cell_type": "code",
   "execution_count": null,
   "id": "2bcb05e6",
   "metadata": {},
   "outputs": [],
   "source": [
    "#Need to update filenames\n",
    "data_dir = dir\n",
    "filenames = tf.io.gfile.glob(str(data_dir) + '/*.wav')\n",
    "#Testing if audio data imported correctly\n",
    "filenames[0]\n",
    "test_wav=filenames[0]\n",
    "fs, test_wav = wavfile.read(test_wav)\n",
    "plt.plot(np.arange(1*fs)/fs, test_wav)\n",
    "plt.show()\n",
    "ipd.Audio(test_wav, rate=fs)"
   ]
  },
  {
   "cell_type": "code",
   "execution_count": null,
   "id": "dccb71b9",
   "metadata": {},
   "outputs": [],
   "source": [
    "#initializing variables for 1/8th second time shifts\n",
    "one_eighth=int((sample_rate/8)) #16k sample rate means 2k for 1/8s\n",
    "padding=one_eighth #Number of samples to pad\n",
    "#zero_padding=np.zeros(padding).astype(np.int16) #array of empty audio to pad with\n",
    "noise_lvl_min=-200 #about the min for quiet room when measured with get audio code above\n",
    "noise_lvl_max=200 #about the max for quiet room when measured with get audio code above\n",
    "noise_padding=np.random.randint(noise_lvl_min,noise_lvl_max+1,padding) #makes random noise"
   ]
  },
  {
   "cell_type": "markdown",
   "id": "1b271b2a",
   "metadata": {},
   "source": [
    "#### Set Augment count"
   ]
  },
  {
   "cell_type": "code",
   "execution_count": null,
   "id": "44ee063e",
   "metadata": {},
   "outputs": [],
   "source": [
    "#how many of each type of time shift is desired..in 1/8s increments\n",
    "#suggest following bell curve with center being zero_shift and left_3/right_3 being the extremes\n",
    "\n",
    "left_3=1\n",
    "left_2=2\n",
    "left_1=2\n",
    "zero_shift=2\n",
    "right_1=2\n",
    "right_2=2\n",
    "right_3=1\n",
    "\n",
    "total=zero_shift+right_3+right_2+right_1+left_3+left_2+left_1"
   ]
  },
  {
   "cell_type": "code",
   "execution_count": null,
   "id": "77bf71ab",
   "metadata": {
    "scrolled": true
   },
   "outputs": [],
   "source": [
    "print(\"This will expand the current\", len(filenames), \"files by creating an addtional\",len(filenames)*total, \"time shifted files, to give a total of\",len(filenames)*(total+1),\"files\")"
   ]
  },
  {
   "cell_type": "markdown",
   "id": "cfdc3cbe",
   "metadata": {},
   "source": [
    "#### Time Shift Augment"
   ]
  },
  {
   "cell_type": "code",
   "execution_count": null,
   "id": "1a648746",
   "metadata": {},
   "outputs": [],
   "source": [
    "#creates dictionary to hold audio for data visualization\n",
    "audio_dict={}\n",
    "\n",
    "##This will randomize audio samples\n",
    "#random_list = list(range(0, len(filenames))) #create array [1,2,3...]\n",
    "#random.shuffle(random_list) #randomize the array\n",
    "\n",
    "#This will reverse the list so the element printed in next cell shows augmentation to original sample\n",
    "random_list = list(range(0, len(filenames))) #create array [1,2,3...]\n",
    "random_list.reverse() #randomize the array\n",
    "\n",
    "#runs 5x shifts audio from original to left by .5sec in 1/8s increments\n",
    "for index in range(len(filenames)):\n",
    "    test_wav=filenames[random_list[index]]\n",
    "    fs, test_wav = wavfile.read(test_wav)\n",
    "    audio_dict[0]=test_wav.astype(np.int16)#dict[0] holds original audio\n",
    "    test_wav_decrease = test_wav #creating copy to be manipulated \n",
    "    test_wav_increase = test_wav #creating copy to be manipulated\n",
    "    \n",
    "    #shift audio to left in 1/8s increments\n",
    "    for j in range(1,4):#dict 1-4 hold shifted audio (change 4 to 5 to make 1/2s shift)\n",
    "        for i in range (one_eighth):\n",
    "            test_wav_decrease=np.delete(test_wav_decrease,0)\n",
    "        test_wav_decrease=np.concatenate((test_wav_decrease,noise_padding),axis=0).astype(np.int16)\n",
    "        audio_dict[j]=test_wav_decrease.astype(np.int16)\n",
    "        if (j==1):\n",
    "            for p in range(left_1): #creates left_1 copys shifted left 1/8s\n",
    "                current_name = str(keyword_directory) + str(keyword)+f\"_Sample{index}_LShift{j}_{p}.wav\"\n",
    "                write(current_name, fs, test_wav_decrease)\n",
    "        if (j==2):\n",
    "            for p in range(left_2): #creates left_2 copys shifted left 2/8s\n",
    "                current_name = str(keyword_directory) + str(keyword)+f\"_Sample{index}_LShift{j}_{p}.wav\"\n",
    "                write(current_name, fs, test_wav_decrease)\n",
    "        if (j==3):\n",
    "            for p in range(left_3): #creates left_3 copy shifted left 3/8s\n",
    "                current_name = str(keyword_directory) + str(keyword)+f\"_Sample{index}_LShift{j}_{p}.wav\"\n",
    "                write(current_name, fs, test_wav_decrease)\n",
    "\n",
    "    \n",
    "    #shift audio to right in 1/8s increments\n",
    "    for k in range(6,9):\n",
    "        #pad zeros to front\n",
    "        test_wav_increase=np.concatenate((noise_padding,test_wav_increase),axis=0)\n",
    "        #delete data past 16k samples\n",
    "        for d in range(sample_rate,len(test_wav_increase)):\n",
    "            test_wav_increase=np.delete(test_wav_increase,sample_rate,0).astype(np.int16)\n",
    "        audio_dict[k]=test_wav_increase\n",
    "        if (k==6):\n",
    "            for p in range(right_1): #creates right_1 copys shifted right 1/8s\n",
    "                current_name = str(keyword_directory) + str(keyword)+f\"_Sample{index}_RShift{k-5}_{p}.wav\"\n",
    "                write(current_name, fs, test_wav_decrease)\n",
    "        if (k==7):\n",
    "            for p in range(right_2): #creates right_2 copys shifted right 2/8s\n",
    "                current_name = str(keyword_directory) + str(keyword)+f\"_Sample{index}_RShift{k-5}_{p}.wav\"\n",
    "                write(current_name, fs, test_wav_decrease)\n",
    "        if (k==8):\n",
    "            for p in range(right_3): #creates right_3 copy shifted right 3/8s\n",
    "                current_name = str(keyword_directory) + str(keyword)+f\"_Sample{index}_RShift{k-5}_{p}.wav\"\n",
    "                write(current_name, fs, test_wav_decrease)\n",
    "    for l in range(zero_shift):\n",
    "        current_name = str(keyword_directory) + str(keyword)+f\"_Sample{index}_NoShift_{l}.wav\"\n",
    "        write(current_name, fs, test_wav)"
   ]
  },
  {
   "cell_type": "markdown",
   "id": "8b47f189",
   "metadata": {},
   "source": [
    "#### Plot time shifted audio"
   ]
  },
  {
   "cell_type": "code",
   "execution_count": null,
   "id": "175891fa",
   "metadata": {},
   "outputs": [],
   "source": [
    "#commented out is for half second shift if desired\n",
    "\n",
    "fig = plt.figure(constrained_layout=True)\n",
    "axs = fig.add_gridspec(3, 3)\n",
    "\n",
    "f_ax0 = fig.add_subplot(axs[0, 1])\n",
    "f_ax1 = fig.add_subplot(axs[1, 0])\n",
    "f_ax2 = fig.add_subplot(axs[1, 1])\n",
    "f_ax3 = fig.add_subplot(axs[1, 2])\n",
    "# f_ax4 = fig.add_subplot(axs[2, 3])\n",
    "f_ax6 = fig.add_subplot(axs[2, 0])\n",
    "f_ax7 = fig.add_subplot(axs[2, 1])\n",
    "f_ax8 = fig.add_subplot(axs[2, 2])\n",
    "# f_ax9 = fig.add_subplot(axs[3, 3])\n",
    "\n",
    "f_ax0.plot(np.arange(1*fs)/fs, audio_dict[0])\n",
    "f_ax1.plot(np.arange(1*fs)/fs, audio_dict[1])\n",
    "f_ax2.plot(np.arange(1*fs)/fs, audio_dict[2])\n",
    "f_ax3.plot(np.arange(1*fs)/fs, audio_dict[3])\n",
    "# f_ax4.plot(np.arange(1*fs)/fs, audio_dict[4])\n",
    "f_ax6.plot(np.arange(1*fs)/fs, audio_dict[6])\n",
    "f_ax7.plot(np.arange(1*fs)/fs, audio_dict[7])\n",
    "f_ax8.plot(np.arange(1*fs)/fs, audio_dict[8])\n",
    "# f_ax9.plot(np.arange(1*fs)/fs, audio_dict[9])\n",
    "\n",
    "f_ax0.set_title('Original')\n",
    "f_ax1.set_title('Shifted left 1/8')\n",
    "f_ax2.set_title('Shifted left 1/4')\n",
    "f_ax3.set_title('Shifted left 3/8')\n",
    "# f_ax4.set_title('Shifted left 1/2')\n",
    "f_ax6.set_title('Shifted right 1/8')\n",
    "f_ax7.set_title('Shifted right 1/4')\n",
    "f_ax8.set_title('Shifted right 3/8')\n",
    "# f_ax9.set_title('Shifted right 1/2')\n",
    "fig.set_size_inches(18.5, 10.5, forward=True)\n",
    "pass"
   ]
  },
  {
   "cell_type": "markdown",
   "id": "2a5ec8e7",
   "metadata": {},
   "source": [
    "#### Listen to time shifted Audio"
   ]
  },
  {
   "cell_type": "code",
   "execution_count": null,
   "id": "74f81651",
   "metadata": {},
   "outputs": [],
   "source": [
    "from IPython.display import Audio \n",
    "from IPython.display import display\n",
    "\n",
    "print(\"Original:\")\n",
    "display(Audio(audio_dict[0], rate=fs))\n",
    "print(\"Shifted left 1/8:\")\n",
    "display(Audio(audio_dict[1], rate=fs))\n",
    "print(\"Shifted left 1/4:\")\n",
    "display(Audio(audio_dict[2], rate=fs))\n",
    "print(\"Shifted left 3/8:\")\n",
    "display(Audio(audio_dict[3], rate=fs))\n",
    "# print(\"Shifted left 1/2:\")\n",
    "# display(Audio(audio_dict[4], rate=fs))\n",
    "print(\"Shifted right 1/8:\")\n",
    "display(Audio(audio_dict[6], rate=fs))\n",
    "print(\"Shifted right 1/4:\")\n",
    "display(Audio(audio_dict[7], rate=fs))\n",
    "print(\"Shifted right 3/8:\")\n",
    "display(Audio(audio_dict[8], rate=fs))\n",
    "# print(\"Shifted right 1/2:\")\n",
    "# display(Audio(audio_dict[9], rate=fs))"
   ]
  },
  {
   "cell_type": "raw",
   "id": "f79480e0",
   "metadata": {},
   "source": []
  },
  {
   "cell_type": "raw",
   "id": "ffbb93cf",
   "metadata": {},
   "source": []
  },
  {
   "cell_type": "markdown",
   "id": "8b2f40a1",
   "metadata": {},
   "source": [
    "# Audio Augmentation- Pitch Shift\n",
    "    * This will create copies of sample audio and pitch shift them\n",
    "    * The variable *pitch_shift* allows control over pitch\n",
    "    * The variable *desired_number_of_files* allows control of exactly how many samples to create\n",
    "    * The loop will continue creating copies until desired count is reached, including pitch shifting already pitch shifted copies"
   ]
  },
  {
   "cell_type": "code",
   "execution_count": null,
   "id": "169e2afb",
   "metadata": {},
   "outputs": [],
   "source": [
    "#Need to update filenames\n",
    "data_dir = dir\n",
    "filenames = tf.io.gfile.glob(str(data_dir) + '/*.wav')\n",
    "#Testing if audio data imported correctly\n",
    "filenames[0]\n",
    "test_wav=filenames[0]\n",
    "fs, test_wav = wavfile.read(test_wav)\n",
    "plt.plot(np.arange(1*fs)/fs, test_wav)\n",
    "plt.show()\n",
    "ipd.Audio(test_wav, rate=fs)"
   ]
  },
  {
   "cell_type": "code",
   "execution_count": null,
   "id": "daf0ab90",
   "metadata": {},
   "outputs": [],
   "source": [
    "print(\"The current number of files in directory is\", len(filenames))"
   ]
  },
  {
   "cell_type": "markdown",
   "id": "aee19898",
   "metadata": {},
   "source": [
    "#### Set Augment count"
   ]
  },
  {
   "cell_type": "code",
   "execution_count": null,
   "id": "59406c74",
   "metadata": {},
   "outputs": [],
   "source": [
    "#How many of the files do you want to have total?\n",
    "desired_number_of_files=100\n",
    "\n",
    "#How do you want to pitch shift\n",
    "    #positive=high pitch, negative = low pitch\n",
    "    #0.25 is a good value\n",
    "pitch_shift=0.25"
   ]
  },
  {
   "cell_type": "raw",
   "id": "9a226b7f",
   "metadata": {},
   "source": []
  },
  {
   "cell_type": "markdown",
   "id": "faa7c992",
   "metadata": {},
   "source": [
    "### Doubling Equation:   \n",
    "> $output=input * 2^{x}$\n",
    "\n",
    "*Here $x$ is the number of times input is doubled\n",
    "\n",
    "#### To get desired number of output files from input when loop doubles input every iteration of the for loop we solve for $x$:\n",
    "   \n",
    "> $x=\\log _{2}(\\frac{out}{in})$\\\n",
    "  $x=\\frac{\\ln (\\frac{out}{in})} {\\ln (2)}$\n",
    "                 \n",
    "#### Next $math.ceil()$ is used to round up to integer for loop iteration\n",
    "\n",
    "> $x=$ math.ceil$(\\frac{\\ln (out)}{\\ln (in)})$"
   ]
  },
  {
   "cell_type": "code",
   "execution_count": null,
   "id": "66f888ea",
   "metadata": {},
   "outputs": [],
   "source": [
    "#Doubling formula used to find range for outer for loop indexing with \"i\"\n",
    "outer_range= math.ceil((np.log(desired_number_of_files / len(filenames)) / np.log(2) ))\n",
    "outer_range"
   ]
  },
  {
   "cell_type": "markdown",
   "id": "50d116a7",
   "metadata": {},
   "source": [
    "#### Pitch Augmentation"
   ]
  },
  {
   "cell_type": "code",
   "execution_count": null,
   "id": "909afc96",
   "metadata": {},
   "outputs": [],
   "source": [
    "#replace line 11 with comment below if you want to create a custom # < len(filenames)...\n",
    "#                                                    ...comment out if statements and speed will improve significantly\n",
    "#for index in range(40000): \n",
    "\n",
    "pitch_dict={}\n",
    "for i in range(outer_range):\n",
    "    for index in range(len(filenames)):\n",
    "        test_wav=filenames[index]\n",
    "        fs, test_wav = wavfile.read(test_wav)\n",
    "        if i==0:\n",
    "            pitch_dict[i]=test_wav\n",
    "        test_wav_float=test_wav.astype(float)\n",
    "        test_wav_pitch_shifted = librosa.effects.pitch_shift(test_wav_float, sr=sample_rate, n_steps=pitch_shift*(i+1))\n",
    "        test_wav_pitch_shifted_int=test_wav_pitch_shifted.astype(np.int16)\n",
    "        current_name = str(keyword_directory)+str(keyword) +f\"_Pitch_Shift_{i}_{index}.wav\"    \n",
    "        write(current_name, fsamp, test_wav_pitch_shifted_int)\n",
    "\n",
    "        files_in_folder=len(tf.io.gfile.glob(str(data_dir) + '/*.wav'))\n",
    "        pitch_dict[i+1]=test_wav_pitch_shifted_int\n",
    "        if (files_in_folder >= desired_number_of_files):\n",
    "            break \n",
    "    filenames = tf.io.gfile.glob(str(data_dir) + '/*.wav')\n",
    "    #update filenames with newly created files    \n",
    "    if (files_in_folder >= desired_number_of_files):\n",
    "        break \n",
    "print(\"Congratulations, the current number of files in directory is\", len(filenames))"
   ]
  },
  {
   "cell_type": "markdown",
   "id": "cf4aea1e",
   "metadata": {},
   "source": [
    "#### Plot Pitch Shift"
   ]
  },
  {
   "cell_type": "code",
   "execution_count": null,
   "id": "4eff61ed",
   "metadata": {},
   "outputs": [],
   "source": [
    "fig = plt.figure(constrained_layout=True)\n",
    "axs = fig.add_gridspec(3, 3)\n",
    "\n",
    "f_ax0 = fig.add_subplot(axs[0, 1])\n",
    "f_ax1 = fig.add_subplot(axs[1, 0])\n",
    "f_ax2 = fig.add_subplot(axs[1, 1])\n",
    "f_ax3 = fig.add_subplot(axs[1, 2])\n",
    "f_ax4 = fig.add_subplot(axs[2, 0])\n",
    "f_ax5 = fig.add_subplot(axs[2, 1])\n",
    "f_ax6 = fig.add_subplot(axs[2, 2])\n",
    "\n",
    "f_ax0.plot(np.arange(1*fs)/fs, pitch_dict[0])\n",
    "f_ax0.set_title('Original')\n",
    "\n",
    "if outer_range>1:\n",
    "    f_ax1.plot(np.arange(1*fs)/fs, pitch_dict[1])\n",
    "    f_ax1.set_title('Pitch Shift lvl 1')\n",
    "if outer_range>2:\n",
    "    f_ax2.plot(np.arange(1*fs)/fs, pitch_dict[2])\n",
    "    f_ax2.set_title('Pitch Shift lvl 2')\n",
    "if outer_range>3:\n",
    "    f_ax3.plot(np.arange(1*fs)/fs, pitch_dict[3])\n",
    "    f_ax3.set_title('Pitch Shift lvl 3')\n",
    "if outer_range>4:\n",
    "    f_ax4.plot(np.arange(1*fs)/fs, pitch_dict[4])\n",
    "    f_ax4.set_title('Pitch Shift lvl 4')\n",
    "if outer_range>5:\n",
    "    f_ax5.plot(np.arange(1*fs)/fs, pitch_dict[5])\n",
    "    f_ax5.set_title('Pitch Shift lvl 5')\n",
    "if outer_range>6:\n",
    "    f_ax6.plot(np.arange(1*fs)/fs, pitch_dict[6])\n",
    "    f_ax6.set_title('Pitch Shift lvl 6')\n",
    "\n",
    "fig.set_size_inches(18.5, 10.5, forward=True)\n",
    "pass"
   ]
  },
  {
   "cell_type": "markdown",
   "id": "ba23c715",
   "metadata": {},
   "source": [
    "#### Listen to Pitch Shift"
   ]
  },
  {
   "cell_type": "code",
   "execution_count": null,
   "id": "dfb33348",
   "metadata": {},
   "outputs": [],
   "source": [
    "from IPython.display import Audio \n",
    "from IPython.display import display\n",
    "\n",
    "print(\"Original:\")\n",
    "display(Audio(pitch_dict[0], rate=fs))\n",
    "\n",
    "if outer_range>1:\n",
    "    print(\"Pitch Shift lvl 1\")\n",
    "    display(Audio(pitch_dict[1], rate=fs))\n",
    "if outer_range>2:\n",
    "    print(\"Pitch Shift lvl 2\")\n",
    "    display(Audio(pitch_dict[2], rate=fs))\n",
    "if outer_range>3:\n",
    "    print(\"Pitch Shift lvl 3\")\n",
    "    display(Audio(pitch_dict[3], rate=fs))\n",
    "if outer_range>4:\n",
    "    print(\"Pitch Shift lvl 4\")\n",
    "    display(Audio(pitch_dict[3], rate=fs))\n",
    "if outer_range>5:\n",
    "    print(\"Pitch Shift lvl 5\")\n",
    "    display(Audio(pitch_dict[4], rate=fs))\n",
    "if outer_range>6:\n",
    "    print(\"Pitch Shift lvl 6\")\n",
    "    display(Audio(pitch_dict[5], rate=fs))"
   ]
  },
  {
   "cell_type": "raw",
   "id": "b37b90c1",
   "metadata": {},
   "source": []
  },
  {
   "cell_type": "markdown",
   "id": "d490e2a9",
   "metadata": {},
   "source": [
    "# Write augmented data files to testing and validation .txt file "
   ]
  },
  {
   "cell_type": "code",
   "execution_count": null,
   "id": "af5ed844",
   "metadata": {},
   "outputs": [],
   "source": [
    "#Need to update filenames\n",
    "data_dir = dir\n",
    "filenames = tf.io.gfile.glob(str(data_dir) + '/*.wav')"
   ]
  },
  {
   "cell_type": "code",
   "execution_count": null,
   "id": "6b97fbb8",
   "metadata": {},
   "outputs": [],
   "source": [
    "#Verifying opens files correctly\n",
    "filenames[0]"
   ]
  },
  {
   "cell_type": "code",
   "execution_count": null,
   "id": "14699aa5",
   "metadata": {},
   "outputs": [],
   "source": [
    "num_files=len(filenames)\n",
    "num_files\n",
    "print(\"Total files:\", num_files)"
   ]
  },
  {
   "cell_type": "code",
   "execution_count": null,
   "id": "802e4e94",
   "metadata": {},
   "outputs": [],
   "source": [
    "#randomizes order of samples for validation list\n",
    "random_list = list(range(0, num_files)) #create array [1,2,3...]\n",
    "random.shuffle(random_list) #randomize the array"
   ]
  },
  {
   "cell_type": "code",
   "execution_count": null,
   "id": "2f497c9e",
   "metadata": {},
   "outputs": [],
   "source": [
    "#will write to file in form: keyword_folder/audio_sample\n",
    "from pathlib import Path\n",
    "\n",
    "#Set directory for validation list\n",
    "dir_path = Path(os.getcwd()) #current directory\n",
    "\n",
    "file_name = 'validation_list.txt'\n",
    "\n",
    "#How many files to add to document?\n",
    "add_val_num=5\n",
    "\n",
    "# check if directory exists\n",
    "#copys over files to the validation document\n",
    "if dir_path.is_dir():\n",
    "    f = open (dir_path.joinpath(file_name),'a')\n",
    "    filenames = tf.io.gfile.glob(str(data_dir) + '/*.wav')\n",
    "    for i in range(add_val_num):\n",
    "        f.write('\\n'+keyword+'\\\\'+ os.path.basename(filenames[random_list[i]]))\n",
    "    f.close()\n",
    "    print(add_val_num, keyword, \"samples added to\", file_name)\n",
    "else:\n",
    "    print('Directory doesnt exist')"
   ]
  },
  {
   "cell_type": "raw",
   "id": "eb42ff9d",
   "metadata": {},
   "source": []
  },
  {
   "cell_type": "markdown",
   "id": "ba2a3559",
   "metadata": {},
   "source": [
    "# Additional Augmentations\n",
    "    *These change volume\n",
    "    *Still needs work, suggest staying with previous augmentations"
   ]
  },
  {
   "cell_type": "code",
   "execution_count": null,
   "id": "8497a423",
   "metadata": {},
   "outputs": [],
   "source": [
    "#load data\n",
    "data_dir = dir\n",
    "filenames = tf.io.gfile.glob(str(data_dir) + '/*.wav')\n",
    "#Testing if audio data imported correctly\n",
    "test_wav=filenames[0]\n",
    "fs, test_wav = wavfile.read(test_wav)\n",
    "plt.plot(np.arange(1*fs)/fs, test_wav)\n",
    "plt.show()\n",
    "ipd.Audio(test_wav, rate=fs)"
   ]
  },
  {
   "cell_type": "code",
   "execution_count": null,
   "id": "1e6ef568",
   "metadata": {
    "scrolled": true
   },
   "outputs": [],
   "source": [
    "print(\"Sample count:\", len(filenames))"
   ]
  },
  {
   "cell_type": "markdown",
   "id": "9163aaad",
   "metadata": {},
   "source": [
    "#### Icrease audio sample amplitude by multiplier"
   ]
  },
  {
   "cell_type": "code",
   "execution_count": null,
   "id": "f5aa6002",
   "metadata": {},
   "outputs": [],
   "source": [
    "#Increases existing audios volume/amplitue \n",
    "multiplier=3\n",
    "for i in range(1,multiplier):\n",
    "    for index in range(len(filenames)):\n",
    "            test_wav=filenames[index]\n",
    "            fs, test_wav = wavfile.read(test_wav)\n",
    "            sound=test_wav*(i)\n",
    "            sound_normalized=sound.astype(np.int16)\n",
    "            current_name = str(keyword_directory) + str(keyword)+f\"noiseLVL_{i}_{index}.wav\" \n",
    "            write(current_name, fsamp, sound_normalized)\n",
    "\n",
    "data_dir = dir\n",
    "filenames = tf.io.gfile.glob(str(data_dir) + '/*.wav')\n",
    "print(\"Multiplier complete\")\n",
    "print(\"Sample count:\", len(filenames))"
   ]
  },
  {
   "cell_type": "code",
   "execution_count": null,
   "id": "ba01f92e",
   "metadata": {},
   "outputs": [],
   "source": []
  },
  {
   "cell_type": "code",
   "execution_count": null,
   "id": "aa3ba5bf",
   "metadata": {},
   "outputs": [],
   "source": [
    "test_wav=filenames[250]\n",
    "fs, test_wav = wavfile.read(test_wav)\n",
    "plt.plot(np.arange(1*fs)/fs, test_wav)\n",
    "plt.show()\n",
    "ipd.Audio(test_wav, rate=fs)"
   ]
  },
  {
   "cell_type": "markdown",
   "id": "757f9062",
   "metadata": {},
   "source": [
    "#### Normalize to specific amplitude level"
   ]
  },
  {
   "cell_type": "code",
   "execution_count": null,
   "id": "01e682e1",
   "metadata": {},
   "outputs": [],
   "source": [
    "noise_level=12000\n",
    "for index in range(len(filenames)):\n",
    "        test_wav=filenames[index]\n",
    "        fs, test_wav = wavfile.read(test_wav)\n",
    "        sound = test_wav*(noise_level/max(test_wav))\n",
    "        sound_normalized=sound.astype(np.int16)\n",
    "        current_name = str(keyword_directory) + str(keyword)+f\"_{index}.wav\" \n",
    "        #current_name = filenames[index]\n",
    "        write(current_name, fsamp, sound_normalized)\n",
    "        if ((index%10)==0):\n",
    "            print(f\"{index}/{len(filenames)} complete\")"
   ]
  },
  {
   "cell_type": "code",
   "execution_count": null,
   "id": "e643c9d2",
   "metadata": {},
   "outputs": [],
   "source": [
    "test_wav=filenames[250]\n",
    "fs, test_wav = wavfile.read(test_wav)\n",
    "plt.plot(np.arange(1*fs)/fs, test_wav)\n",
    "plt.show()\n",
    "ipd.Audio(test_wav, rate=fs)"
   ]
  },
  {
   "cell_type": "code",
   "execution_count": null,
   "id": "98b86325",
   "metadata": {},
   "outputs": [],
   "source": []
  }
 ],
 "metadata": {
  "kernelspec": {
   "display_name": "Python 3 (ipykernel)",
   "language": "python",
   "name": "python3"
  },
  "language_info": {
   "codemirror_mode": {
    "name": "ipython",
    "version": 3
   },
   "file_extension": ".py",
   "mimetype": "text/x-python",
   "name": "python",
   "nbconvert_exporter": "python",
   "pygments_lexer": "ipython3",
   "version": "3.10.6"
  }
 },
 "nbformat": 4,
 "nbformat_minor": 5
}
